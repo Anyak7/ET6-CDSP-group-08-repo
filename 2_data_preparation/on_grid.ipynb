{
 "cells": [
  {
   "cell_type": "markdown",
   "id": "65bf3fb9",
   "metadata": {},
   "source": [
    "# Cleaned- On-Grid Renewable Energy Statistics"
   ]
  },
  {
   "cell_type": "markdown",
   "id": "77e87705",
   "metadata": {},
   "source": [
    "Find the **`raw_data`** folder on [Raw On-Grid: IRENA_Stats_extract_2025_H1_raw.xlsx](https://github.com/MIT-Emerging-Talent/ET6-CDSP-group-08-repo/blob/main/1_datasets/raw_data/IRENA_Stats_extract_2025_H1_raw.xlsx)\n",
    "\n",
    "This script prepares a cleaned version of the on-grid portion of the IRENA dataset, focusing on solar and renewable energy deployment in conflict-affected countries.  \n",
    " Conflicted- Affected Countries (17): **Syria, Iraq, Sudan, South Sudan, Palestine, Mali, Ethiopia, Ukraine, Yemen, Libya, Afghanistan, Nigeria, Central African Republic, Somalia,Pakistan, Mozambique and Myanmar**\n"
   ]
  },
  {
   "cell_type": "markdown",
   "id": "bd63749b",
   "metadata": {},
   "source": [
    "Find the **`Cleaned_data`** folder on [Cleaned On-Grid: IRENA_Stats_extract_2025_H1_raw.xlsx]"
   ]
  },
  {
   "cell_type": "code",
   "execution_count": 1,
   "id": "752d9c9f",
   "metadata": {},
   "outputs": [],
   "source": [
    "import pandas as pd"
   ]
  },
  {
   "cell_type": "markdown",
   "id": "345b170c",
   "metadata": {},
   "source": [
    "### Working on \"Country\" sheet only (relevant to research question)"
   ]
  },
  {
   "cell_type": "code",
   "execution_count": null,
   "id": "62c5b3f3",
   "metadata": {},
   "outputs": [],
   "source": [
    "file_path = r\"C:\\Users\\Lenovo\\Desktop\\IRENA_Stats_extract_2025 H1 (1).xlsx\"\n",
    "df = pd.read_excel(file_path, sheet_name=\"Country\") # Dropping both sheets (Region and Global) as they are not needed\n"
   ]
  },
  {
   "cell_type": "code",
   "execution_count": 36,
   "id": "1536df84",
   "metadata": {},
   "outputs": [
    {
     "name": "stdout",
     "output_type": "stream",
     "text": [
      "   Region       Sub-region  Country ISO3 code  M49 code         RE or Non-RE  \\\n",
      "0  Africa  Northern Africa  Algeria       DZA        12  Total Non-Renewable   \n",
      "1  Africa  Northern Africa  Algeria       DZA        12  Total Non-Renewable   \n",
      "2  Africa  Northern Africa  Algeria       DZA        12  Total Non-Renewable   \n",
      "3  Africa  Northern Africa  Algeria       DZA        12  Total Non-Renewable   \n",
      "4  Africa  Northern Africa  Algeria       DZA        12  Total Non-Renewable   \n",
      "\n",
      "  Group Technology   Technology Sub-Technology        Producer Type  Year  \\\n",
      "0     Fossil fuels  Natural gas    Natural gas  On-grid electricity  2000   \n",
      "1     Fossil fuels  Natural gas    Natural gas  On-grid electricity  2001   \n",
      "2     Fossil fuels  Natural gas    Natural gas  On-grid electricity  2002   \n",
      "3     Fossil fuels  Natural gas    Natural gas  On-grid electricity  2003   \n",
      "4     Fossil fuels  Natural gas    Natural gas  On-grid electricity  2004   \n",
      "\n",
      "   Electricity Installed Capacity (MW)  \n",
      "0                              5459.01  \n",
      "1                              5455.50  \n",
      "2                              5891.01  \n",
      "3                              6013.24  \n",
      "4                              6305.24  \n"
     ]
    }
   ],
   "source": [
    "df.head()\n",
    "print(df.head())\n"
   ]
  },
  {
   "cell_type": "markdown",
   "id": "eb5bc091",
   "metadata": {},
   "source": [
    "### Add a \"Conflict_Status\" column for conflict countries to be filtered"
   ]
  },
  {
   "cell_type": "code",
   "execution_count": 37,
   "id": "cc7366c4",
   "metadata": {},
   "outputs": [],
   "source": [
    "conflict_countries = [\n",
    "    \"Syria\",\n",
    "    \"Iraq\",\n",
    "    \"Sudan (the)\",\n",
    "    \"South Sudan\",\n",
    "    \"Palestine\",\n",
    "    \"Mali\",\n",
    "    \"Ethiopia\",\n",
    "    \"Ukraine\",\n",
    "    \"Yemen\",\n",
    "    \"Libya\",\n",
    "    \"Afghanistan\",\n",
    "    \"Nigeria\",\n",
    "    \"Central African Republic\",\n",
    "    \"Somalia\",\n",
    "    \"Pakistan\",\n",
    "    \"Mozambique\",\n",
    "    \"Myanmar\",\n",
    "]\n",
    "# Filter out conflict countries"
   ]
  },
  {
   "cell_type": "code",
   "execution_count": 38,
   "id": "9d350acc",
   "metadata": {},
   "outputs": [
    {
     "data": {
      "text/html": [
       "<div>\n",
       "<style scoped>\n",
       "    .dataframe tbody tr th:only-of-type {\n",
       "        vertical-align: middle;\n",
       "    }\n",
       "\n",
       "    .dataframe tbody tr th {\n",
       "        vertical-align: top;\n",
       "    }\n",
       "\n",
       "    .dataframe thead th {\n",
       "        text-align: right;\n",
       "    }\n",
       "</style>\n",
       "<table border=\"1\" class=\"dataframe\">\n",
       "  <thead>\n",
       "    <tr style=\"text-align: right;\">\n",
       "      <th></th>\n",
       "      <th>Country</th>\n",
       "      <th>Conflict_Status</th>\n",
       "    </tr>\n",
       "  </thead>\n",
       "  <tbody>\n",
       "    <tr>\n",
       "      <th>0</th>\n",
       "      <td>Algeria</td>\n",
       "      <td>Non-Conflict</td>\n",
       "    </tr>\n",
       "    <tr>\n",
       "      <th>1</th>\n",
       "      <td>Algeria</td>\n",
       "      <td>Non-Conflict</td>\n",
       "    </tr>\n",
       "    <tr>\n",
       "      <th>2</th>\n",
       "      <td>Algeria</td>\n",
       "      <td>Non-Conflict</td>\n",
       "    </tr>\n",
       "    <tr>\n",
       "      <th>3</th>\n",
       "      <td>Algeria</td>\n",
       "      <td>Non-Conflict</td>\n",
       "    </tr>\n",
       "    <tr>\n",
       "      <th>4</th>\n",
       "      <td>Algeria</td>\n",
       "      <td>Non-Conflict</td>\n",
       "    </tr>\n",
       "    <tr>\n",
       "      <th>5</th>\n",
       "      <td>Algeria</td>\n",
       "      <td>Non-Conflict</td>\n",
       "    </tr>\n",
       "    <tr>\n",
       "      <th>6</th>\n",
       "      <td>Algeria</td>\n",
       "      <td>Non-Conflict</td>\n",
       "    </tr>\n",
       "    <tr>\n",
       "      <th>7</th>\n",
       "      <td>Algeria</td>\n",
       "      <td>Non-Conflict</td>\n",
       "    </tr>\n",
       "    <tr>\n",
       "      <th>8</th>\n",
       "      <td>Algeria</td>\n",
       "      <td>Non-Conflict</td>\n",
       "    </tr>\n",
       "    <tr>\n",
       "      <th>9</th>\n",
       "      <td>Algeria</td>\n",
       "      <td>Non-Conflict</td>\n",
       "    </tr>\n",
       "  </tbody>\n",
       "</table>\n",
       "</div>"
      ],
      "text/plain": [
       "   Country Conflict_Status\n",
       "0  Algeria    Non-Conflict\n",
       "1  Algeria    Non-Conflict\n",
       "2  Algeria    Non-Conflict\n",
       "3  Algeria    Non-Conflict\n",
       "4  Algeria    Non-Conflict\n",
       "5  Algeria    Non-Conflict\n",
       "6  Algeria    Non-Conflict\n",
       "7  Algeria    Non-Conflict\n",
       "8  Algeria    Non-Conflict\n",
       "9  Algeria    Non-Conflict"
      ]
     },
     "execution_count": 38,
     "metadata": {},
     "output_type": "execute_result"
    }
   ],
   "source": [
    "df[\"Conflict_Status\"] = df[\"Country\"].apply(\n",
    "    lambda x: \"Conflict\" if x in conflict_countries else \"Non-Conflict\"\n",
    ")\n",
    "\n",
    "\n",
    "df[[\"Country\", \"Conflict_Status\"]].head(10)\n"
   ]
  },
  {
   "cell_type": "code",
   "execution_count": 39,
   "id": "1c94b7c7",
   "metadata": {},
   "outputs": [
    {
     "name": "stdout",
     "output_type": "stream",
     "text": [
      " Conflict_Status column added.\n",
      "         Country Conflict_Status\n",
      "0        Algeria    Non-Conflict\n",
      "148        Egypt    Non-Conflict\n",
      "380        Libya        Conflict\n",
      "454      Morocco    Non-Conflict\n",
      "688  Sudan (the)        Conflict\n"
     ]
    }
   ],
   "source": [
    "print(\" Conflict_Status column added.\")\n",
    "print(df[[\"Country\", \"Conflict_Status\"]].drop_duplicates().head(5))\n"
   ]
  },
  {
   "cell_type": "markdown",
   "id": "f37790b6",
   "metadata": {},
   "source": [
    "### Filtered out the years that arent needed \n",
    "_**Project Scope : 2010 - 2024**_"
   ]
  },
  {
   "cell_type": "code",
   "execution_count": 40,
   "id": "cc511eb4",
   "metadata": {},
   "outputs": [
    {
     "name": "stdout",
     "output_type": "stream",
     "text": [
      "[2010 2011 2012 2013 2014 2015 2016 2017 2018 2019 2020 2021 2022 2023\n",
      " 2024]\n"
     ]
    }
   ],
   "source": [
    "df = df[(df[\"Year\"] >= 2010) & (df[\"Year\"] <= 2024)]\n",
    "print(df[\"Year\"].unique()) \n"
   ]
  },
  {
   "cell_type": "markdown",
   "id": "17eb250e",
   "metadata": {},
   "source": [
    "### Filled in missing (null) values if any"
   ]
  },
  {
   "cell_type": "code",
   "execution_count": null,
   "id": "01548476",
   "metadata": {},
   "outputs": [],
   "source": [
    "df[\"Electricity Installed Capacity (MW)\"] = df[\n",
    "    \"Electricity Installed Capacity (MW)\"\n",
    "].fillna(0)\n",
    "# Fill missing numbers (e.g., if electricity capacity is missing, we assume 0)"
   ]
  },
  {
   "cell_type": "code",
   "execution_count": null,
   "id": "678bb6f4",
   "metadata": {},
   "outputs": [],
   "source": [
    "df[\"Producer Type\"] = df[\"Producer Type\"].fillna(\"Unknown\")\n",
    "df[\"Technology\"] = df[\"Technology\"].fillna(\"Unknown\")\n",
    "df[\"Sub-Technology\"] = df[\"Sub-Technology\"].fillna(\"Unknown\")\n",
    "# Fill missing text (e.g., unknown technology or producer type)"
   ]
  },
  {
   "cell_type": "code",
   "execution_count": 45,
   "id": "23adf408",
   "metadata": {},
   "outputs": [
    {
     "name": "stdout",
     "output_type": "stream",
     "text": [
      "Empty DataFrame\n",
      "Columns: [Country, Year, Technology, Sub-Technology, Producer Type, Electricity Installed Capacity (MW)]\n",
      "Index: []\n"
     ]
    }
   ],
   "source": [
    "preview = df[\n",
    "    (df[\"Electricity Installed Capacity (MW)\"] == 0)\n",
    "    | (df[\"Producer Type\"] == \"Unknown\")\n",
    "    | (df[\"Technology\"] == \"Unknown\")\n",
    "    | (df[\"Sub-Technology\"] == \"Unknown\")\n",
    "]\n",
    "\n",
    "print(\n",
    "    preview[\n",
    "        [\n",
    "            \"Country\",\n",
    "            \"Year\",\n",
    "            \"Technology\",\n",
    "            \"Sub-Technology\",\n",
    "            \"Producer Type\",\n",
    "            \"Electricity Installed Capacity (MW)\",\n",
    "        ]\n",
    "    ].head(10)\n",
    ")  \n"
   ]
  },
  {
   "cell_type": "markdown",
   "id": "ff4d3feb",
   "metadata": {},
   "source": [
    "### Dropped the \"M49 Code\" column\n",
    "*This column isn't useful for our solar conflict-focused analysis*"
   ]
  },
  {
   "cell_type": "code",
   "execution_count": 33,
   "id": "751f33ab",
   "metadata": {},
   "outputs": [
    {
     "ename": "KeyError",
     "evalue": "\"['M49 code'] not found in axis\"",
     "output_type": "error",
     "traceback": [
      "\u001b[1;31m---------------------------------------------------------------------------\u001b[0m",
      "\u001b[1;31mKeyError\u001b[0m                                  Traceback (most recent call last)",
      "Cell \u001b[1;32mIn[33], line 1\u001b[0m\n\u001b[1;32m----> 1\u001b[0m df\u001b[38;5;241m.\u001b[39mdrop(columns\u001b[38;5;241m=\u001b[39m[\u001b[38;5;124m\"\u001b[39m\u001b[38;5;124mM49 code\u001b[39m\u001b[38;5;124m\"\u001b[39m], inplace\u001b[38;5;241m=\u001b[39m\u001b[38;5;28;01mTrue\u001b[39;00m)\n",
      "File \u001b[1;32mc:\\Users\\Lenovo\\anaconda3\\Lib\\site-packages\\pandas\\core\\frame.py:5581\u001b[0m, in \u001b[0;36mDataFrame.drop\u001b[1;34m(self, labels, axis, index, columns, level, inplace, errors)\u001b[0m\n\u001b[0;32m   5433\u001b[0m \u001b[38;5;28;01mdef\u001b[39;00m \u001b[38;5;21mdrop\u001b[39m(\n\u001b[0;32m   5434\u001b[0m     \u001b[38;5;28mself\u001b[39m,\n\u001b[0;32m   5435\u001b[0m     labels: IndexLabel \u001b[38;5;241m|\u001b[39m \u001b[38;5;28;01mNone\u001b[39;00m \u001b[38;5;241m=\u001b[39m \u001b[38;5;28;01mNone\u001b[39;00m,\n\u001b[1;32m   (...)\u001b[0m\n\u001b[0;32m   5442\u001b[0m     errors: IgnoreRaise \u001b[38;5;241m=\u001b[39m \u001b[38;5;124m\"\u001b[39m\u001b[38;5;124mraise\u001b[39m\u001b[38;5;124m\"\u001b[39m,\n\u001b[0;32m   5443\u001b[0m ) \u001b[38;5;241m-\u001b[39m\u001b[38;5;241m>\u001b[39m DataFrame \u001b[38;5;241m|\u001b[39m \u001b[38;5;28;01mNone\u001b[39;00m:\n\u001b[0;32m   5444\u001b[0m \u001b[38;5;250m    \u001b[39m\u001b[38;5;124;03m\"\"\"\u001b[39;00m\n\u001b[0;32m   5445\u001b[0m \u001b[38;5;124;03m    Drop specified labels from rows or columns.\u001b[39;00m\n\u001b[0;32m   5446\u001b[0m \n\u001b[1;32m   (...)\u001b[0m\n\u001b[0;32m   5579\u001b[0m \u001b[38;5;124;03m            weight  1.0     0.8\u001b[39;00m\n\u001b[0;32m   5580\u001b[0m \u001b[38;5;124;03m    \"\"\"\u001b[39;00m\n\u001b[1;32m-> 5581\u001b[0m     \u001b[38;5;28;01mreturn\u001b[39;00m \u001b[38;5;28msuper\u001b[39m()\u001b[38;5;241m.\u001b[39mdrop(\n\u001b[0;32m   5582\u001b[0m         labels\u001b[38;5;241m=\u001b[39mlabels,\n\u001b[0;32m   5583\u001b[0m         axis\u001b[38;5;241m=\u001b[39maxis,\n\u001b[0;32m   5584\u001b[0m         index\u001b[38;5;241m=\u001b[39mindex,\n\u001b[0;32m   5585\u001b[0m         columns\u001b[38;5;241m=\u001b[39mcolumns,\n\u001b[0;32m   5586\u001b[0m         level\u001b[38;5;241m=\u001b[39mlevel,\n\u001b[0;32m   5587\u001b[0m         inplace\u001b[38;5;241m=\u001b[39minplace,\n\u001b[0;32m   5588\u001b[0m         errors\u001b[38;5;241m=\u001b[39merrors,\n\u001b[0;32m   5589\u001b[0m     )\n",
      "File \u001b[1;32mc:\\Users\\Lenovo\\anaconda3\\Lib\\site-packages\\pandas\\core\\generic.py:4788\u001b[0m, in \u001b[0;36mNDFrame.drop\u001b[1;34m(self, labels, axis, index, columns, level, inplace, errors)\u001b[0m\n\u001b[0;32m   4786\u001b[0m \u001b[38;5;28;01mfor\u001b[39;00m axis, labels \u001b[38;5;129;01min\u001b[39;00m axes\u001b[38;5;241m.\u001b[39mitems():\n\u001b[0;32m   4787\u001b[0m     \u001b[38;5;28;01mif\u001b[39;00m labels \u001b[38;5;129;01mis\u001b[39;00m \u001b[38;5;129;01mnot\u001b[39;00m \u001b[38;5;28;01mNone\u001b[39;00m:\n\u001b[1;32m-> 4788\u001b[0m         obj \u001b[38;5;241m=\u001b[39m obj\u001b[38;5;241m.\u001b[39m_drop_axis(labels, axis, level\u001b[38;5;241m=\u001b[39mlevel, errors\u001b[38;5;241m=\u001b[39merrors)\n\u001b[0;32m   4790\u001b[0m \u001b[38;5;28;01mif\u001b[39;00m inplace:\n\u001b[0;32m   4791\u001b[0m     \u001b[38;5;28mself\u001b[39m\u001b[38;5;241m.\u001b[39m_update_inplace(obj)\n",
      "File \u001b[1;32mc:\\Users\\Lenovo\\anaconda3\\Lib\\site-packages\\pandas\\core\\generic.py:4830\u001b[0m, in \u001b[0;36mNDFrame._drop_axis\u001b[1;34m(self, labels, axis, level, errors, only_slice)\u001b[0m\n\u001b[0;32m   4828\u001b[0m         new_axis \u001b[38;5;241m=\u001b[39m axis\u001b[38;5;241m.\u001b[39mdrop(labels, level\u001b[38;5;241m=\u001b[39mlevel, errors\u001b[38;5;241m=\u001b[39merrors)\n\u001b[0;32m   4829\u001b[0m     \u001b[38;5;28;01melse\u001b[39;00m:\n\u001b[1;32m-> 4830\u001b[0m         new_axis \u001b[38;5;241m=\u001b[39m axis\u001b[38;5;241m.\u001b[39mdrop(labels, errors\u001b[38;5;241m=\u001b[39merrors)\n\u001b[0;32m   4831\u001b[0m     indexer \u001b[38;5;241m=\u001b[39m axis\u001b[38;5;241m.\u001b[39mget_indexer(new_axis)\n\u001b[0;32m   4833\u001b[0m \u001b[38;5;66;03m# Case for non-unique axis\u001b[39;00m\n\u001b[0;32m   4834\u001b[0m \u001b[38;5;28;01melse\u001b[39;00m:\n",
      "File \u001b[1;32mc:\\Users\\Lenovo\\anaconda3\\Lib\\site-packages\\pandas\\core\\indexes\\base.py:7070\u001b[0m, in \u001b[0;36mIndex.drop\u001b[1;34m(self, labels, errors)\u001b[0m\n\u001b[0;32m   7068\u001b[0m \u001b[38;5;28;01mif\u001b[39;00m mask\u001b[38;5;241m.\u001b[39many():\n\u001b[0;32m   7069\u001b[0m     \u001b[38;5;28;01mif\u001b[39;00m errors \u001b[38;5;241m!=\u001b[39m \u001b[38;5;124m\"\u001b[39m\u001b[38;5;124mignore\u001b[39m\u001b[38;5;124m\"\u001b[39m:\n\u001b[1;32m-> 7070\u001b[0m         \u001b[38;5;28;01mraise\u001b[39;00m \u001b[38;5;167;01mKeyError\u001b[39;00m(\u001b[38;5;124mf\u001b[39m\u001b[38;5;124m\"\u001b[39m\u001b[38;5;132;01m{\u001b[39;00mlabels[mask]\u001b[38;5;241m.\u001b[39mtolist()\u001b[38;5;132;01m}\u001b[39;00m\u001b[38;5;124m not found in axis\u001b[39m\u001b[38;5;124m\"\u001b[39m)\n\u001b[0;32m   7071\u001b[0m     indexer \u001b[38;5;241m=\u001b[39m indexer[\u001b[38;5;241m~\u001b[39mmask]\n\u001b[0;32m   7072\u001b[0m \u001b[38;5;28;01mreturn\u001b[39;00m \u001b[38;5;28mself\u001b[39m\u001b[38;5;241m.\u001b[39mdelete(indexer)\n",
      "\u001b[1;31mKeyError\u001b[0m: \"['M49 code'] not found in axis\""
     ]
    }
   ],
   "source": [
    "\n",
    "df.drop(columns=[\"M49 code\"], inplace=True)\n"
   ]
  },
  {
   "cell_type": "code",
   "execution_count": 26,
   "id": "654634a3",
   "metadata": {},
   "outputs": [
    {
     "name": "stdout",
     "output_type": "stream",
     "text": [
      "Index(['Region', 'Sub-region', 'Country', 'ISO3 code', 'RE or Non-RE',\n",
      "       'Group Technology', 'Technology', 'Sub-Technology', 'Producer Type',\n",
      "       'Year', 'Electricity Installed Capacity (MW)', 'Conflict_Status'],\n",
      "      dtype='object')\n"
     ]
    }
   ],
   "source": [
    "df.columns\n",
    "print(df.columns)"
   ]
  },
  {
   "cell_type": "markdown",
   "id": "fadd5b19",
   "metadata": {},
   "source": [
    "###  Save the cleaned version \n",
    "On **`1_datasets`** folder on **`cleaned_data`** folder named **IRENA_ONGRIDStats.cleaned**"
   ]
  },
  {
   "cell_type": "code",
   "execution_count": null,
   "id": "cd1a4c71",
   "metadata": {},
   "outputs": [
    {
     "name": "stdout",
     "output_type": "stream",
     "text": [
      "Empty DataFrame\n",
      "Columns: [Country, Year, Technology, Sub-Technology, Producer Type, Electricity Installed Capacity (MW)]\n",
      "Index: []\n"
     ]
    }
   ],
   "source": [
    "\n",
    "\n",
    "df.to_excel(\n",
    "    \"../1_datasets/cleaned_data/IRENA_ONGRIDStats.cleaned.xlsx\",  \n",
    "    sheet_name=\"IRENA_ONGRIDStats.cleaned\", \n",
    "    index=False,\n",
    ")\n"
   ]
  }
 ],
 "metadata": {
  "kernelspec": {
   "display_name": "Python 3",
   "language": "python",
   "name": "python3"
  },
  "language_info": {
   "codemirror_mode": {
    "name": "ipython",
    "version": 3
   },
   "file_extension": ".py",
   "mimetype": "text/x-python",
   "name": "python",
   "nbconvert_exporter": "python",
   "pygments_lexer": "ipython3",
   "version": "3.12.7"
  }
 },
 "nbformat": 4,
 "nbformat_minor": 5
}
