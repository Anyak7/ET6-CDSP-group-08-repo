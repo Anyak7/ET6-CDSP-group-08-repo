{
 "cells": [
  {
   "cell_type": "markdown",
   "id": "65bf3fb9",
   "metadata": {},
   "source": [
    "# Cleaned- On-Grid Renewable Energy Statistics"
   ]
  },
  {
   "cell_type": "markdown",
   "id": "77e87705",
   "metadata": {},
   "source": [
    "Find the **`raw_data`** file on [Raw On-Grid: IRENA_Stats_extract_2025_H1_raw.xlsx](https://github.com/MIT-Emerging-Talent/ET6-CDSP-group-08-repo/blob/main/1_datasets/raw_data/IRENA_Stats_extract_2025_H1_raw.xlsx)\n",
    "\n",
    "This script prepares a cleaned version of the on-grid portion of the IRENA dataset, focusing on solar and renewable energy deployment in conflict-affected countries.  "
   ]
  },
  {
   "cell_type": "markdown",
   "id": "556007db",
   "metadata": {},
   "source": [
    "\n",
    "### **Selected Conflict-Affected Countries**:   \n",
    "Nine countries were chosen based on having experienced pre-conflict, active conflict, and in some cases post-conflict phases within the past 25 years:  \n",
    " **Syria, Iraq, Sudan, South Sudan, Ethiopia, Ukraine, Yemen, Libya, Afghanistan**\n",
    "\n",
    "Country Classification:\n",
    "- **\"Conflict Countries\"**: Countries that experienced identifiable pre-conflict phases (all 9 selected countries: Syria, Iraq, Sudan, South Sudan, Ethiopia, Ukraine, Yemen, Libya, Afghanistan)\n",
    "- **\"Comparison Countries\"**: Additional countries with mixed conflict/non-conflict status that did not experience pre-conflict phases, included for comparative analysis\n",
    "\n",
    "Key Selection Criteria:  \n",
    "- Time frame: Past 25 years\n",
    "- Must include pre-conflict phase (primary distinguishing factor)\n",
    "- Represent different stages of conflict progression (pre-conflict → active conflict → post-conflict where applicable)\n",
    "\n",
    " Based on this [**research document**](https://docs.google.com/document/d/1uxgQp8gesLcbfaCGLQAHn3Kgvyu2ZDGxgG-LSWEfq8s/edit?tab=t.0#heading=h.eeoohb5d7fi7) the phases of the 9 conflict countries were added."
   ]
  },
  {
   "cell_type": "markdown",
   "id": "bd63749b",
   "metadata": {},
   "source": [
    "Find the **`Cleaned_data`** file on [Cleaned On-Grid: IRENA_ONGRIDStats.cleaned.xlsx](https://github.com/MIT-Emerging-Talent/ET6-CDSP-group-08-repo/blob/main/1_datasets/cleaned_data/IRENA_ONGRIDStats.cleaned.xlsx)"
   ]
  },
  {
   "cell_type": "code",
   "execution_count": 2,
   "id": "752d9c9f",
   "metadata": {},
   "outputs": [],
   "source": [
    "import pandas as pd"
   ]
  },
  {
   "cell_type": "markdown",
   "id": "345b170c",
   "metadata": {},
   "source": [
    "### Working on \"Country\" sheet only (relevant to research question)"
   ]
  },
  {
   "cell_type": "code",
   "execution_count": 3,
   "id": "62c5b3f3",
   "metadata": {},
   "outputs": [],
   "source": [
    "raw_df = pd.read_excel(\n",
    "    \"../1_datasets/raw_data/IRENA_Stats_extract_2025_H1_raw.xlsx\", sheet_name=\"Country\"\n",
    ")\n",
    "df = raw_df.copy()\n",
    "\n",
    "# Dropping both sheets (Region and Global) as they are not needed"
   ]
  },
  {
   "cell_type": "code",
   "execution_count": 4,
   "id": "1536df84",
   "metadata": {},
   "outputs": [
    {
     "name": "stdout",
     "output_type": "stream",
     "text": [
      "   Region       Sub-region  Country ISO3 code  M49 code         RE or Non-RE  \\\n",
      "0  Africa  Northern Africa  Algeria       DZA        12  Total Non-Renewable   \n",
      "1  Africa  Northern Africa  Algeria       DZA        12  Total Non-Renewable   \n",
      "2  Africa  Northern Africa  Algeria       DZA        12  Total Non-Renewable   \n",
      "3  Africa  Northern Africa  Algeria       DZA        12  Total Non-Renewable   \n",
      "4  Africa  Northern Africa  Algeria       DZA        12  Total Non-Renewable   \n",
      "\n",
      "  Group Technology   Technology Sub-Technology        Producer Type  Year  \\\n",
      "0     Fossil fuels  Natural gas    Natural gas  On-grid electricity  2000   \n",
      "1     Fossil fuels  Natural gas    Natural gas  On-grid electricity  2001   \n",
      "2     Fossil fuels  Natural gas    Natural gas  On-grid electricity  2002   \n",
      "3     Fossil fuels  Natural gas    Natural gas  On-grid electricity  2003   \n",
      "4     Fossil fuels  Natural gas    Natural gas  On-grid electricity  2004   \n",
      "\n",
      "   Electricity Installed Capacity (MW)  \n",
      "0                              5459.01  \n",
      "1                              5455.50  \n",
      "2                              5891.01  \n",
      "3                              6013.24  \n",
      "4                              6305.24  \n"
     ]
    }
   ],
   "source": [
    "df.head()\n",
    "print(df.head())"
   ]
  },
  {
   "cell_type": "code",
   "execution_count": 5,
   "id": "208e53ca",
   "metadata": {},
   "outputs": [
    {
     "data": {
      "text/plain": [
       "(38381, 12)"
      ]
     },
     "execution_count": 5,
     "metadata": {},
     "output_type": "execute_result"
    }
   ],
   "source": [
    "# Display the shape of the DataFrame (number of rows and columns)\n",
    "df.shape"
   ]
  },
  {
   "cell_type": "code",
   "execution_count": 6,
   "id": "3138620a",
   "metadata": {},
   "outputs": [
    {
     "name": "stdout",
     "output_type": "stream",
     "text": [
      "<class 'pandas.core.frame.DataFrame'>\n",
      "RangeIndex: 38381 entries, 0 to 38380\n",
      "Data columns (total 12 columns):\n",
      " #   Column                               Non-Null Count  Dtype  \n",
      "---  ------                               --------------  -----  \n",
      " 0   Region                               38381 non-null  object \n",
      " 1   Sub-region                           38381 non-null  object \n",
      " 2   Country                              38381 non-null  object \n",
      " 3   ISO3 code                            38381 non-null  object \n",
      " 4   M49 code                             38381 non-null  int64  \n",
      " 5   RE or Non-RE                         38381 non-null  object \n",
      " 6   Group Technology                     38381 non-null  object \n",
      " 7   Technology                           38381 non-null  object \n",
      " 8   Sub-Technology                       38381 non-null  object \n",
      " 9   Producer Type                        38381 non-null  object \n",
      " 10  Year                                 38381 non-null  int64  \n",
      " 11  Electricity Installed Capacity (MW)  38381 non-null  float64\n",
      "dtypes: float64(1), int64(2), object(9)\n",
      "memory usage: 3.5+ MB\n"
     ]
    }
   ],
   "source": [
    "# Display information about the DataFrame, including column data types and non-null values\n",
    "df.info()"
   ]
  },
  {
   "cell_type": "markdown",
   "id": "eb5bc091",
   "metadata": {},
   "source": [
    "### Add a \"Classification\" column for conflict countries to be filtered"
   ]
  },
  {
   "cell_type": "code",
   "execution_count": 7,
   "id": "cc7366c4",
   "metadata": {},
   "outputs": [],
   "source": [
    "conflict_countries = [\n",
    "    \"Syrian Arab Republic (the)\",\n",
    "    \"Iraq\",\n",
    "    \"Sudan (the)\",\n",
    "    \"South Sudan\",\n",
    "    \"Ethiopia\",\n",
    "    \"Ukraine\",\n",
    "    \"Yemen\",\n",
    "    \"Libya\",\n",
    "    \"Afghanistan\",\n",
    "]\n",
    "# Filter out conflict countries that contain full cycle data of ocnflict in the past 25 years"
   ]
  },
  {
   "cell_type": "code",
   "execution_count": 8,
   "id": "9d350acc",
   "metadata": {},
   "outputs": [
    {
     "data": {
      "text/html": [
       "<div>\n",
       "<style scoped>\n",
       "    .dataframe tbody tr th:only-of-type {\n",
       "        vertical-align: middle;\n",
       "    }\n",
       "\n",
       "    .dataframe tbody tr th {\n",
       "        vertical-align: top;\n",
       "    }\n",
       "\n",
       "    .dataframe thead th {\n",
       "        text-align: right;\n",
       "    }\n",
       "</style>\n",
       "<table border=\"1\" class=\"dataframe\">\n",
       "  <thead>\n",
       "    <tr style=\"text-align: right;\">\n",
       "      <th></th>\n",
       "      <th>Country</th>\n",
       "      <th>Classification</th>\n",
       "    </tr>\n",
       "  </thead>\n",
       "  <tbody>\n",
       "    <tr>\n",
       "      <th>0</th>\n",
       "      <td>Algeria</td>\n",
       "      <td>Comparison Countries</td>\n",
       "    </tr>\n",
       "    <tr>\n",
       "      <th>1</th>\n",
       "      <td>Algeria</td>\n",
       "      <td>Comparison Countries</td>\n",
       "    </tr>\n",
       "    <tr>\n",
       "      <th>2</th>\n",
       "      <td>Algeria</td>\n",
       "      <td>Comparison Countries</td>\n",
       "    </tr>\n",
       "    <tr>\n",
       "      <th>3</th>\n",
       "      <td>Algeria</td>\n",
       "      <td>Comparison Countries</td>\n",
       "    </tr>\n",
       "    <tr>\n",
       "      <th>4</th>\n",
       "      <td>Algeria</td>\n",
       "      <td>Comparison Countries</td>\n",
       "    </tr>\n",
       "    <tr>\n",
       "      <th>5</th>\n",
       "      <td>Algeria</td>\n",
       "      <td>Comparison Countries</td>\n",
       "    </tr>\n",
       "    <tr>\n",
       "      <th>6</th>\n",
       "      <td>Algeria</td>\n",
       "      <td>Comparison Countries</td>\n",
       "    </tr>\n",
       "    <tr>\n",
       "      <th>7</th>\n",
       "      <td>Algeria</td>\n",
       "      <td>Comparison Countries</td>\n",
       "    </tr>\n",
       "    <tr>\n",
       "      <th>8</th>\n",
       "      <td>Algeria</td>\n",
       "      <td>Comparison Countries</td>\n",
       "    </tr>\n",
       "    <tr>\n",
       "      <th>9</th>\n",
       "      <td>Algeria</td>\n",
       "      <td>Comparison Countries</td>\n",
       "    </tr>\n",
       "  </tbody>\n",
       "</table>\n",
       "</div>"
      ],
      "text/plain": [
       "   Country        Classification\n",
       "0  Algeria  Comparison Countries\n",
       "1  Algeria  Comparison Countries\n",
       "2  Algeria  Comparison Countries\n",
       "3  Algeria  Comparison Countries\n",
       "4  Algeria  Comparison Countries\n",
       "5  Algeria  Comparison Countries\n",
       "6  Algeria  Comparison Countries\n",
       "7  Algeria  Comparison Countries\n",
       "8  Algeria  Comparison Countries\n",
       "9  Algeria  Comparison Countries"
      ]
     },
     "execution_count": 8,
     "metadata": {},
     "output_type": "execute_result"
    }
   ],
   "source": [
    "df[\"Classification\"] = df[\"Country\"].apply(\n",
    "    lambda x: \"Conflict Countries\" if x in conflict_countries else \"Comparison Countries\"\n",
    ")\n",
    "\n",
    "\n",
    "df[[\"Country\", \"Classification\"]].head(10)"
   ]
  },
  {
   "cell_type": "code",
   "execution_count": 9,
   "id": "1c94b7c7",
   "metadata": {},
   "outputs": [
    {
     "name": "stdout",
     "output_type": "stream",
     "text": [
      " Classification column added.\n",
      "         Country        Classification\n",
      "0        Algeria  Comparison Countries\n",
      "148        Egypt  Comparison Countries\n",
      "380        Libya    Conflict Countries\n",
      "454      Morocco  Comparison Countries\n",
      "688  Sudan (the)    Conflict Countries\n"
     ]
    }
   ],
   "source": [
    "print(\" Classification column added.\")\n",
    "print(df[[\"Country\", \"Classification\"]].drop_duplicates().head(5))"
   ]
  },
  {
   "cell_type": "markdown",
   "id": "f37790b6",
   "metadata": {},
   "source": [
    "### Filtered out the years that arent needed \n",
    "_**Project Scope : 2000 - 2024**_"
   ]
  },
  {
   "cell_type": "code",
   "execution_count": 10,
   "id": "cc511eb4",
   "metadata": {},
   "outputs": [
    {
     "name": "stdout",
     "output_type": "stream",
     "text": [
      "[2000 2001 2002 2003 2004 2005 2006 2007 2008 2009 2010 2011 2012 2013\n",
      " 2014 2015 2016 2017 2018 2019 2020 2021 2022 2023 2024]\n"
     ]
    }
   ],
   "source": [
    "df = df[(df[\"Year\"] >= 2000) & (df[\"Year\"] <= 2024)]\n",
    "print(df[\"Year\"].unique())"
   ]
  },
  {
   "cell_type": "markdown",
   "id": "17eb250e",
   "metadata": {},
   "source": [
    "### Filled in missing (null) values if any"
   ]
  },
  {
   "cell_type": "code",
   "execution_count": 11,
   "id": "01548476",
   "metadata": {},
   "outputs": [],
   "source": [
    "df[\"Electricity Installed Capacity (MW)\"] = df[\n",
    "    \"Electricity Installed Capacity (MW)\"\n",
    "].fillna(0)\n",
    "# Fill missing numbers (e.g., if electricity capacity is missing, we assume 0)"
   ]
  },
  {
   "cell_type": "code",
   "execution_count": 12,
   "id": "678bb6f4",
   "metadata": {},
   "outputs": [],
   "source": [
    "df[\"Producer Type\"] = df[\"Producer Type\"].fillna(\"Unknown\")\n",
    "df[\"Technology\"] = df[\"Technology\"].fillna(\"Unknown\")\n",
    "df[\"Sub-Technology\"] = df[\"Sub-Technology\"].fillna(\"Unknown\")\n",
    "# Fill missing text (e.g., unknown technology or producer type)"
   ]
  },
  {
   "cell_type": "code",
   "execution_count": 13,
   "id": "23adf408",
   "metadata": {},
   "outputs": [
    {
     "name": "stdout",
     "output_type": "stream",
     "text": [
      "Empty DataFrame\n",
      "Columns: [Country, Year, Technology, Sub-Technology, Producer Type, Electricity Installed Capacity (MW)]\n",
      "Index: []\n"
     ]
    }
   ],
   "source": [
    "preview = df[\n",
    "    (df[\"Electricity Installed Capacity (MW)\"] == 0)\n",
    "    | (df[\"Producer Type\"] == \"Unknown\")\n",
    "    | (df[\"Technology\"] == \"Unknown\")\n",
    "    | (df[\"Sub-Technology\"] == \"Unknown\")\n",
    "]\n",
    "\n",
    "print(\n",
    "    preview[\n",
    "        [\n",
    "            \"Country\",\n",
    "            \"Year\",\n",
    "            \"Technology\",\n",
    "            \"Sub-Technology\",\n",
    "            \"Producer Type\",\n",
    "            \"Electricity Installed Capacity (MW)\",\n",
    "        ]\n",
    "    ].head(10)\n",
    ")"
   ]
  },
  {
   "cell_type": "markdown",
   "id": "ff4d3feb",
   "metadata": {},
   "source": [
    "### Dropped the \"M49 Code\" column\n",
    "*This column isn't useful for our solar conflict-focused analysis*"
   ]
  },
  {
   "cell_type": "code",
   "execution_count": 14,
   "id": "751f33ab",
   "metadata": {},
   "outputs": [],
   "source": [
    "df.drop(columns=[\"M49 code\"], inplace=True)"
   ]
  },
  {
   "cell_type": "code",
   "execution_count": 15,
   "id": "654634a3",
   "metadata": {},
   "outputs": [
    {
     "name": "stdout",
     "output_type": "stream",
     "text": [
      "Index(['Region', 'Sub-region', 'Country', 'ISO3 code', 'RE or Non-RE',\n",
      "       'Group Technology', 'Technology', 'Sub-Technology', 'Producer Type',\n",
      "       'Year', 'Electricity Installed Capacity (MW)', 'Classification'],\n",
      "      dtype='object')\n"
     ]
    }
   ],
   "source": [
    "df.columns\n",
    "print(df.columns)"
   ]
  },
  {
   "cell_type": "markdown",
   "id": "fadd5b19",
   "metadata": {},
   "source": [
    "###  Save the cleaned version \n",
    "On **`1_datasets`** folder on **`cleaned_data`** folder named **IRENA_ONGRIDStats.cleaned**"
   ]
  },
  {
   "cell_type": "code",
   "execution_count": 16,
   "id": "cd1a4c71",
   "metadata": {},
   "outputs": [],
   "source": [
    "df.to_excel(\n",
    "    \"../1_datasets/cleaned_data/IRENA_ONGRIDStats.cleaned.xlsx\",\n",
    "    sheet_name=\"IRENA_ONGRIDStats.cleaned\",\n",
    "    index=False,\n",
    ")"
   ]
  }
 ],
 "metadata": {
  "kernelspec": {
   "display_name": "base",
   "language": "python",
   "name": "python3"
  },
  "language_info": {
   "codemirror_mode": {
    "name": "ipython",
    "version": 3
   },
   "file_extension": ".py",
   "mimetype": "text/x-python",
   "name": "python",
   "nbconvert_exporter": "python",
   "pygments_lexer": "ipython3",
   "version": "3.12.7"
  }
 },
 "nbformat": 4,
 "nbformat_minor": 5
}
