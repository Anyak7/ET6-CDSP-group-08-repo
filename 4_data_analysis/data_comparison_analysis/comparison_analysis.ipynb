{
 "cells": [
  {
   "cell_type": "markdown",
   "id": "gk5ulKMHqd4d",
   "metadata": {
    "id": "gk5ulKMHqd4d"
   },
   "source": [
    "# Data Analysis\n",
    "### Sub-Analytical Question:\n",
    "#### **To what extent are these datasets comparable and consistent, and what differences, if any, exist in what they measure?**"
   ]
  },
  {
   "cell_type": "code",
   "execution_count": null,
   "id": "cedb6177",
   "metadata": {
    "id": "cedb6177"
   },
   "outputs": [],
   "source": [
    "import pandas as pd\n",
    "import matplotlib.pyplot as plt\n",
    "import seaborn as sns"
   ]
  },
  {
   "cell_type": "code",
   "execution_count": 3,
   "id": "230f7048",
   "metadata": {
    "id": "230f7048"
   },
   "outputs": [],
   "source": [
    "# 1. Load datasets\n",
    "importsdf = pd.read_excel(\n",
    "    \"https://github.com/MIT-Emerging-Talent/ET6-CDSP-group-08-repo/raw/refs/heads/main/1_datasets/cleaned_data/UN_comtrade_clean_dataset.xlsx\"\n",
    ")\n",
    "ongriddf = pd.read_excel(\n",
    "    \"https://github.com/MIT-Emerging-Talent/ET6-CDSP-group-08-repo/raw/refs/heads/main/1_datasets/cleaned_data/IRENA_ONGRIDStats.cleaned.xlsx\"\n",
    ")\n",
    "offgriddf = pd.read_excel(\n",
    "    \"https://github.com/MIT-Emerging-Talent/ET6-CDSP-group-08-repo/raw/refs/heads/main/1_datasets/cleaned_data/IRENA_OFGStats.cleaned.xlsx\"\n",
    ")"
   ]
  },
  {
   "cell_type": "code",
   "execution_count": 4,
   "id": "93b9d0f0",
   "metadata": {
    "id": "93b9d0f0"
   },
   "outputs": [],
   "source": [
    "# 2. Standardize & select\n",
    "imports_df = importsdf.rename(columns={\"Value_USD\": \"Imports_USD\"})\n",
    "ongrid_df = ongriddf.rename(\n",
    "    columns={\"Electricity Installed Capacity (MW)\": \"OnGrid_MW\"}\n",
    ")\n",
    "offgrid_df = offgriddf.rename(columns={\"Value\": \"OffGrid_MW\"})"
   ]
  },
  {
   "cell_type": "code",
   "execution_count": 5,
   "id": "af5d6593",
   "metadata": {
    "collapsed": true,
    "id": "af5d6593"
   },
   "outputs": [],
   "source": [
    "# === Filter ON-GRID for only solar-related entries ===\n",
    "# solar_ongrid = ongrid_df[\n",
    "# (ongrid_df[\"Technology\"].str.contains(\"Solar photovoltaic\", case=False, na=False)) &\n",
    "# (ongrid_df[\"Producer Type\"].str.contains(\"On-grid electricity\", case=False, na=False))\n",
    "# ]\n",
    "# solar_ongrid.head(30)"
   ]
  },
  {
   "cell_type": "code",
   "execution_count": 6,
   "id": "7827b356",
   "metadata": {
    "colab": {
     "base_uri": "https://localhost:8080/",
     "height": 206
    },
    "collapsed": true,
    "executionInfo": {
     "elapsed": 115,
     "status": "ok",
     "timestamp": 1753101835487,
     "user": {
      "displayName": "Mohamed Altayeb",
      "userId": "11689706532021511115"
     },
     "user_tz": -120
    },
    "id": "7827b356",
    "outputId": "ac5d4644-cac5-414a-a541-da248031b964"
   },
   "outputs": [],
   "source": [
    "# Group and aggregate total installed solar capacity by Country & Year\n",
    "# solar_ongrid_agg = solar_ongrid.groupby(\n",
    "#   [\"Country\", \"Year\"], as_index=False\n",
    "# )[\"OnGrid_MW\"].sum()\n",
    "# solar_ongrid_agg.head()"
   ]
  },
  {
   "cell_type": "code",
   "execution_count": 7,
   "id": "47acbf1a",
   "metadata": {
    "id": "47acbf1a"
   },
   "outputs": [],
   "source": [
    "# === Filter OFF-GRID for only solar-related deployment (exclude people counts etc.) ===\n",
    "# Keep only rows that represent power capacity (not people, households, etc.)\n",
    "valid_units = [\"kW\", \"MW\"]\n",
    "offgrid_df = offgrid_df[offgrid_df[\"Unit\"].isin(valid_units)]"
   ]
  },
  {
   "cell_type": "code",
   "execution_count": 8,
   "id": "6f12da5e",
   "metadata": {
    "colab": {
     "base_uri": "https://localhost:8080/"
    },
    "collapsed": true,
    "executionInfo": {
     "elapsed": 176,
     "status": "ok",
     "timestamp": 1753130205405,
     "user": {
      "displayName": "Mohamed Altayeb",
      "userId": "11689706532021511115"
     },
     "user_tz": -120
    },
    "id": "6f12da5e",
    "outputId": "b0f6991c-70cc-4262-af21-32a6571d552f"
   },
   "outputs": [
    {
     "name": "stderr",
     "output_type": "stream",
     "text": [
      "<>:4: SyntaxWarning: invalid escape sequence '\\('\n",
      "<>:4: SyntaxWarning: invalid escape sequence '\\('\n",
      "C:\\Users\\moham\\AppData\\Local\\Temp\\ipykernel_19264\\2650819059.py:4: SyntaxWarning: invalid escape sequence '\\('\n",
      "  \"Solar PV \\(Others\\)|Solar mini-grids\", case=False, na=False\n"
     ]
    },
    {
     "data": {
      "text/html": [
       "<div>\n",
       "<style scoped>\n",
       "    .dataframe tbody tr th:only-of-type {\n",
       "        vertical-align: middle;\n",
       "    }\n",
       "\n",
       "    .dataframe tbody tr th {\n",
       "        vertical-align: top;\n",
       "    }\n",
       "\n",
       "    .dataframe thead th {\n",
       "        text-align: right;\n",
       "    }\n",
       "</style>\n",
       "<table border=\"1\" class=\"dataframe\">\n",
       "  <thead>\n",
       "    <tr style=\"text-align: right;\">\n",
       "      <th></th>\n",
       "      <th>Region</th>\n",
       "      <th>Country</th>\n",
       "      <th>ISO Code</th>\n",
       "      <th>Flow</th>\n",
       "      <th>Group Technology</th>\n",
       "      <th>Sub-Technology</th>\n",
       "      <th>Technology</th>\n",
       "      <th>OffGrid_MW</th>\n",
       "      <th>Unit</th>\n",
       "      <th>Year</th>\n",
       "      <th>Conflict Status</th>\n",
       "    </tr>\n",
       "  </thead>\n",
       "  <tbody>\n",
       "    <tr>\n",
       "      <th>0</th>\n",
       "      <td>Africa</td>\n",
       "      <td>Angola</td>\n",
       "      <td>AGO</td>\n",
       "      <td>Off-grid capacity</td>\n",
       "      <td>Solar energy</td>\n",
       "      <td>Solar PV (Others)</td>\n",
       "      <td>Other off-grid solar PV</td>\n",
       "      <td>0.0</td>\n",
       "      <td>MW</td>\n",
       "      <td>2010</td>\n",
       "      <td>No Conflict</td>\n",
       "    </tr>\n",
       "    <tr>\n",
       "      <th>1</th>\n",
       "      <td>Africa</td>\n",
       "      <td>Angola</td>\n",
       "      <td>AGO</td>\n",
       "      <td>Off-grid capacity</td>\n",
       "      <td>Solar energy</td>\n",
       "      <td>Solar PV (Others)</td>\n",
       "      <td>Other off-grid solar PV</td>\n",
       "      <td>0.0</td>\n",
       "      <td>MW</td>\n",
       "      <td>2011</td>\n",
       "      <td>No Conflict</td>\n",
       "    </tr>\n",
       "    <tr>\n",
       "      <th>2</th>\n",
       "      <td>Africa</td>\n",
       "      <td>Angola</td>\n",
       "      <td>AGO</td>\n",
       "      <td>Off-grid capacity</td>\n",
       "      <td>Solar energy</td>\n",
       "      <td>Solar PV (Others)</td>\n",
       "      <td>Other off-grid solar PV</td>\n",
       "      <td>0.0</td>\n",
       "      <td>MW</td>\n",
       "      <td>2012</td>\n",
       "      <td>No Conflict</td>\n",
       "    </tr>\n",
       "    <tr>\n",
       "      <th>3</th>\n",
       "      <td>Africa</td>\n",
       "      <td>Benin</td>\n",
       "      <td>BEN</td>\n",
       "      <td>Off-grid capacity</td>\n",
       "      <td>Solar energy</td>\n",
       "      <td>Solar PV (Others)</td>\n",
       "      <td>Other off-grid solar PV</td>\n",
       "      <td>0.0</td>\n",
       "      <td>MW</td>\n",
       "      <td>2010</td>\n",
       "      <td>No Conflict</td>\n",
       "    </tr>\n",
       "    <tr>\n",
       "      <th>4</th>\n",
       "      <td>Africa</td>\n",
       "      <td>Benin</td>\n",
       "      <td>BEN</td>\n",
       "      <td>Off-grid capacity</td>\n",
       "      <td>Solar energy</td>\n",
       "      <td>Solar PV (Others)</td>\n",
       "      <td>Other off-grid solar PV</td>\n",
       "      <td>0.0</td>\n",
       "      <td>MW</td>\n",
       "      <td>2011</td>\n",
       "      <td>No Conflict</td>\n",
       "    </tr>\n",
       "  </tbody>\n",
       "</table>\n",
       "</div>"
      ],
      "text/plain": [
       "   Region Country ISO Code               Flow Group Technology  \\\n",
       "0  Africa  Angola      AGO  Off-grid capacity     Solar energy   \n",
       "1  Africa  Angola      AGO  Off-grid capacity     Solar energy   \n",
       "2  Africa  Angola      AGO  Off-grid capacity     Solar energy   \n",
       "3  Africa   Benin      BEN  Off-grid capacity     Solar energy   \n",
       "4  Africa   Benin      BEN  Off-grid capacity     Solar energy   \n",
       "\n",
       "      Sub-Technology               Technology  OffGrid_MW Unit  Year  \\\n",
       "0  Solar PV (Others)  Other off-grid solar PV         0.0   MW  2010   \n",
       "1  Solar PV (Others)  Other off-grid solar PV         0.0   MW  2011   \n",
       "2  Solar PV (Others)  Other off-grid solar PV         0.0   MW  2012   \n",
       "3  Solar PV (Others)  Other off-grid solar PV         0.0   MW  2010   \n",
       "4  Solar PV (Others)  Other off-grid solar PV         0.0   MW  2011   \n",
       "\n",
       "  Conflict Status  \n",
       "0     No Conflict  \n",
       "1     No Conflict  \n",
       "2     No Conflict  \n",
       "3     No Conflict  \n",
       "4     No Conflict  "
      ]
     },
     "execution_count": 8,
     "metadata": {},
     "output_type": "execute_result"
    }
   ],
   "source": [
    "# Keep solar records that are either \"Solar PV (Others)\" or \"Solar mini-grids\"\n",
    "solar_offgrid = offgrid_df[\n",
    "    offgrid_df[\"Sub-Technology\"].str.contains(\n",
    "        \"Solar PV \\(Others\\)|Solar mini-grids\", case=False, na=False\n",
    "    )\n",
    "]\n",
    "\n",
    "solar_offgrid.head()"
   ]
  },
  {
   "cell_type": "code",
   "execution_count": 9,
   "id": "d9fbe35d",
   "metadata": {
    "colab": {
     "base_uri": "https://localhost:8080/"
    },
    "collapsed": true,
    "executionInfo": {
     "elapsed": 73,
     "status": "ok",
     "timestamp": 1753131592157,
     "user": {
      "displayName": "Mohamed Altayeb",
      "userId": "11689706532021511115"
     },
     "user_tz": -120
    },
    "id": "d9fbe35d",
    "outputId": "8dad54bb-5a9f-43f1-987c-bfaa64e0c06b"
   },
   "outputs": [
    {
     "data": {
      "text/html": [
       "<div>\n",
       "<style scoped>\n",
       "    .dataframe tbody tr th:only-of-type {\n",
       "        vertical-align: middle;\n",
       "    }\n",
       "\n",
       "    .dataframe tbody tr th {\n",
       "        vertical-align: top;\n",
       "    }\n",
       "\n",
       "    .dataframe thead th {\n",
       "        text-align: right;\n",
       "    }\n",
       "</style>\n",
       "<table border=\"1\" class=\"dataframe\">\n",
       "  <thead>\n",
       "    <tr style=\"text-align: right;\">\n",
       "      <th></th>\n",
       "      <th>Country</th>\n",
       "      <th>Year</th>\n",
       "      <th>OffGrid_MW</th>\n",
       "    </tr>\n",
       "  </thead>\n",
       "  <tbody>\n",
       "    <tr>\n",
       "      <th>0</th>\n",
       "      <td>Afghanistan</td>\n",
       "      <td>2010</td>\n",
       "      <td>0.100</td>\n",
       "    </tr>\n",
       "    <tr>\n",
       "      <th>1</th>\n",
       "      <td>Afghanistan</td>\n",
       "      <td>2011</td>\n",
       "      <td>0.100</td>\n",
       "    </tr>\n",
       "    <tr>\n",
       "      <th>2</th>\n",
       "      <td>Afghanistan</td>\n",
       "      <td>2012</td>\n",
       "      <td>16.100</td>\n",
       "    </tr>\n",
       "    <tr>\n",
       "      <th>3</th>\n",
       "      <td>Afghanistan</td>\n",
       "      <td>2013</td>\n",
       "      <td>16.344</td>\n",
       "    </tr>\n",
       "    <tr>\n",
       "      <th>4</th>\n",
       "      <td>Afghanistan</td>\n",
       "      <td>2014</td>\n",
       "      <td>17.394</td>\n",
       "    </tr>\n",
       "  </tbody>\n",
       "</table>\n",
       "</div>"
      ],
      "text/plain": [
       "       Country  Year  OffGrid_MW\n",
       "0  Afghanistan  2010       0.100\n",
       "1  Afghanistan  2011       0.100\n",
       "2  Afghanistan  2012      16.100\n",
       "3  Afghanistan  2013      16.344\n",
       "4  Afghanistan  2014      17.394"
      ]
     },
     "execution_count": 9,
     "metadata": {},
     "output_type": "execute_result"
    }
   ],
   "source": [
    "# Group Off grid by Country and Year\n",
    "solar_offgrid_agg = solar_offgrid.groupby([\"Country\", \"Year\"], as_index=False)[\n",
    "    \"OffGrid_MW\"\n",
    "].sum()\n",
    "solar_offgrid_agg.head()"
   ]
  },
  {
   "cell_type": "code",
   "execution_count": 10,
   "id": "cf71bb2d",
   "metadata": {
    "collapsed": true,
    "id": "cf71bb2d"
   },
   "outputs": [],
   "source": [
    "# Group imports data by Country and Year\n",
    "imports_df_agg = imports_df.groupby([\"Country\", \"Year\"], as_index=False)[\n",
    "    \"Imports_USD\"\n",
    "].sum()"
   ]
  },
  {
   "cell_type": "markdown",
   "id": "izJHTrPJcv7_",
   "metadata": {
    "id": "izJHTrPJcv7_"
   },
   "source": [
    "# **First: Imports VS Solar Off Grid**"
   ]
  },
  {
   "cell_type": "markdown",
   "id": "LSZ_yUPmFUdw",
   "metadata": {
    "id": "LSZ_yUPmFUdw"
   },
   "source": [
    "## Correlation analysis between Imports data and Off grid data (solar only) for Yemen (2010-2015)"
   ]
  },
  {
   "cell_type": "code",
   "execution_count": 11,
   "id": "G9PM3dl_E5ar",
   "metadata": {
    "colab": {
     "base_uri": "https://localhost:8080/",
     "height": 237
    },
    "collapsed": true,
    "executionInfo": {
     "elapsed": 63,
     "status": "ok",
     "timestamp": 1753102936170,
     "user": {
      "displayName": "Mohamed Altayeb",
      "userId": "11689706532021511115"
     },
     "user_tz": -120
    },
    "id": "G9PM3dl_E5ar",
    "outputId": "2a3e4ad0-0c7e-4155-8daf-599eecfae32c"
   },
   "outputs": [
    {
     "data": {
      "text/html": [
       "<div>\n",
       "<style scoped>\n",
       "    .dataframe tbody tr th:only-of-type {\n",
       "        vertical-align: middle;\n",
       "    }\n",
       "\n",
       "    .dataframe tbody tr th {\n",
       "        vertical-align: top;\n",
       "    }\n",
       "\n",
       "    .dataframe thead th {\n",
       "        text-align: right;\n",
       "    }\n",
       "</style>\n",
       "<table border=\"1\" class=\"dataframe\">\n",
       "  <thead>\n",
       "    <tr style=\"text-align: right;\">\n",
       "      <th></th>\n",
       "      <th>Country</th>\n",
       "      <th>Year</th>\n",
       "      <th>Imports_USD</th>\n",
       "    </tr>\n",
       "  </thead>\n",
       "  <tbody>\n",
       "    <tr>\n",
       "      <th>329</th>\n",
       "      <td>Yemen</td>\n",
       "      <td>2010</td>\n",
       "      <td>7779766.0</td>\n",
       "    </tr>\n",
       "    <tr>\n",
       "      <th>330</th>\n",
       "      <td>Yemen</td>\n",
       "      <td>2011</td>\n",
       "      <td>9926717.0</td>\n",
       "    </tr>\n",
       "    <tr>\n",
       "      <th>331</th>\n",
       "      <td>Yemen</td>\n",
       "      <td>2012</td>\n",
       "      <td>10505127.0</td>\n",
       "    </tr>\n",
       "    <tr>\n",
       "      <th>332</th>\n",
       "      <td>Yemen</td>\n",
       "      <td>2013</td>\n",
       "      <td>6403622.0</td>\n",
       "    </tr>\n",
       "    <tr>\n",
       "      <th>333</th>\n",
       "      <td>Yemen</td>\n",
       "      <td>2014</td>\n",
       "      <td>12308661.0</td>\n",
       "    </tr>\n",
       "    <tr>\n",
       "      <th>334</th>\n",
       "      <td>Yemen</td>\n",
       "      <td>2015</td>\n",
       "      <td>33475232.0</td>\n",
       "    </tr>\n",
       "  </tbody>\n",
       "</table>\n",
       "</div>"
      ],
      "text/plain": [
       "    Country  Year  Imports_USD\n",
       "329   Yemen  2010    7779766.0\n",
       "330   Yemen  2011    9926717.0\n",
       "331   Yemen  2012   10505127.0\n",
       "332   Yemen  2013    6403622.0\n",
       "333   Yemen  2014   12308661.0\n",
       "334   Yemen  2015   33475232.0"
      ]
     },
     "execution_count": 11,
     "metadata": {},
     "output_type": "execute_result"
    }
   ],
   "source": [
    "# Group imports data for Yemen between 2010 and 2015\n",
    "yemen_imports = imports_df_agg[\n",
    "    (imports_df_agg[\"Country\"] == \"Yemen\")\n",
    "    & (imports_df_agg[\"Year\"].between(2010, 2015))\n",
    "]\n",
    "yemen_imports.head(6)"
   ]
  },
  {
   "cell_type": "code",
   "execution_count": 12,
   "id": "-gioymtNZ9IJ",
   "metadata": {
    "colab": {
     "base_uri": "https://localhost:8080/",
     "height": 237
    },
    "collapsed": true,
    "executionInfo": {
     "elapsed": 77,
     "status": "ok",
     "timestamp": 1753102979242,
     "user": {
      "displayName": "Mohamed Altayeb",
      "userId": "11689706532021511115"
     },
     "user_tz": -120
    },
    "id": "-gioymtNZ9IJ",
    "outputId": "9a6beb54-a87a-4a8d-c4fe-644a617c89f8"
   },
   "outputs": [
    {
     "data": {
      "text/html": [
       "<div>\n",
       "<style scoped>\n",
       "    .dataframe tbody tr th:only-of-type {\n",
       "        vertical-align: middle;\n",
       "    }\n",
       "\n",
       "    .dataframe tbody tr th {\n",
       "        vertical-align: top;\n",
       "    }\n",
       "\n",
       "    .dataframe thead th {\n",
       "        text-align: right;\n",
       "    }\n",
       "</style>\n",
       "<table border=\"1\" class=\"dataframe\">\n",
       "  <thead>\n",
       "    <tr style=\"text-align: right;\">\n",
       "      <th></th>\n",
       "      <th>Country</th>\n",
       "      <th>Year</th>\n",
       "      <th>OffGrid_MW</th>\n",
       "    </tr>\n",
       "  </thead>\n",
       "  <tbody>\n",
       "    <tr>\n",
       "      <th>1750</th>\n",
       "      <td>Yemen</td>\n",
       "      <td>2010</td>\n",
       "      <td>1.0070</td>\n",
       "    </tr>\n",
       "    <tr>\n",
       "      <th>1751</th>\n",
       "      <td>Yemen</td>\n",
       "      <td>2011</td>\n",
       "      <td>1.2860</td>\n",
       "    </tr>\n",
       "    <tr>\n",
       "      <th>1752</th>\n",
       "      <td>Yemen</td>\n",
       "      <td>2012</td>\n",
       "      <td>1.3670</td>\n",
       "    </tr>\n",
       "    <tr>\n",
       "      <th>1753</th>\n",
       "      <td>Yemen</td>\n",
       "      <td>2013</td>\n",
       "      <td>2.3690</td>\n",
       "    </tr>\n",
       "    <tr>\n",
       "      <th>1754</th>\n",
       "      <td>Yemen</td>\n",
       "      <td>2014</td>\n",
       "      <td>5.4025</td>\n",
       "    </tr>\n",
       "    <tr>\n",
       "      <th>1755</th>\n",
       "      <td>Yemen</td>\n",
       "      <td>2015</td>\n",
       "      <td>60.0003</td>\n",
       "    </tr>\n",
       "  </tbody>\n",
       "</table>\n",
       "</div>"
      ],
      "text/plain": [
       "     Country  Year  OffGrid_MW\n",
       "1750   Yemen  2010      1.0070\n",
       "1751   Yemen  2011      1.2860\n",
       "1752   Yemen  2012      1.3670\n",
       "1753   Yemen  2013      2.3690\n",
       "1754   Yemen  2014      5.4025\n",
       "1755   Yemen  2015     60.0003"
      ]
     },
     "execution_count": 12,
     "metadata": {},
     "output_type": "execute_result"
    }
   ],
   "source": [
    "# Group  solar Off grid data for Yemen between 2010 and 2015\n",
    "yemen_offgrid = solar_offgrid_agg[\n",
    "    (solar_offgrid_agg[\"Country\"] == \"Yemen\")\n",
    "    & (solar_offgrid_agg[\"Year\"].between(2010, 2015))\n",
    "]\n",
    "yemen_offgrid.head(6)"
   ]
  },
  {
   "cell_type": "code",
   "execution_count": 13,
   "id": "dhDsJumvct_6",
   "metadata": {
    "colab": {
     "base_uri": "https://localhost:8080/",
     "height": 237
    },
    "executionInfo": {
     "elapsed": 64,
     "status": "ok",
     "timestamp": 1753101924180,
     "user": {
      "displayName": "Mohamed Altayeb",
      "userId": "11689706532021511115"
     },
     "user_tz": -120
    },
    "id": "dhDsJumvct_6",
    "outputId": "65687d9e-9e15-42e7-94e3-a7d8768d977b"
   },
   "outputs": [
    {
     "data": {
      "text/html": [
       "<div>\n",
       "<style scoped>\n",
       "    .dataframe tbody tr th:only-of-type {\n",
       "        vertical-align: middle;\n",
       "    }\n",
       "\n",
       "    .dataframe tbody tr th {\n",
       "        vertical-align: top;\n",
       "    }\n",
       "\n",
       "    .dataframe thead th {\n",
       "        text-align: right;\n",
       "    }\n",
       "</style>\n",
       "<table border=\"1\" class=\"dataframe\">\n",
       "  <thead>\n",
       "    <tr style=\"text-align: right;\">\n",
       "      <th></th>\n",
       "      <th>Year</th>\n",
       "      <th>Imports_USD</th>\n",
       "      <th>OffGrid_MW</th>\n",
       "    </tr>\n",
       "  </thead>\n",
       "  <tbody>\n",
       "    <tr>\n",
       "      <th>0</th>\n",
       "      <td>2010</td>\n",
       "      <td>7779766.0</td>\n",
       "      <td>1.0070</td>\n",
       "    </tr>\n",
       "    <tr>\n",
       "      <th>1</th>\n",
       "      <td>2011</td>\n",
       "      <td>9926717.0</td>\n",
       "      <td>1.2860</td>\n",
       "    </tr>\n",
       "    <tr>\n",
       "      <th>2</th>\n",
       "      <td>2012</td>\n",
       "      <td>10505127.0</td>\n",
       "      <td>1.3670</td>\n",
       "    </tr>\n",
       "    <tr>\n",
       "      <th>3</th>\n",
       "      <td>2013</td>\n",
       "      <td>6403622.0</td>\n",
       "      <td>2.3690</td>\n",
       "    </tr>\n",
       "    <tr>\n",
       "      <th>4</th>\n",
       "      <td>2014</td>\n",
       "      <td>12308661.0</td>\n",
       "      <td>5.4025</td>\n",
       "    </tr>\n",
       "    <tr>\n",
       "      <th>5</th>\n",
       "      <td>2015</td>\n",
       "      <td>33475232.0</td>\n",
       "      <td>60.0003</td>\n",
       "    </tr>\n",
       "  </tbody>\n",
       "</table>\n",
       "</div>"
      ],
      "text/plain": [
       "   Year  Imports_USD  OffGrid_MW\n",
       "0  2010    7779766.0      1.0070\n",
       "1  2011    9926717.0      1.2860\n",
       "2  2012   10505127.0      1.3670\n",
       "3  2013    6403622.0      2.3690\n",
       "4  2014   12308661.0      5.4025\n",
       "5  2015   33475232.0     60.0003"
      ]
     },
     "execution_count": 13,
     "metadata": {},
     "output_type": "execute_result"
    }
   ],
   "source": [
    "# Merge on 'Year' and Country\n",
    "yemen_merged = pd.merge(\n",
    "    yemen_imports[[\"Year\", \"Imports_USD\"]],\n",
    "    yemen_offgrid[[\"Year\", \"OffGrid_MW\"]],\n",
    "    on=\"Year\",\n",
    "    how=\"inner\",\n",
    ")\n",
    "yemen_merged.head(10)"
   ]
  },
  {
   "cell_type": "code",
   "execution_count": 14,
   "id": "nb5Hyodgdeet",
   "metadata": {
    "id": "nb5Hyodgdeet"
   },
   "outputs": [],
   "source": [
    "# Compute correlation\n",
    "yemen_correlation = yemen_merged[\"Imports_USD\"].corr(yemen_merged[\"OffGrid_MW\"])"
   ]
  },
  {
   "cell_type": "code",
   "execution_count": 15,
   "id": "8pYtNrYady5F",
   "metadata": {
    "colab": {
     "base_uri": "https://localhost:8080/"
    },
    "executionInfo": {
     "elapsed": 56,
     "status": "ok",
     "timestamp": 1753101962098,
     "user": {
      "displayName": "Mohamed Altayeb",
      "userId": "11689706532021511115"
     },
     "user_tz": -120
    },
    "id": "8pYtNrYady5F",
    "outputId": "363d8f7d-56aa-47ad-aed5-6f88ff0b19e2"
   },
   "outputs": [
    {
     "name": "stdout",
     "output_type": "stream",
     "text": [
      "Correlation between import value and off-grid capacity for Yemen: 0.9839829903810307\n"
     ]
    }
   ],
   "source": [
    "print(\n",
    "    \"Correlation between import value and off-grid capacity for Yemen:\",\n",
    "    yemen_correlation,\n",
    ")"
   ]
  },
  {
   "cell_type": "code",
   "execution_count": 16,
   "id": "MeHmIjpRanlt",
   "metadata": {
    "colab": {
     "base_uri": "https://localhost:8080/",
     "height": 307
    },
    "executionInfo": {
     "elapsed": 221,
     "status": "ok",
     "timestamp": 1753109021606,
     "user": {
      "displayName": "Mohamed Altayeb",
      "userId": "11689706532021511115"
     },
     "user_tz": -120
    },
    "id": "MeHmIjpRanlt",
    "outputId": "8b3f3137-0082-4a7b-e05b-68fbff703c95"
   },
   "outputs": [
    {
     "data": {
      "image/png": "[encoded data removed]",
      "text/plain": [
       "<Figure size 400x300 with 1 Axes>"
      ]
     },
     "metadata": {},
     "output_type": "display_data"
    }
   ],
   "source": [
    "# Scatter plot\n",
    "plt.figure(figsize=(4, 3))\n",
    "sns.scatterplot(\n",
    "    data=yemen_merged, x=\"Imports_USD\", y=\"OffGrid_MW\", color=\"darkorange\", s=50\n",
    ")\n",
    "plt.title(\"Yemen: Imports vs Off-Grid Solar Deployment\")\n",
    "plt.xlabel(\"Imports (USD)\")\n",
    "plt.ylabel(\"Off-Grid Solar Deployment (MW)\")\n",
    "plt.grid(True)\n",
    "plt.tight_layout()\n",
    "plt.show()"
   ]
  },
  {
   "cell_type": "markdown",
   "id": "DEnmOANCFwgr",
   "metadata": {
    "id": "DEnmOANCFwgr"
   },
   "source": [
    "## Correlation analysis between Imports data and Off grid data (solar only) for Ethiopia (2011-2023)"
   ]
  },
  {
   "cell_type": "code",
   "execution_count": 17,
   "id": "CMpHNiD1FRnf",
   "metadata": {
    "colab": {
     "base_uri": "https://localhost:8080/",
     "height": 457
    },
    "collapsed": true,
    "executionInfo": {
     "elapsed": 33,
     "status": "ok",
     "timestamp": 1753103365458,
     "user": {
      "displayName": "Mohamed Altayeb",
      "userId": "11689706532021511115"
     },
     "user_tz": -120
    },
    "id": "CMpHNiD1FRnf",
    "outputId": "a03e6414-b92c-4c47-bb26-1c034a89c0a2"
   },
   "outputs": [
    {
     "data": {
      "text/html": [
       "<div>\n",
       "<style scoped>\n",
       "    .dataframe tbody tr th:only-of-type {\n",
       "        vertical-align: middle;\n",
       "    }\n",
       "\n",
       "    .dataframe tbody tr th {\n",
       "        vertical-align: top;\n",
       "    }\n",
       "\n",
       "    .dataframe thead th {\n",
       "        text-align: right;\n",
       "    }\n",
       "</style>\n",
       "<table border=\"1\" class=\"dataframe\">\n",
       "  <thead>\n",
       "    <tr style=\"text-align: right;\">\n",
       "      <th></th>\n",
       "      <th>Country</th>\n",
       "      <th>Year</th>\n",
       "      <th>Imports_USD</th>\n",
       "    </tr>\n",
       "  </thead>\n",
       "  <tbody>\n",
       "    <tr>\n",
       "      <th>35</th>\n",
       "      <td>Ethiopia</td>\n",
       "      <td>2011</td>\n",
       "      <td>2.097474e+07</td>\n",
       "    </tr>\n",
       "    <tr>\n",
       "      <th>36</th>\n",
       "      <td>Ethiopia</td>\n",
       "      <td>2012</td>\n",
       "      <td>2.787158e+07</td>\n",
       "    </tr>\n",
       "    <tr>\n",
       "      <th>37</th>\n",
       "      <td>Ethiopia</td>\n",
       "      <td>2013</td>\n",
       "      <td>2.594942e+07</td>\n",
       "    </tr>\n",
       "    <tr>\n",
       "      <th>38</th>\n",
       "      <td>Ethiopia</td>\n",
       "      <td>2014</td>\n",
       "      <td>4.737693e+07</td>\n",
       "    </tr>\n",
       "    <tr>\n",
       "      <th>39</th>\n",
       "      <td>Ethiopia</td>\n",
       "      <td>2015</td>\n",
       "      <td>4.564162e+07</td>\n",
       "    </tr>\n",
       "    <tr>\n",
       "      <th>40</th>\n",
       "      <td>Ethiopia</td>\n",
       "      <td>2016</td>\n",
       "      <td>5.148506e+07</td>\n",
       "    </tr>\n",
       "    <tr>\n",
       "      <th>41</th>\n",
       "      <td>Ethiopia</td>\n",
       "      <td>2017</td>\n",
       "      <td>4.190237e+07</td>\n",
       "    </tr>\n",
       "    <tr>\n",
       "      <th>42</th>\n",
       "      <td>Ethiopia</td>\n",
       "      <td>2018</td>\n",
       "      <td>6.891282e+07</td>\n",
       "    </tr>\n",
       "    <tr>\n",
       "      <th>43</th>\n",
       "      <td>Ethiopia</td>\n",
       "      <td>2019</td>\n",
       "      <td>7.506078e+07</td>\n",
       "    </tr>\n",
       "    <tr>\n",
       "      <th>44</th>\n",
       "      <td>Ethiopia</td>\n",
       "      <td>2020</td>\n",
       "      <td>6.940082e+07</td>\n",
       "    </tr>\n",
       "    <tr>\n",
       "      <th>45</th>\n",
       "      <td>Ethiopia</td>\n",
       "      <td>2021</td>\n",
       "      <td>6.480637e+07</td>\n",
       "    </tr>\n",
       "    <tr>\n",
       "      <th>46</th>\n",
       "      <td>Ethiopia</td>\n",
       "      <td>2022</td>\n",
       "      <td>1.069483e+08</td>\n",
       "    </tr>\n",
       "    <tr>\n",
       "      <th>47</th>\n",
       "      <td>Ethiopia</td>\n",
       "      <td>2023</td>\n",
       "      <td>1.306549e+08</td>\n",
       "    </tr>\n",
       "  </tbody>\n",
       "</table>\n",
       "</div>"
      ],
      "text/plain": [
       "     Country  Year   Imports_USD\n",
       "35  Ethiopia  2011  2.097474e+07\n",
       "36  Ethiopia  2012  2.787158e+07\n",
       "37  Ethiopia  2013  2.594942e+07\n",
       "38  Ethiopia  2014  4.737693e+07\n",
       "39  Ethiopia  2015  4.564162e+07\n",
       "40  Ethiopia  2016  5.148506e+07\n",
       "41  Ethiopia  2017  4.190237e+07\n",
       "42  Ethiopia  2018  6.891282e+07\n",
       "43  Ethiopia  2019  7.506078e+07\n",
       "44  Ethiopia  2020  6.940082e+07\n",
       "45  Ethiopia  2021  6.480637e+07\n",
       "46  Ethiopia  2022  1.069483e+08\n",
       "47  Ethiopia  2023  1.306549e+08"
      ]
     },
     "execution_count": 17,
     "metadata": {},
     "output_type": "execute_result"
    }
   ],
   "source": [
    "# Group imports data for Ethiopia between 2011 and 2023\n",
    "ethiopia_imports = imports_df_agg[\n",
    "    (imports_df_agg[\"Country\"] == \"Ethiopia\")\n",
    "    & (imports_df_agg[\"Year\"].between(2011, 2023))\n",
    "]\n",
    "ethiopia_imports.head(15)"
   ]
  },
  {
   "cell_type": "code",
   "execution_count": 18,
   "id": "u1X8wvjPGvk0",
   "metadata": {
    "colab": {
     "base_uri": "https://localhost:8080/",
     "height": 457
    },
    "collapsed": true,
    "executionInfo": {
     "elapsed": 77,
     "status": "ok",
     "timestamp": 1753107270667,
     "user": {
      "displayName": "Mohamed Altayeb",
      "userId": "11689706532021511115"
     },
     "user_tz": -120
    },
    "id": "u1X8wvjPGvk0",
    "outputId": "bd5009b4-b431-4c1c-f747-f052aa446a11"
   },
   "outputs": [
    {
     "data": {
      "text/html": [
       "<div>\n",
       "<style scoped>\n",
       "    .dataframe tbody tr th:only-of-type {\n",
       "        vertical-align: middle;\n",
       "    }\n",
       "\n",
       "    .dataframe tbody tr th {\n",
       "        vertical-align: top;\n",
       "    }\n",
       "\n",
       "    .dataframe thead th {\n",
       "        text-align: right;\n",
       "    }\n",
       "</style>\n",
       "<table border=\"1\" class=\"dataframe\">\n",
       "  <thead>\n",
       "    <tr style=\"text-align: right;\">\n",
       "      <th></th>\n",
       "      <th>Country</th>\n",
       "      <th>Year</th>\n",
       "      <th>OffGrid_MW</th>\n",
       "    </tr>\n",
       "  </thead>\n",
       "  <tbody>\n",
       "    <tr>\n",
       "      <th>603</th>\n",
       "      <td>Ethiopia</td>\n",
       "      <td>2011</td>\n",
       "      <td>0.03260</td>\n",
       "    </tr>\n",
       "    <tr>\n",
       "      <th>604</th>\n",
       "      <td>Ethiopia</td>\n",
       "      <td>2012</td>\n",
       "      <td>0.09417</td>\n",
       "    </tr>\n",
       "    <tr>\n",
       "      <th>605</th>\n",
       "      <td>Ethiopia</td>\n",
       "      <td>2013</td>\n",
       "      <td>0.09417</td>\n",
       "    </tr>\n",
       "    <tr>\n",
       "      <th>606</th>\n",
       "      <td>Ethiopia</td>\n",
       "      <td>2014</td>\n",
       "      <td>3.43755</td>\n",
       "    </tr>\n",
       "    <tr>\n",
       "      <th>607</th>\n",
       "      <td>Ethiopia</td>\n",
       "      <td>2015</td>\n",
       "      <td>3.45255</td>\n",
       "    </tr>\n",
       "    <tr>\n",
       "      <th>608</th>\n",
       "      <td>Ethiopia</td>\n",
       "      <td>2016</td>\n",
       "      <td>10.58755</td>\n",
       "    </tr>\n",
       "    <tr>\n",
       "      <th>609</th>\n",
       "      <td>Ethiopia</td>\n",
       "      <td>2017</td>\n",
       "      <td>10.59109</td>\n",
       "    </tr>\n",
       "    <tr>\n",
       "      <th>610</th>\n",
       "      <td>Ethiopia</td>\n",
       "      <td>2018</td>\n",
       "      <td>14.17499</td>\n",
       "    </tr>\n",
       "    <tr>\n",
       "      <th>611</th>\n",
       "      <td>Ethiopia</td>\n",
       "      <td>2019</td>\n",
       "      <td>14.74049</td>\n",
       "    </tr>\n",
       "    <tr>\n",
       "      <th>612</th>\n",
       "      <td>Ethiopia</td>\n",
       "      <td>2020</td>\n",
       "      <td>15.63099</td>\n",
       "    </tr>\n",
       "    <tr>\n",
       "      <th>613</th>\n",
       "      <td>Ethiopia</td>\n",
       "      <td>2021</td>\n",
       "      <td>17.19649</td>\n",
       "    </tr>\n",
       "    <tr>\n",
       "      <th>614</th>\n",
       "      <td>Ethiopia</td>\n",
       "      <td>2022</td>\n",
       "      <td>17.19649</td>\n",
       "    </tr>\n",
       "    <tr>\n",
       "      <th>615</th>\n",
       "      <td>Ethiopia</td>\n",
       "      <td>2023</td>\n",
       "      <td>17.19649</td>\n",
       "    </tr>\n",
       "  </tbody>\n",
       "</table>\n",
       "</div>"
      ],
      "text/plain": [
       "      Country  Year  OffGrid_MW\n",
       "603  Ethiopia  2011     0.03260\n",
       "604  Ethiopia  2012     0.09417\n",
       "605  Ethiopia  2013     0.09417\n",
       "606  Ethiopia  2014     3.43755\n",
       "607  Ethiopia  2015     3.45255\n",
       "608  Ethiopia  2016    10.58755\n",
       "609  Ethiopia  2017    10.59109\n",
       "610  Ethiopia  2018    14.17499\n",
       "611  Ethiopia  2019    14.74049\n",
       "612  Ethiopia  2020    15.63099\n",
       "613  Ethiopia  2021    17.19649\n",
       "614  Ethiopia  2022    17.19649\n",
       "615  Ethiopia  2023    17.19649"
      ]
     },
     "execution_count": 18,
     "metadata": {},
     "output_type": "execute_result"
    }
   ],
   "source": [
    "# Group  solar Off grid data for Ethiopia between 2011 and 2023\n",
    "ethiopia_offgrid = solar_offgrid_agg[\n",
    "    (solar_offgrid_agg[\"Country\"] == \"Ethiopia\")\n",
    "    & (solar_offgrid_agg[\"Year\"].between(2011, 2023))\n",
    "]\n",
    "ethiopia_offgrid.head(15)"
   ]
  },
  {
   "cell_type": "code",
   "execution_count": 19,
   "id": "mFNMCmQCHIhS",
   "metadata": {
    "colab": {
     "base_uri": "https://localhost:8080/",
     "height": 457
    },
    "collapsed": true,
    "executionInfo": {
     "elapsed": 112,
     "status": "ok",
     "timestamp": 1753107260786,
     "user": {
      "displayName": "Mohamed Altayeb",
      "userId": "11689706532021511115"
     },
     "user_tz": -120
    },
    "id": "mFNMCmQCHIhS",
    "outputId": "dd7afbb9-1094-4c7d-b49b-a6983b9b3e89"
   },
   "outputs": [
    {
     "data": {
      "text/html": [
       "<div>\n",
       "<style scoped>\n",
       "    .dataframe tbody tr th:only-of-type {\n",
       "        vertical-align: middle;\n",
       "    }\n",
       "\n",
       "    .dataframe tbody tr th {\n",
       "        vertical-align: top;\n",
       "    }\n",
       "\n",
       "    .dataframe thead th {\n",
       "        text-align: right;\n",
       "    }\n",
       "</style>\n",
       "<table border=\"1\" class=\"dataframe\">\n",
       "  <thead>\n",
       "    <tr style=\"text-align: right;\">\n",
       "      <th></th>\n",
       "      <th>Year</th>\n",
       "      <th>Imports_USD</th>\n",
       "      <th>OffGrid_MW</th>\n",
       "    </tr>\n",
       "  </thead>\n",
       "  <tbody>\n",
       "    <tr>\n",
       "      <th>0</th>\n",
       "      <td>2011</td>\n",
       "      <td>2.097474e+07</td>\n",
       "      <td>0.03260</td>\n",
       "    </tr>\n",
       "    <tr>\n",
       "      <th>1</th>\n",
       "      <td>2012</td>\n",
       "      <td>2.787158e+07</td>\n",
       "      <td>0.09417</td>\n",
       "    </tr>\n",
       "    <tr>\n",
       "      <th>2</th>\n",
       "      <td>2013</td>\n",
       "      <td>2.594942e+07</td>\n",
       "      <td>0.09417</td>\n",
       "    </tr>\n",
       "    <tr>\n",
       "      <th>3</th>\n",
       "      <td>2014</td>\n",
       "      <td>4.737693e+07</td>\n",
       "      <td>3.43755</td>\n",
       "    </tr>\n",
       "    <tr>\n",
       "      <th>4</th>\n",
       "      <td>2015</td>\n",
       "      <td>4.564162e+07</td>\n",
       "      <td>3.45255</td>\n",
       "    </tr>\n",
       "    <tr>\n",
       "      <th>5</th>\n",
       "      <td>2016</td>\n",
       "      <td>5.148506e+07</td>\n",
       "      <td>10.58755</td>\n",
       "    </tr>\n",
       "    <tr>\n",
       "      <th>6</th>\n",
       "      <td>2017</td>\n",
       "      <td>4.190237e+07</td>\n",
       "      <td>10.59109</td>\n",
       "    </tr>\n",
       "    <tr>\n",
       "      <th>7</th>\n",
       "      <td>2018</td>\n",
       "      <td>6.891282e+07</td>\n",
       "      <td>14.17499</td>\n",
       "    </tr>\n",
       "    <tr>\n",
       "      <th>8</th>\n",
       "      <td>2019</td>\n",
       "      <td>7.506078e+07</td>\n",
       "      <td>14.74049</td>\n",
       "    </tr>\n",
       "    <tr>\n",
       "      <th>9</th>\n",
       "      <td>2020</td>\n",
       "      <td>6.940082e+07</td>\n",
       "      <td>15.63099</td>\n",
       "    </tr>\n",
       "    <tr>\n",
       "      <th>10</th>\n",
       "      <td>2021</td>\n",
       "      <td>6.480637e+07</td>\n",
       "      <td>17.19649</td>\n",
       "    </tr>\n",
       "    <tr>\n",
       "      <th>11</th>\n",
       "      <td>2022</td>\n",
       "      <td>1.069483e+08</td>\n",
       "      <td>17.19649</td>\n",
       "    </tr>\n",
       "    <tr>\n",
       "      <th>12</th>\n",
       "      <td>2023</td>\n",
       "      <td>1.306549e+08</td>\n",
       "      <td>17.19649</td>\n",
       "    </tr>\n",
       "  </tbody>\n",
       "</table>\n",
       "</div>"
      ],
      "text/plain": [
       "    Year   Imports_USD  OffGrid_MW\n",
       "0   2011  2.097474e+07     0.03260\n",
       "1   2012  2.787158e+07     0.09417\n",
       "2   2013  2.594942e+07     0.09417\n",
       "3   2014  4.737693e+07     3.43755\n",
       "4   2015  4.564162e+07     3.45255\n",
       "5   2016  5.148506e+07    10.58755\n",
       "6   2017  4.190237e+07    10.59109\n",
       "7   2018  6.891282e+07    14.17499\n",
       "8   2019  7.506078e+07    14.74049\n",
       "9   2020  6.940082e+07    15.63099\n",
       "10  2021  6.480637e+07    17.19649\n",
       "11  2022  1.069483e+08    17.19649\n",
       "12  2023  1.306549e+08    17.19649"
      ]
     },
     "execution_count": 19,
     "metadata": {},
     "output_type": "execute_result"
    }
   ],
   "source": [
    "# Merge on 'Year' and Country\n",
    "ethiopia_merged = pd.merge(\n",
    "    ethiopia_imports[[\"Year\", \"Imports_USD\"]],\n",
    "    ethiopia_offgrid[[\"Year\", \"OffGrid_MW\"]],\n",
    "    on=\"Year\",\n",
    "    how=\"inner\",\n",
    ")\n",
    "ethiopia_merged.head(13)"
   ]
  },
  {
   "cell_type": "code",
   "execution_count": 20,
   "id": "gqvG2Wx2HgMj",
   "metadata": {
    "colab": {
     "base_uri": "https://localhost:8080/"
    },
    "executionInfo": {
     "elapsed": 84,
     "status": "ok",
     "timestamp": 1753103664987,
     "user": {
      "displayName": "Mohamed Altayeb",
      "userId": "11689706532021511115"
     },
     "user_tz": -120
    },
    "id": "gqvG2Wx2HgMj",
    "outputId": "0d8c9660-01c0-4467-d372-f2c6623109cc"
   },
   "outputs": [
    {
     "name": "stdout",
     "output_type": "stream",
     "text": [
      "Correlation between import value and off-grid capacity for Ethiopia: 0.8294117928315476\n"
     ]
    }
   ],
   "source": [
    "# Compute correlation\n",
    "ethiopia_correlation = ethiopia_merged[\"Imports_USD\"].corr(\n",
    "    ethiopia_merged[\"OffGrid_MW\"]\n",
    ")\n",
    "print(\n",
    "    \"Correlation between import value and off-grid capacity for Ethiopia:\",\n",
    "    ethiopia_correlation,\n",
    ")"
   ]
  },
  {
   "cell_type": "code",
   "execution_count": 21,
   "id": "skQu4xH5aBYa",
   "metadata": {
    "colab": {
     "base_uri": "https://localhost:8080/",
     "height": 307
    },
    "executionInfo": {
     "elapsed": 226,
     "status": "ok",
     "timestamp": 1753109036915,
     "user": {
      "displayName": "Mohamed Altayeb",
      "userId": "11689706532021511115"
     },
     "user_tz": -120
    },
    "id": "skQu4xH5aBYa",
    "outputId": "5bcd96b0-649b-4b9d-a135-9284aca73fce"
   },
   "outputs": [
    {
     "data": {
      "image/png": "[encoded data removed]",
      "text/plain": [
       "<Figure size 400x300 with 1 Axes>"
      ]
     },
     "metadata": {},
     "output_type": "display_data"
    }
   ],
   "source": [
    "# Scatter plot\n",
    "plt.figure(figsize=(4, 3))\n",
    "sns.scatterplot(\n",
    "    data=ethiopia_merged, x=\"Imports_USD\", y=\"OffGrid_MW\", color=\"darkorange\", s=50\n",
    ")\n",
    "plt.title(\"Ethiopia: Imports vs Off-Grid Solar Deployment\")\n",
    "plt.xlabel(\"Imports (USD)\")\n",
    "plt.ylabel(\"Off-Grid Solar Deployment (MW)\")\n",
    "plt.grid(True)\n",
    "plt.tight_layout()\n",
    "plt.show()"
   ]
  },
  {
   "cell_type": "markdown",
   "id": "GqifOhJDIeeF",
   "metadata": {
    "id": "GqifOhJDIeeF"
   },
   "source": [
    "## Correlation analysis between Imports data and solar Off grid data between 2016 and 2018"
   ]
  },
  {
   "cell_type": "code",
   "execution_count": 22,
   "id": "Pb9QAZ3QHqoG",
   "metadata": {
    "colab": {
     "base_uri": "https://localhost:8080/",
     "height": 363
    },
    "collapsed": true,
    "executionInfo": {
     "elapsed": 67,
     "status": "ok",
     "timestamp": 1753108005912,
     "user": {
      "displayName": "Mohamed Altayeb",
      "userId": "11689706532021511115"
     },
     "user_tz": -120
    },
    "id": "Pb9QAZ3QHqoG",
    "outputId": "d2494b84-b787-4026-b3ca-6e4cbc4dcc1f"
   },
   "outputs": [
    {
     "data": {
      "text/html": [
       "<div>\n",
       "<style scoped>\n",
       "    .dataframe tbody tr th:only-of-type {\n",
       "        vertical-align: middle;\n",
       "    }\n",
       "\n",
       "    .dataframe tbody tr th {\n",
       "        vertical-align: top;\n",
       "    }\n",
       "\n",
       "    .dataframe thead th {\n",
       "        text-align: right;\n",
       "    }\n",
       "</style>\n",
       "<table border=\"1\" class=\"dataframe\">\n",
       "  <thead>\n",
       "    <tr style=\"text-align: right;\">\n",
       "      <th></th>\n",
       "      <th>Country</th>\n",
       "      <th>Year</th>\n",
       "      <th>Imports_USD</th>\n",
       "    </tr>\n",
       "  </thead>\n",
       "  <tbody>\n",
       "    <tr>\n",
       "      <th>16</th>\n",
       "      <td>Central African Rep.</td>\n",
       "      <td>2016</td>\n",
       "      <td>1.047814e+06</td>\n",
       "    </tr>\n",
       "    <tr>\n",
       "      <th>17</th>\n",
       "      <td>Central African Rep.</td>\n",
       "      <td>2017</td>\n",
       "      <td>7.392743e+05</td>\n",
       "    </tr>\n",
       "    <tr>\n",
       "      <th>18</th>\n",
       "      <td>Central African Rep.</td>\n",
       "      <td>2018</td>\n",
       "      <td>5.960503e+06</td>\n",
       "    </tr>\n",
       "    <tr>\n",
       "      <th>40</th>\n",
       "      <td>Ethiopia</td>\n",
       "      <td>2016</td>\n",
       "      <td>5.148506e+07</td>\n",
       "    </tr>\n",
       "    <tr>\n",
       "      <th>41</th>\n",
       "      <td>Ethiopia</td>\n",
       "      <td>2017</td>\n",
       "      <td>4.190237e+07</td>\n",
       "    </tr>\n",
       "    <tr>\n",
       "      <th>42</th>\n",
       "      <td>Ethiopia</td>\n",
       "      <td>2018</td>\n",
       "      <td>6.891282e+07</td>\n",
       "    </tr>\n",
       "    <tr>\n",
       "      <th>64</th>\n",
       "      <td>Germany</td>\n",
       "      <td>2016</td>\n",
       "      <td>7.590390e+09</td>\n",
       "    </tr>\n",
       "    <tr>\n",
       "      <th>65</th>\n",
       "      <td>Germany</td>\n",
       "      <td>2017</td>\n",
       "      <td>8.856396e+09</td>\n",
       "    </tr>\n",
       "    <tr>\n",
       "      <th>66</th>\n",
       "      <td>Germany</td>\n",
       "      <td>2018</td>\n",
       "      <td>1.006528e+10</td>\n",
       "    </tr>\n",
       "    <tr>\n",
       "      <th>78</th>\n",
       "      <td>Libya</td>\n",
       "      <td>2016</td>\n",
       "      <td>1.468795e+07</td>\n",
       "    </tr>\n",
       "  </tbody>\n",
       "</table>\n",
       "</div>"
      ],
      "text/plain": [
       "                 Country  Year   Imports_USD\n",
       "16  Central African Rep.  2016  1.047814e+06\n",
       "17  Central African Rep.  2017  7.392743e+05\n",
       "18  Central African Rep.  2018  5.960503e+06\n",
       "40              Ethiopia  2016  5.148506e+07\n",
       "41              Ethiopia  2017  4.190237e+07\n",
       "42              Ethiopia  2018  6.891282e+07\n",
       "64               Germany  2016  7.590390e+09\n",
       "65               Germany  2017  8.856396e+09\n",
       "66               Germany  2018  1.006528e+10\n",
       "78                 Libya  2016  1.468795e+07"
      ]
     },
     "execution_count": 22,
     "metadata": {},
     "output_type": "execute_result"
    }
   ],
   "source": [
    "# Filter Imports data for a list of years\n",
    "years_filter = [2016, 2017, 2018]\n",
    "filtered_imports = imports_df_agg[imports_df_agg[\"Year\"].isin(years_filter)]\n",
    "filtered_imports.head(10)"
   ]
  },
  {
   "cell_type": "code",
   "execution_count": 23,
   "id": "AfVAOPTzLGUJ",
   "metadata": {
    "colab": {
     "base_uri": "https://localhost:8080/"
    },
    "executionInfo": {
     "elapsed": 46,
     "status": "ok",
     "timestamp": 1753108012687,
     "user": {
      "displayName": "Mohamed Altayeb",
      "userId": "11689706532021511115"
     },
     "user_tz": -120
    },
    "id": "AfVAOPTzLGUJ",
    "outputId": "3a5cd8d9-231f-41ca-e965-edc045aebaae"
   },
   "outputs": [
    {
     "name": "stdout",
     "output_type": "stream",
     "text": [
      "['Central African Rep.', 'Ethiopia', 'Germany', 'Libya', 'Mali', 'Morocco', 'Mozambique', 'Myanmar', 'Nigeria', 'Pakistan', 'Rwanda', 'Saudi Arabia', 'State of Palestine', 'Sudan', 'Ukraine', 'Yemen']\n"
     ]
    }
   ],
   "source": [
    "unique_countries = filtered_imports[\"Country\"].nunique()\n",
    "unique_countries_list = list(filtered_imports[\"Country\"].unique())\n",
    "print(unique_countries_list)"
   ]
  },
  {
   "cell_type": "code",
   "execution_count": 24,
   "id": "YdaANtw1LiIx",
   "metadata": {
    "colab": {
     "base_uri": "https://localhost:8080/"
    },
    "collapsed": true,
    "executionInfo": {
     "elapsed": 194,
     "status": "ok",
     "timestamp": 1753108260561,
     "user": {
      "displayName": "Mohamed Altayeb",
      "userId": "11689706532021511115"
     },
     "user_tz": -120
    },
    "id": "YdaANtw1LiIx",
    "outputId": "57700052-18f2-4a35-9ec8-6dc23a869454"
   },
   "outputs": [
    {
     "data": {
      "text/plain": [
       "(33, 3)"
      ]
     },
     "execution_count": 24,
     "metadata": {},
     "output_type": "execute_result"
    }
   ],
   "source": [
    "# Filter Off grid data for a list of years and the countries present in imports data\n",
    "years_filter = [2016, 2017, 2018]\n",
    "filtered_offgrid = solar_offgrid_agg[\n",
    "    (solar_offgrid_agg[\"Year\"].isin(years_filter))\n",
    "    & (solar_offgrid_agg[\"Country\"].isin(unique_countries_list))\n",
    "]\n",
    "filtered_offgrid.shape"
   ]
  },
  {
   "cell_type": "code",
   "execution_count": 25,
   "id": "UyeidfpVQg9B",
   "metadata": {
    "colab": {
     "base_uri": "https://localhost:8080/"
    },
    "executionInfo": {
     "elapsed": 58,
     "status": "ok",
     "timestamp": 1753108262813,
     "user": {
      "displayName": "Mohamed Altayeb",
      "userId": "11689706532021511115"
     },
     "user_tz": -120
    },
    "id": "UyeidfpVQg9B",
    "outputId": "d570ca0b-68c6-4fd0-a1ac-265091172b8d"
   },
   "outputs": [
    {
     "name": "stdout",
     "output_type": "stream",
     "text": [
      "['Ethiopia', 'Libya', 'Mali', 'Morocco', 'Mozambique', 'Myanmar', 'Nigeria', 'Pakistan', 'Rwanda', 'Saudi Arabia', 'Yemen']\n",
      "11\n"
     ]
    }
   ],
   "source": [
    "# Get the countries common between both data sets for these years\n",
    "unique_countries2 = filtered_offgrid[\"Country\"].nunique()\n",
    "unique_countries_list2 = list(filtered_offgrid[\"Country\"].unique())\n",
    "print(unique_countries_list2)\n",
    "print(unique_countries2)"
   ]
  },
  {
   "cell_type": "code",
   "execution_count": 26,
   "id": "-xQVdDReQ7p4",
   "metadata": {
    "colab": {
     "base_uri": "https://localhost:8080/"
    },
    "executionInfo": {
     "elapsed": 55,
     "status": "ok",
     "timestamp": 1753108266959,
     "user": {
      "displayName": "Mohamed Altayeb",
      "userId": "11689706532021511115"
     },
     "user_tz": -120
    },
    "id": "-xQVdDReQ7p4",
    "outputId": "2ba09c16-a0b5-48b5-a36d-9531d2eb8129"
   },
   "outputs": [
    {
     "data": {
      "text/plain": [
       "(31, 3)"
      ]
     },
     "execution_count": 26,
     "metadata": {},
     "output_type": "execute_result"
    }
   ],
   "source": [
    "# Filter imports data for countries present across both imports data and solar offgrid data\n",
    "filtered_imports1 = imports_df_agg[\n",
    "    (imports_df_agg[\"Year\"].isin(years_filter))\n",
    "    & (imports_df_agg[\"Country\"].isin(unique_countries_list2))\n",
    "]\n",
    "filtered_imports1.shape"
   ]
  },
  {
   "cell_type": "code",
   "execution_count": 27,
   "id": "PI8vBF1fTjrd",
   "metadata": {
    "colab": {
     "base_uri": "https://localhost:8080/",
     "height": 206
    },
    "executionInfo": {
     "elapsed": 60,
     "status": "ok",
     "timestamp": 1753108290346,
     "user": {
      "displayName": "Mohamed Altayeb",
      "userId": "11689706532021511115"
     },
     "user_tz": -120
    },
    "id": "PI8vBF1fTjrd",
    "outputId": "71c31eba-630d-4b72-b6cd-fceb97f12101"
   },
   "outputs": [
    {
     "data": {
      "text/html": [
       "<div>\n",
       "<style scoped>\n",
       "    .dataframe tbody tr th:only-of-type {\n",
       "        vertical-align: middle;\n",
       "    }\n",
       "\n",
       "    .dataframe tbody tr th {\n",
       "        vertical-align: top;\n",
       "    }\n",
       "\n",
       "    .dataframe thead th {\n",
       "        text-align: right;\n",
       "    }\n",
       "</style>\n",
       "<table border=\"1\" class=\"dataframe\">\n",
       "  <thead>\n",
       "    <tr style=\"text-align: right;\">\n",
       "      <th></th>\n",
       "      <th>Country</th>\n",
       "      <th>Year</th>\n",
       "      <th>Imports_USD</th>\n",
       "    </tr>\n",
       "  </thead>\n",
       "  <tbody>\n",
       "    <tr>\n",
       "      <th>40</th>\n",
       "      <td>Ethiopia</td>\n",
       "      <td>2016</td>\n",
       "      <td>5.148506e+07</td>\n",
       "    </tr>\n",
       "    <tr>\n",
       "      <th>41</th>\n",
       "      <td>Ethiopia</td>\n",
       "      <td>2017</td>\n",
       "      <td>4.190237e+07</td>\n",
       "    </tr>\n",
       "    <tr>\n",
       "      <th>42</th>\n",
       "      <td>Ethiopia</td>\n",
       "      <td>2018</td>\n",
       "      <td>6.891282e+07</td>\n",
       "    </tr>\n",
       "    <tr>\n",
       "      <th>78</th>\n",
       "      <td>Libya</td>\n",
       "      <td>2016</td>\n",
       "      <td>1.468795e+07</td>\n",
       "    </tr>\n",
       "    <tr>\n",
       "      <th>79</th>\n",
       "      <td>Libya</td>\n",
       "      <td>2017</td>\n",
       "      <td>1.738022e+07</td>\n",
       "    </tr>\n",
       "  </tbody>\n",
       "</table>\n",
       "</div>"
      ],
      "text/plain": [
       "     Country  Year   Imports_USD\n",
       "40  Ethiopia  2016  5.148506e+07\n",
       "41  Ethiopia  2017  4.190237e+07\n",
       "42  Ethiopia  2018  6.891282e+07\n",
       "78     Libya  2016  1.468795e+07\n",
       "79     Libya  2017  1.738022e+07"
      ]
     },
     "execution_count": 27,
     "metadata": {},
     "output_type": "execute_result"
    }
   ],
   "source": [
    "# Create a new list excluding 'Yemen' to make both the same shape and Saudi Arabia because it is an outlier\n",
    "filtered_countries = [\n",
    "    c for c in unique_countries_list2 if c not in [\"Yemen\", \"Saudi Arabia\"]\n",
    "]\n",
    "\n",
    "# Apply the filter\n",
    "filtered_imports2 = imports_df_agg[\n",
    "    (imports_df_agg[\"Year\"].isin(years_filter))\n",
    "    & (imports_df_agg[\"Country\"].isin(filtered_countries))\n",
    "]\n",
    "filtered_offgrid2 = solar_offgrid_agg[\n",
    "    (solar_offgrid_agg[\"Year\"].isin(years_filter))\n",
    "    & (solar_offgrid_agg[\"Country\"].isin(filtered_countries))\n",
    "]\n",
    "filtered_imports2.head()"
   ]
  },
  {
   "cell_type": "code",
   "execution_count": 48,
   "id": "Fzj1jLmYUyf8",
   "metadata": {
    "colab": {
     "base_uri": "https://localhost:8080/",
     "height": 896
    },
    "executionInfo": {
     "elapsed": 195,
     "status": "ok",
     "timestamp": 1753108297702,
     "user": {
      "displayName": "Mohamed Altayeb",
      "userId": "11689706532021511115"
     },
     "user_tz": -120
    },
    "id": "Fzj1jLmYUyf8",
    "outputId": "a2826d4d-6590-490a-b657-16281b6e9eff"
   },
   "outputs": [
    {
     "data": {
      "text/html": [
       "<div>\n",
       "<style scoped>\n",
       "    .dataframe tbody tr th:only-of-type {\n",
       "        vertical-align: middle;\n",
       "    }\n",
       "\n",
       "    .dataframe tbody tr th {\n",
       "        vertical-align: top;\n",
       "    }\n",
       "\n",
       "    .dataframe thead th {\n",
       "        text-align: right;\n",
       "    }\n",
       "</style>\n",
       "<table border=\"1\" class=\"dataframe\">\n",
       "  <thead>\n",
       "    <tr style=\"text-align: right;\">\n",
       "      <th></th>\n",
       "      <th>Country</th>\n",
       "      <th>Year</th>\n",
       "      <th>Imports_USD</th>\n",
       "      <th>OffGrid_MW</th>\n",
       "    </tr>\n",
       "  </thead>\n",
       "  <tbody>\n",
       "    <tr>\n",
       "      <th>0</th>\n",
       "      <td>Ethiopia</td>\n",
       "      <td>2016</td>\n",
       "      <td>5.148506e+07</td>\n",
       "      <td>10.58755</td>\n",
       "    </tr>\n",
       "    <tr>\n",
       "      <th>1</th>\n",
       "      <td>Ethiopia</td>\n",
       "      <td>2017</td>\n",
       "      <td>4.190237e+07</td>\n",
       "      <td>10.59109</td>\n",
       "    </tr>\n",
       "    <tr>\n",
       "      <th>2</th>\n",
       "      <td>Ethiopia</td>\n",
       "      <td>2018</td>\n",
       "      <td>6.891282e+07</td>\n",
       "      <td>14.17499</td>\n",
       "    </tr>\n",
       "    <tr>\n",
       "      <th>3</th>\n",
       "      <td>Libya</td>\n",
       "      <td>2016</td>\n",
       "      <td>1.468795e+07</td>\n",
       "      <td>4.76820</td>\n",
       "    </tr>\n",
       "    <tr>\n",
       "      <th>4</th>\n",
       "      <td>Libya</td>\n",
       "      <td>2017</td>\n",
       "      <td>1.738022e+07</td>\n",
       "      <td>4.97820</td>\n",
       "    </tr>\n",
       "  </tbody>\n",
       "</table>\n",
       "</div>"
      ],
      "text/plain": [
       "    Country  Year   Imports_USD  OffGrid_MW\n",
       "0  Ethiopia  2016  5.148506e+07    10.58755\n",
       "1  Ethiopia  2017  4.190237e+07    10.59109\n",
       "2  Ethiopia  2018  6.891282e+07    14.17499\n",
       "3     Libya  2016  1.468795e+07     4.76820\n",
       "4     Libya  2017  1.738022e+07     4.97820"
      ]
     },
     "execution_count": 48,
     "metadata": {},
     "output_type": "execute_result"
    }
   ],
   "source": [
    "# Sort both dataframes\n",
    "filtered_imports2 = filtered_imports2.sort_values(by=[\"Country\", \"Year\"])\n",
    "filtered_offgrid2 = filtered_offgrid2.sort_values(by=[\"Country\", \"Year\"])\n",
    "\n",
    "# Merge on both 'Country' and 'Year'\n",
    "time_filtered_merged = pd.merge(\n",
    "    filtered_imports2[[\"Country\", \"Year\", \"Imports_USD\"]],\n",
    "    filtered_offgrid2[[\"Country\", \"Year\", \"OffGrid_MW\"]],\n",
    "    on=[\"Country\", \"Year\"],\n",
    "    how=\"inner\",  # Use 'inner' to keep only rows that exist in both dataframes\n",
    ")\n",
    "\n",
    "time_filtered_merged.head()"
   ]
  },
  {
   "cell_type": "code",
   "execution_count": 29,
   "id": "7myzm5CjW5aw",
   "metadata": {
    "colab": {
     "base_uri": "https://localhost:8080/"
    },
    "executionInfo": {
     "elapsed": 95,
     "status": "ok",
     "timestamp": 1753108304912,
     "user": {
      "displayName": "Mohamed Altayeb",
      "userId": "11689706532021511115"
     },
     "user_tz": -120
    },
    "id": "7myzm5CjW5aw",
    "outputId": "1504fe9c-6189-4aeb-a2ad-8fbe63d64644"
   },
   "outputs": [
    {
     "name": "stdout",
     "output_type": "stream",
     "text": [
      "Correlation between import value and off-grid capacity in the period (2016-2018) 0.34794288463822876\n"
     ]
    }
   ],
   "source": [
    "# Compute correlation\n",
    "time_filtered_correlation = time_filtered_merged[\"Imports_USD\"].corr(\n",
    "    time_filtered_merged[\"OffGrid_MW\"]\n",
    ")\n",
    "print(\n",
    "    \"Correlation between import value and off-grid capacity in the period (2016-2018)\",\n",
    "    time_filtered_correlation,\n",
    ")"
   ]
  },
  {
   "cell_type": "code",
   "execution_count": 30,
   "id": "lTvWSSltcWT6",
   "metadata": {
    "colab": {
     "base_uri": "https://localhost:8080/",
     "height": 407
    },
    "executionInfo": {
     "elapsed": 166,
     "status": "ok",
     "timestamp": 1753109364479,
     "user": {
      "displayName": "Mohamed Altayeb",
      "userId": "11689706532021511115"
     },
     "user_tz": -120
    },
    "id": "lTvWSSltcWT6",
    "outputId": "d42c4bf5-e836-4d77-d6bf-6537cd35b96e"
   },
   "outputs": [
    {
     "data": {
      "image/png": "[encoded data removed]",
      "text/plain": [
       "<Figure size 800x400 with 1 Axes>"
      ]
     },
     "metadata": {},
     "output_type": "display_data"
    }
   ],
   "source": [
    "# Scatter plot\n",
    "plt.figure(figsize=(8, 4))\n",
    "sns.scatterplot(\n",
    "    data=time_filtered_merged, x=\"Imports_USD\", y=\"OffGrid_MW\", color=\"darkorange\", s=50\n",
    ")\n",
    "plt.title(\"2016-2018: Imports vs Off-Grid Solar Deployment\")\n",
    "plt.xlabel(\"Imports (USD)\")\n",
    "plt.ylabel(\"Off-Grid Solar Deployment (MW)\")\n",
    "plt.grid(True)\n",
    "plt.tight_layout()\n",
    "plt.show()"
   ]
  },
  {
   "cell_type": "markdown",
   "id": "Cs8VIvg7BTa9",
   "metadata": {
    "id": "Cs8VIvg7BTa9"
   },
   "source": [
    "# **Second: Imports VS  On Grid**"
   ]
  },
  {
   "cell_type": "code",
   "execution_count": 31,
   "id": "sZAQBgm5ugUY",
   "metadata": {
    "colab": {
     "base_uri": "https://localhost:8080/"
    },
    "collapsed": true,
    "executionInfo": {
     "elapsed": 612,
     "status": "ok",
     "timestamp": 1753130248823,
     "user": {
      "displayName": "Mohamed Altayeb",
      "userId": "11689706532021511115"
     },
     "user_tz": -120
    },
    "id": "sZAQBgm5ugUY",
    "outputId": "cd20c225-c4c2-478f-ef1f-249acfdf002c"
   },
   "outputs": [
    {
     "data": {
      "text/html": [
       "<div>\n",
       "<style scoped>\n",
       "    .dataframe tbody tr th:only-of-type {\n",
       "        vertical-align: middle;\n",
       "    }\n",
       "\n",
       "    .dataframe tbody tr th {\n",
       "        vertical-align: top;\n",
       "    }\n",
       "\n",
       "    .dataframe thead th {\n",
       "        text-align: right;\n",
       "    }\n",
       "</style>\n",
       "<table border=\"1\" class=\"dataframe\">\n",
       "  <thead>\n",
       "    <tr style=\"text-align: right;\">\n",
       "      <th></th>\n",
       "      <th>Region</th>\n",
       "      <th>Sub-region</th>\n",
       "      <th>Country</th>\n",
       "      <th>ISO3 code</th>\n",
       "      <th>RE or Non-RE</th>\n",
       "      <th>Group Technology</th>\n",
       "      <th>Technology</th>\n",
       "      <th>Sub-Technology</th>\n",
       "      <th>Producer Type</th>\n",
       "      <th>Year</th>\n",
       "      <th>OnGrid_MW</th>\n",
       "      <th>Classification</th>\n",
       "    </tr>\n",
       "  </thead>\n",
       "  <tbody>\n",
       "    <tr>\n",
       "      <th>111</th>\n",
       "      <td>Africa</td>\n",
       "      <td>Northern Africa</td>\n",
       "      <td>Algeria</td>\n",
       "      <td>DZA</td>\n",
       "      <td>Total Renewable</td>\n",
       "      <td>Solar energy</td>\n",
       "      <td>Solar photovoltaic</td>\n",
       "      <td>On-grid Solar photovoltaic</td>\n",
       "      <td>On-grid electricity</td>\n",
       "      <td>2014</td>\n",
       "      <td>2.2</td>\n",
       "      <td>Comparison Countries</td>\n",
       "    </tr>\n",
       "    <tr>\n",
       "      <th>112</th>\n",
       "      <td>Africa</td>\n",
       "      <td>Northern Africa</td>\n",
       "      <td>Algeria</td>\n",
       "      <td>DZA</td>\n",
       "      <td>Total Renewable</td>\n",
       "      <td>Solar energy</td>\n",
       "      <td>Solar photovoltaic</td>\n",
       "      <td>On-grid Solar photovoltaic</td>\n",
       "      <td>On-grid electricity</td>\n",
       "      <td>2015</td>\n",
       "      <td>17.2</td>\n",
       "      <td>Comparison Countries</td>\n",
       "    </tr>\n",
       "    <tr>\n",
       "      <th>113</th>\n",
       "      <td>Africa</td>\n",
       "      <td>Northern Africa</td>\n",
       "      <td>Algeria</td>\n",
       "      <td>DZA</td>\n",
       "      <td>Total Renewable</td>\n",
       "      <td>Solar energy</td>\n",
       "      <td>Solar photovoltaic</td>\n",
       "      <td>On-grid Solar photovoltaic</td>\n",
       "      <td>On-grid electricity</td>\n",
       "      <td>2016</td>\n",
       "      <td>217.2</td>\n",
       "      <td>Comparison Countries</td>\n",
       "    </tr>\n",
       "    <tr>\n",
       "      <th>114</th>\n",
       "      <td>Africa</td>\n",
       "      <td>Northern Africa</td>\n",
       "      <td>Algeria</td>\n",
       "      <td>DZA</td>\n",
       "      <td>Total Renewable</td>\n",
       "      <td>Solar energy</td>\n",
       "      <td>Solar photovoltaic</td>\n",
       "      <td>On-grid Solar photovoltaic</td>\n",
       "      <td>On-grid electricity</td>\n",
       "      <td>2017</td>\n",
       "      <td>310.2</td>\n",
       "      <td>Comparison Countries</td>\n",
       "    </tr>\n",
       "    <tr>\n",
       "      <th>115</th>\n",
       "      <td>Africa</td>\n",
       "      <td>Northern Africa</td>\n",
       "      <td>Algeria</td>\n",
       "      <td>DZA</td>\n",
       "      <td>Total Renewable</td>\n",
       "      <td>Solar energy</td>\n",
       "      <td>Solar photovoltaic</td>\n",
       "      <td>On-grid Solar photovoltaic</td>\n",
       "      <td>On-grid electricity</td>\n",
       "      <td>2018</td>\n",
       "      <td>322.2</td>\n",
       "      <td>Comparison Countries</td>\n",
       "    </tr>\n",
       "  </tbody>\n",
       "</table>\n",
       "</div>"
      ],
      "text/plain": [
       "     Region       Sub-region  Country ISO3 code     RE or Non-RE  \\\n",
       "111  Africa  Northern Africa  Algeria       DZA  Total Renewable   \n",
       "112  Africa  Northern Africa  Algeria       DZA  Total Renewable   \n",
       "113  Africa  Northern Africa  Algeria       DZA  Total Renewable   \n",
       "114  Africa  Northern Africa  Algeria       DZA  Total Renewable   \n",
       "115  Africa  Northern Africa  Algeria       DZA  Total Renewable   \n",
       "\n",
       "    Group Technology          Technology              Sub-Technology  \\\n",
       "111     Solar energy  Solar photovoltaic  On-grid Solar photovoltaic   \n",
       "112     Solar energy  Solar photovoltaic  On-grid Solar photovoltaic   \n",
       "113     Solar energy  Solar photovoltaic  On-grid Solar photovoltaic   \n",
       "114     Solar energy  Solar photovoltaic  On-grid Solar photovoltaic   \n",
       "115     Solar energy  Solar photovoltaic  On-grid Solar photovoltaic   \n",
       "\n",
       "           Producer Type  Year  OnGrid_MW        Classification  \n",
       "111  On-grid electricity  2014        2.2  Comparison Countries  \n",
       "112  On-grid electricity  2015       17.2  Comparison Countries  \n",
       "113  On-grid electricity  2016      217.2  Comparison Countries  \n",
       "114  On-grid electricity  2017      310.2  Comparison Countries  \n",
       "115  On-grid electricity  2018      322.2  Comparison Countries  "
      ]
     },
     "execution_count": 31,
     "metadata": {},
     "output_type": "execute_result"
    }
   ],
   "source": [
    "# Filter ON-GRID for only solar-related entries\n",
    "solar_ongrid = ongrid_df[\n",
    "    (ongrid_df[\"Technology\"].str.contains(\"Solar photovoltaic\", case=False, na=False))\n",
    "    & (\n",
    "        ongrid_df[\"Producer Type\"].str.contains(\n",
    "            \"On-grid electricity\", case=False, na=False\n",
    "        )\n",
    "    )\n",
    "]\n",
    "solar_ongrid.head()"
   ]
  },
  {
   "cell_type": "code",
   "execution_count": 32,
   "id": "QZ9R-VB5vGws",
   "metadata": {
    "colab": {
     "base_uri": "https://localhost:8080/"
    },
    "collapsed": true,
    "executionInfo": {
     "elapsed": 94,
     "status": "ok",
     "timestamp": 1753130273210,
     "user": {
      "displayName": "Mohamed Altayeb",
      "userId": "11689706532021511115"
     },
     "user_tz": -120
    },
    "id": "QZ9R-VB5vGws",
    "outputId": "f11b3a48-8965-40fc-ae65-3ce6f38ebc62"
   },
   "outputs": [
    {
     "data": {
      "text/html": [
       "<div>\n",
       "<style scoped>\n",
       "    .dataframe tbody tr th:only-of-type {\n",
       "        vertical-align: middle;\n",
       "    }\n",
       "\n",
       "    .dataframe tbody tr th {\n",
       "        vertical-align: top;\n",
       "    }\n",
       "\n",
       "    .dataframe thead th {\n",
       "        text-align: right;\n",
       "    }\n",
       "</style>\n",
       "<table border=\"1\" class=\"dataframe\">\n",
       "  <thead>\n",
       "    <tr style=\"text-align: right;\">\n",
       "      <th></th>\n",
       "      <th>Country</th>\n",
       "      <th>Year</th>\n",
       "      <th>OnGrid_MW</th>\n",
       "    </tr>\n",
       "  </thead>\n",
       "  <tbody>\n",
       "    <tr>\n",
       "      <th>0</th>\n",
       "      <td>Afghanistan</td>\n",
       "      <td>2017</td>\n",
       "      <td>1.7</td>\n",
       "    </tr>\n",
       "    <tr>\n",
       "      <th>1</th>\n",
       "      <td>Afghanistan</td>\n",
       "      <td>2018</td>\n",
       "      <td>1.7</td>\n",
       "    </tr>\n",
       "    <tr>\n",
       "      <th>2</th>\n",
       "      <td>Afghanistan</td>\n",
       "      <td>2019</td>\n",
       "      <td>31.7</td>\n",
       "    </tr>\n",
       "    <tr>\n",
       "      <th>3</th>\n",
       "      <td>Afghanistan</td>\n",
       "      <td>2020</td>\n",
       "      <td>31.7</td>\n",
       "    </tr>\n",
       "    <tr>\n",
       "      <th>4</th>\n",
       "      <td>Afghanistan</td>\n",
       "      <td>2021</td>\n",
       "      <td>31.7</td>\n",
       "    </tr>\n",
       "  </tbody>\n",
       "</table>\n",
       "</div>"
      ],
      "text/plain": [
       "       Country  Year  OnGrid_MW\n",
       "0  Afghanistan  2017        1.7\n",
       "1  Afghanistan  2018        1.7\n",
       "2  Afghanistan  2019       31.7\n",
       "3  Afghanistan  2020       31.7\n",
       "4  Afghanistan  2021       31.7"
      ]
     },
     "execution_count": 32,
     "metadata": {},
     "output_type": "execute_result"
    }
   ],
   "source": [
    "# Group and aggregate total installed solar capacity by Country & Year\n",
    "solar_ongrid_agg = solar_ongrid.groupby([\"Country\", \"Year\"], as_index=False)[\n",
    "    \"OnGrid_MW\"\n",
    "].sum()\n",
    "solar_ongrid_agg.head()"
   ]
  },
  {
   "cell_type": "code",
   "execution_count": 33,
   "id": "xG46OiDqhJJh",
   "metadata": {
    "id": "xG46OiDqhJJh"
   },
   "outputs": [],
   "source": [
    "# The total amount of On-Grid electricity capacity (including non renewable)\n",
    "total_ongrid = ongrid_df[\n",
    "    ongrid_df[\"Producer Type\"].str.contains(\"On-grid electricity\", case=False, na=False)\n",
    "]"
   ]
  },
  {
   "cell_type": "code",
   "execution_count": 34,
   "id": "P-ORSpgxtGE_",
   "metadata": {
    "colab": {
     "base_uri": "https://localhost:8080/"
    },
    "collapsed": true,
    "executionInfo": {
     "elapsed": 327,
     "status": "ok",
     "timestamp": 1753130288107,
     "user": {
      "displayName": "Mohamed Altayeb",
      "userId": "11689706532021511115"
     },
     "user_tz": -120
    },
    "id": "P-ORSpgxtGE_",
    "outputId": "015eb566-5d73-43aa-a8fa-baef9f3feef2"
   },
   "outputs": [
    {
     "data": {
      "text/html": [
       "<div>\n",
       "<style scoped>\n",
       "    .dataframe tbody tr th:only-of-type {\n",
       "        vertical-align: middle;\n",
       "    }\n",
       "\n",
       "    .dataframe tbody tr th {\n",
       "        vertical-align: top;\n",
       "    }\n",
       "\n",
       "    .dataframe thead th {\n",
       "        text-align: right;\n",
       "    }\n",
       "</style>\n",
       "<table border=\"1\" class=\"dataframe\">\n",
       "  <thead>\n",
       "    <tr style=\"text-align: right;\">\n",
       "      <th></th>\n",
       "      <th>Region</th>\n",
       "      <th>Sub-region</th>\n",
       "      <th>Country</th>\n",
       "      <th>ISO3 code</th>\n",
       "      <th>RE or Non-RE</th>\n",
       "      <th>Group Technology</th>\n",
       "      <th>Technology</th>\n",
       "      <th>Sub-Technology</th>\n",
       "      <th>Producer Type</th>\n",
       "      <th>Year</th>\n",
       "      <th>OnGrid_MW</th>\n",
       "      <th>Classification</th>\n",
       "    </tr>\n",
       "  </thead>\n",
       "  <tbody>\n",
       "    <tr>\n",
       "      <th>0</th>\n",
       "      <td>Africa</td>\n",
       "      <td>Northern Africa</td>\n",
       "      <td>Algeria</td>\n",
       "      <td>DZA</td>\n",
       "      <td>Total Non-Renewable</td>\n",
       "      <td>Fossil fuels</td>\n",
       "      <td>Natural gas</td>\n",
       "      <td>Natural gas</td>\n",
       "      <td>On-grid electricity</td>\n",
       "      <td>2000</td>\n",
       "      <td>5459.01</td>\n",
       "      <td>Comparison Countries</td>\n",
       "    </tr>\n",
       "    <tr>\n",
       "      <th>1</th>\n",
       "      <td>Africa</td>\n",
       "      <td>Northern Africa</td>\n",
       "      <td>Algeria</td>\n",
       "      <td>DZA</td>\n",
       "      <td>Total Non-Renewable</td>\n",
       "      <td>Fossil fuels</td>\n",
       "      <td>Natural gas</td>\n",
       "      <td>Natural gas</td>\n",
       "      <td>On-grid electricity</td>\n",
       "      <td>2001</td>\n",
       "      <td>5455.50</td>\n",
       "      <td>Comparison Countries</td>\n",
       "    </tr>\n",
       "    <tr>\n",
       "      <th>2</th>\n",
       "      <td>Africa</td>\n",
       "      <td>Northern Africa</td>\n",
       "      <td>Algeria</td>\n",
       "      <td>DZA</td>\n",
       "      <td>Total Non-Renewable</td>\n",
       "      <td>Fossil fuels</td>\n",
       "      <td>Natural gas</td>\n",
       "      <td>Natural gas</td>\n",
       "      <td>On-grid electricity</td>\n",
       "      <td>2002</td>\n",
       "      <td>5891.01</td>\n",
       "      <td>Comparison Countries</td>\n",
       "    </tr>\n",
       "    <tr>\n",
       "      <th>3</th>\n",
       "      <td>Africa</td>\n",
       "      <td>Northern Africa</td>\n",
       "      <td>Algeria</td>\n",
       "      <td>DZA</td>\n",
       "      <td>Total Non-Renewable</td>\n",
       "      <td>Fossil fuels</td>\n",
       "      <td>Natural gas</td>\n",
       "      <td>Natural gas</td>\n",
       "      <td>On-grid electricity</td>\n",
       "      <td>2003</td>\n",
       "      <td>6013.24</td>\n",
       "      <td>Comparison Countries</td>\n",
       "    </tr>\n",
       "    <tr>\n",
       "      <th>4</th>\n",
       "      <td>Africa</td>\n",
       "      <td>Northern Africa</td>\n",
       "      <td>Algeria</td>\n",
       "      <td>DZA</td>\n",
       "      <td>Total Non-Renewable</td>\n",
       "      <td>Fossil fuels</td>\n",
       "      <td>Natural gas</td>\n",
       "      <td>Natural gas</td>\n",
       "      <td>On-grid electricity</td>\n",
       "      <td>2004</td>\n",
       "      <td>6305.24</td>\n",
       "      <td>Comparison Countries</td>\n",
       "    </tr>\n",
       "  </tbody>\n",
       "</table>\n",
       "</div>"
      ],
      "text/plain": [
       "   Region       Sub-region  Country ISO3 code         RE or Non-RE  \\\n",
       "0  Africa  Northern Africa  Algeria       DZA  Total Non-Renewable   \n",
       "1  Africa  Northern Africa  Algeria       DZA  Total Non-Renewable   \n",
       "2  Africa  Northern Africa  Algeria       DZA  Total Non-Renewable   \n",
       "3  Africa  Northern Africa  Algeria       DZA  Total Non-Renewable   \n",
       "4  Africa  Northern Africa  Algeria       DZA  Total Non-Renewable   \n",
       "\n",
       "  Group Technology   Technology Sub-Technology        Producer Type  Year  \\\n",
       "0     Fossil fuels  Natural gas    Natural gas  On-grid electricity  2000   \n",
       "1     Fossil fuels  Natural gas    Natural gas  On-grid electricity  2001   \n",
       "2     Fossil fuels  Natural gas    Natural gas  On-grid electricity  2002   \n",
       "3     Fossil fuels  Natural gas    Natural gas  On-grid electricity  2003   \n",
       "4     Fossil fuels  Natural gas    Natural gas  On-grid electricity  2004   \n",
       "\n",
       "   OnGrid_MW        Classification  \n",
       "0    5459.01  Comparison Countries  \n",
       "1    5455.50  Comparison Countries  \n",
       "2    5891.01  Comparison Countries  \n",
       "3    6013.24  Comparison Countries  \n",
       "4    6305.24  Comparison Countries  "
      ]
     },
     "execution_count": 34,
     "metadata": {},
     "output_type": "execute_result"
    }
   ],
   "source": [
    "# The total amount of On-Grid electricity capacity (excluding solar energy)\n",
    "non_solar_ongrid = ongrid_df[\n",
    "    (\n",
    "        ongrid_df[\"Producer Type\"].str.contains(\n",
    "            \"On-grid electricity\", case=False, na=False\n",
    "        )\n",
    "    )\n",
    "    & (ongrid_df[\"Group Technology\"].str.lower() != \"solar energy\")\n",
    "]\n",
    "non_solar_ongrid.head()"
   ]
  },
  {
   "cell_type": "code",
   "execution_count": 35,
   "id": "hTsDtNkl6xyz",
   "metadata": {
    "colab": {
     "base_uri": "https://localhost:8080/"
    },
    "collapsed": true,
    "executionInfo": {
     "elapsed": 87,
     "status": "ok",
     "timestamp": 1753130297637,
     "user": {
      "displayName": "Mohamed Altayeb",
      "userId": "11689706532021511115"
     },
     "user_tz": -120
    },
    "id": "hTsDtNkl6xyz",
    "outputId": "2de8a6ed-2a2a-4e3b-f606-5c7523f4c0c3"
   },
   "outputs": [
    {
     "data": {
      "text/html": [
       "<div>\n",
       "<style scoped>\n",
       "    .dataframe tbody tr th:only-of-type {\n",
       "        vertical-align: middle;\n",
       "    }\n",
       "\n",
       "    .dataframe tbody tr th {\n",
       "        vertical-align: top;\n",
       "    }\n",
       "\n",
       "    .dataframe thead th {\n",
       "        text-align: right;\n",
       "    }\n",
       "</style>\n",
       "<table border=\"1\" class=\"dataframe\">\n",
       "  <thead>\n",
       "    <tr style=\"text-align: right;\">\n",
       "      <th></th>\n",
       "      <th>Country</th>\n",
       "      <th>Year</th>\n",
       "      <th>OnGrid_MW</th>\n",
       "    </tr>\n",
       "  </thead>\n",
       "  <tbody>\n",
       "    <tr>\n",
       "      <th>0</th>\n",
       "      <td>Afghanistan</td>\n",
       "      <td>2000</td>\n",
       "      <td>194.298</td>\n",
       "    </tr>\n",
       "    <tr>\n",
       "      <th>1</th>\n",
       "      <td>Afghanistan</td>\n",
       "      <td>2001</td>\n",
       "      <td>194.298</td>\n",
       "    </tr>\n",
       "    <tr>\n",
       "      <th>2</th>\n",
       "      <td>Afghanistan</td>\n",
       "      <td>2002</td>\n",
       "      <td>194.298</td>\n",
       "    </tr>\n",
       "    <tr>\n",
       "      <th>3</th>\n",
       "      <td>Afghanistan</td>\n",
       "      <td>2003</td>\n",
       "      <td>201.606</td>\n",
       "    </tr>\n",
       "    <tr>\n",
       "      <th>4</th>\n",
       "      <td>Afghanistan</td>\n",
       "      <td>2004</td>\n",
       "      <td>216.586</td>\n",
       "    </tr>\n",
       "  </tbody>\n",
       "</table>\n",
       "</div>"
      ],
      "text/plain": [
       "       Country  Year  OnGrid_MW\n",
       "0  Afghanistan  2000    194.298\n",
       "1  Afghanistan  2001    194.298\n",
       "2  Afghanistan  2002    194.298\n",
       "3  Afghanistan  2003    201.606\n",
       "4  Afghanistan  2004    216.586"
      ]
     },
     "execution_count": 35,
     "metadata": {},
     "output_type": "execute_result"
    }
   ],
   "source": [
    "# Group and aggregate total installed On grid capacity and non solar on grid capacity by Country & Year\n",
    "total_ongrid_agg = total_ongrid.groupby([\"Country\", \"Year\"], as_index=False)[\n",
    "    \"OnGrid_MW\"\n",
    "].sum()\n",
    "non_solar_ongrid_agg = non_solar_ongrid.groupby([\"Country\", \"Year\"], as_index=False)[\n",
    "    \"OnGrid_MW\"\n",
    "].sum()\n",
    "non_solar_ongrid_agg.head()"
   ]
  },
  {
   "cell_type": "markdown",
   "id": "e8LuYGujvg_c",
   "metadata": {
    "id": "e8LuYGujvg_c"
   },
   "source": [
    "## Correlation analysis between Imports data and On Grid data (solar only) for Ukraine"
   ]
  },
  {
   "cell_type": "code",
   "execution_count": 36,
   "id": "JxKGYbHAEi3B",
   "metadata": {
    "colab": {
     "base_uri": "https://localhost:8080/"
    },
    "collapsed": true,
    "executionInfo": {
     "elapsed": 68,
     "status": "ok",
     "timestamp": 1753128114594,
     "user": {
      "displayName": "Mohamed Altayeb",
      "userId": "11689706532021511115"
     },
     "user_tz": -120
    },
    "id": "JxKGYbHAEi3B",
    "outputId": "713e6a58-9c00-446e-9e55-0760788506ba"
   },
   "outputs": [
    {
     "data": {
      "text/html": [
       "<div>\n",
       "<style scoped>\n",
       "    .dataframe tbody tr th:only-of-type {\n",
       "        vertical-align: middle;\n",
       "    }\n",
       "\n",
       "    .dataframe tbody tr th {\n",
       "        vertical-align: top;\n",
       "    }\n",
       "\n",
       "    .dataframe thead th {\n",
       "        text-align: right;\n",
       "    }\n",
       "</style>\n",
       "<table border=\"1\" class=\"dataframe\">\n",
       "  <thead>\n",
       "    <tr style=\"text-align: right;\">\n",
       "      <th></th>\n",
       "      <th>Country</th>\n",
       "      <th>Year</th>\n",
       "      <th>Imports_USD</th>\n",
       "    </tr>\n",
       "  </thead>\n",
       "  <tbody>\n",
       "    <tr>\n",
       "      <th>308</th>\n",
       "      <td>Ukraine</td>\n",
       "      <td>2010</td>\n",
       "      <td>9.837867e+07</td>\n",
       "    </tr>\n",
       "    <tr>\n",
       "      <th>309</th>\n",
       "      <td>Ukraine</td>\n",
       "      <td>2011</td>\n",
       "      <td>1.209295e+08</td>\n",
       "    </tr>\n",
       "    <tr>\n",
       "      <th>310</th>\n",
       "      <td>Ukraine</td>\n",
       "      <td>2012</td>\n",
       "      <td>1.020807e+09</td>\n",
       "    </tr>\n",
       "    <tr>\n",
       "      <th>311</th>\n",
       "      <td>Ukraine</td>\n",
       "      <td>2013</td>\n",
       "      <td>7.467528e+08</td>\n",
       "    </tr>\n",
       "    <tr>\n",
       "      <th>312</th>\n",
       "      <td>Ukraine</td>\n",
       "      <td>2014</td>\n",
       "      <td>1.106136e+08</td>\n",
       "    </tr>\n",
       "  </tbody>\n",
       "</table>\n",
       "</div>"
      ],
      "text/plain": [
       "     Country  Year   Imports_USD\n",
       "308  Ukraine  2010  9.837867e+07\n",
       "309  Ukraine  2011  1.209295e+08\n",
       "310  Ukraine  2012  1.020807e+09\n",
       "311  Ukraine  2013  7.467528e+08\n",
       "312  Ukraine  2014  1.106136e+08"
      ]
     },
     "execution_count": 36,
     "metadata": {},
     "output_type": "execute_result"
    }
   ],
   "source": [
    "# Group imports data for Ukraine between 2010 and 2024\n",
    "ukraine_imports = imports_df_agg[\n",
    "    (imports_df_agg[\"Country\"] == \"Ukraine\")\n",
    "    & (imports_df_agg[\"Year\"].between(2010, 2024))\n",
    "]\n",
    "ukraine_imports.head()"
   ]
  },
  {
   "cell_type": "code",
   "execution_count": 37,
   "id": "7kFc2MQvxama",
   "metadata": {
    "colab": {
     "base_uri": "https://localhost:8080/"
    },
    "collapsed": true,
    "executionInfo": {
     "elapsed": 99,
     "status": "ok",
     "timestamp": 1753128123505,
     "user": {
      "displayName": "Mohamed Altayeb",
      "userId": "11689706532021511115"
     },
     "user_tz": -120
    },
    "id": "7kFc2MQvxama",
    "outputId": "09f51d8b-eab2-46c3-d3f4-7b999cb50403"
   },
   "outputs": [
    {
     "data": {
      "text/html": [
       "<div>\n",
       "<style scoped>\n",
       "    .dataframe tbody tr th:only-of-type {\n",
       "        vertical-align: middle;\n",
       "    }\n",
       "\n",
       "    .dataframe tbody tr th {\n",
       "        vertical-align: top;\n",
       "    }\n",
       "\n",
       "    .dataframe thead th {\n",
       "        text-align: right;\n",
       "    }\n",
       "</style>\n",
       "<table border=\"1\" class=\"dataframe\">\n",
       "  <thead>\n",
       "    <tr style=\"text-align: right;\">\n",
       "      <th></th>\n",
       "      <th>Country</th>\n",
       "      <th>Year</th>\n",
       "      <th>OnGrid_MW</th>\n",
       "    </tr>\n",
       "  </thead>\n",
       "  <tbody>\n",
       "    <tr>\n",
       "      <th>2899</th>\n",
       "      <td>Ukraine</td>\n",
       "      <td>2010</td>\n",
       "      <td>2.5</td>\n",
       "    </tr>\n",
       "    <tr>\n",
       "      <th>2900</th>\n",
       "      <td>Ukraine</td>\n",
       "      <td>2011</td>\n",
       "      <td>188.2</td>\n",
       "    </tr>\n",
       "    <tr>\n",
       "      <th>2901</th>\n",
       "      <td>Ukraine</td>\n",
       "      <td>2012</td>\n",
       "      <td>371.6</td>\n",
       "    </tr>\n",
       "    <tr>\n",
       "      <th>2902</th>\n",
       "      <td>Ukraine</td>\n",
       "      <td>2013</td>\n",
       "      <td>748.4</td>\n",
       "    </tr>\n",
       "    <tr>\n",
       "      <th>2903</th>\n",
       "      <td>Ukraine</td>\n",
       "      <td>2014</td>\n",
       "      <td>819.1</td>\n",
       "    </tr>\n",
       "  </tbody>\n",
       "</table>\n",
       "</div>"
      ],
      "text/plain": [
       "      Country  Year  OnGrid_MW\n",
       "2899  Ukraine  2010        2.5\n",
       "2900  Ukraine  2011      188.2\n",
       "2901  Ukraine  2012      371.6\n",
       "2902  Ukraine  2013      748.4\n",
       "2903  Ukraine  2014      819.1"
      ]
     },
     "execution_count": 37,
     "metadata": {},
     "output_type": "execute_result"
    }
   ],
   "source": [
    "# Group  solar On grid data for Ukraine between 2010 and 2024\n",
    "ukraine_ongrid = solar_ongrid_agg[\n",
    "    (solar_ongrid_agg[\"Country\"] == \"Ukraine\")\n",
    "    & (solar_ongrid_agg[\"Year\"].between(2010, 2024))\n",
    "]\n",
    "ukraine_ongrid.head()"
   ]
  },
  {
   "cell_type": "code",
   "execution_count": 38,
   "id": "2vWbYdTpFeAd",
   "metadata": {
    "colab": {
     "base_uri": "https://localhost:8080/"
    },
    "collapsed": true,
    "executionInfo": {
     "elapsed": 77,
     "status": "ok",
     "timestamp": 1753128128531,
     "user": {
      "displayName": "Mohamed Altayeb",
      "userId": "11689706532021511115"
     },
     "user_tz": -120
    },
    "id": "2vWbYdTpFeAd",
    "outputId": "7c32cc6c-8064-4ecd-fa1d-823b2ced7d51"
   },
   "outputs": [
    {
     "data": {
      "text/html": [
       "<div>\n",
       "<style scoped>\n",
       "    .dataframe tbody tr th:only-of-type {\n",
       "        vertical-align: middle;\n",
       "    }\n",
       "\n",
       "    .dataframe tbody tr th {\n",
       "        vertical-align: top;\n",
       "    }\n",
       "\n",
       "    .dataframe thead th {\n",
       "        text-align: right;\n",
       "    }\n",
       "</style>\n",
       "<table border=\"1\" class=\"dataframe\">\n",
       "  <thead>\n",
       "    <tr style=\"text-align: right;\">\n",
       "      <th></th>\n",
       "      <th>Year</th>\n",
       "      <th>Imports_USD</th>\n",
       "      <th>OnGrid_MW</th>\n",
       "    </tr>\n",
       "  </thead>\n",
       "  <tbody>\n",
       "    <tr>\n",
       "      <th>0</th>\n",
       "      <td>2010</td>\n",
       "      <td>9.837867e+07</td>\n",
       "      <td>2.5</td>\n",
       "    </tr>\n",
       "    <tr>\n",
       "      <th>1</th>\n",
       "      <td>2011</td>\n",
       "      <td>1.209295e+08</td>\n",
       "      <td>188.2</td>\n",
       "    </tr>\n",
       "    <tr>\n",
       "      <th>2</th>\n",
       "      <td>2012</td>\n",
       "      <td>1.020807e+09</td>\n",
       "      <td>371.6</td>\n",
       "    </tr>\n",
       "    <tr>\n",
       "      <th>3</th>\n",
       "      <td>2013</td>\n",
       "      <td>7.467528e+08</td>\n",
       "      <td>748.4</td>\n",
       "    </tr>\n",
       "    <tr>\n",
       "      <th>4</th>\n",
       "      <td>2014</td>\n",
       "      <td>1.106136e+08</td>\n",
       "      <td>819.1</td>\n",
       "    </tr>\n",
       "  </tbody>\n",
       "</table>\n",
       "</div>"
      ],
      "text/plain": [
       "   Year   Imports_USD  OnGrid_MW\n",
       "0  2010  9.837867e+07        2.5\n",
       "1  2011  1.209295e+08      188.2\n",
       "2  2012  1.020807e+09      371.6\n",
       "3  2013  7.467528e+08      748.4\n",
       "4  2014  1.106136e+08      819.1"
      ]
     },
     "execution_count": 38,
     "metadata": {},
     "output_type": "execute_result"
    }
   ],
   "source": [
    "# Merge on 'Year' and Country\n",
    "ukraine_merged = pd.merge(\n",
    "    ukraine_imports[[\"Year\", \"Imports_USD\"]],\n",
    "    ukraine_ongrid[[\"Year\", \"OnGrid_MW\"]],\n",
    "    on=\"Year\",\n",
    "    how=\"inner\",\n",
    ")\n",
    "ukraine_merged.head()"
   ]
  },
  {
   "cell_type": "code",
   "execution_count": 39,
   "id": "1bItadblFrYz",
   "metadata": {
    "colab": {
     "base_uri": "https://localhost:8080/"
    },
    "executionInfo": {
     "elapsed": 21,
     "status": "ok",
     "timestamp": 1753128131513,
     "user": {
      "displayName": "Mohamed Altayeb",
      "userId": "11689706532021511115"
     },
     "user_tz": -120
    },
    "id": "1bItadblFrYz",
    "outputId": "7e397ec3-d093-4876-a626-607ed8cfcfa0"
   },
   "outputs": [
    {
     "name": "stdout",
     "output_type": "stream",
     "text": [
      "Correlation between import value and on-grid capacity for Ukraine: 0.3438388607077003\n"
     ]
    }
   ],
   "source": [
    "# Compute correlation\n",
    "ukraine_correlation = ukraine_merged[\"Imports_USD\"].corr(ukraine_merged[\"OnGrid_MW\"])\n",
    "print(\n",
    "    \"Correlation between import value and on-grid capacity for Ukraine:\",\n",
    "    ukraine_correlation,\n",
    ")"
   ]
  },
  {
   "cell_type": "code",
   "execution_count": 40,
   "id": "NB4ikBPg5uX9",
   "metadata": {
    "colab": {
     "base_uri": "https://localhost:8080/",
     "height": 151
    },
    "executionInfo": {
     "elapsed": 420,
     "status": "ok",
     "timestamp": 1753127275212,
     "user": {
      "displayName": "Mohamed Altayeb",
      "userId": "11689706532021511115"
     },
     "user_tz": -120
    },
    "id": "NB4ikBPg5uX9",
    "outputId": "594e1260-d9a0-4d64-a7cc-18cba7b8f7bc"
   },
   "outputs": [
    {
     "data": {
      "image/png": "[encoded data removed]",
      "text/plain": [
       "<Figure size 800x400 with 1 Axes>"
      ]
     },
     "metadata": {},
     "output_type": "display_data"
    }
   ],
   "source": [
    "# Scatter plot\n",
    "plt.figure(figsize=(8, 4))\n",
    "sns.scatterplot(\n",
    "    data=ukraine_merged, x=\"Imports_USD\", y=\"OnGrid_MW\", color=\"darkorange\", s=50\n",
    ")\n",
    "plt.title(\"Ukraine: Imports vs On-Grid Solar Deployment\")\n",
    "plt.xlabel(\"Imports (USD)\")\n",
    "plt.ylabel(\"On-Grid Solar Deployment (MW)\")\n",
    "plt.grid(True)\n",
    "plt.tight_layout()\n",
    "plt.show()"
   ]
  },
  {
   "cell_type": "code",
   "execution_count": 41,
   "id": "qoRToFhciXpi",
   "metadata": {
    "id": "qoRToFhciXpi"
   },
   "outputs": [],
   "source": [
    "# Min-Max normalization for both columns\n",
    "ukraine_merged[\"Imports_Normalized\"] = (\n",
    "    ukraine_merged[\"Imports_USD\"] - ukraine_merged[\"Imports_USD\"].min()\n",
    ") / (ukraine_merged[\"Imports_USD\"].max() - ukraine_merged[\"Imports_USD\"].min())\n",
    "\n",
    "ukraine_merged[\"OnGrid_Normalized\"] = (\n",
    "    ukraine_merged[\"OnGrid_MW\"] - ukraine_merged[\"OnGrid_MW\"].min()\n",
    ") / (ukraine_merged[\"OnGrid_MW\"].max() - ukraine_merged[\"OnGrid_MW\"].min())"
   ]
  },
  {
   "cell_type": "code",
   "execution_count": 42,
   "id": "o7qlXI7Sg8qw",
   "metadata": {
    "colab": {
     "base_uri": "https://localhost:8080/",
     "height": 179
    },
    "executionInfo": {
     "elapsed": 671,
     "status": "ok",
     "timestamp": 1753128526081,
     "user": {
      "displayName": "Mohamed Altayeb",
      "userId": "11689706532021511115"
     },
     "user_tz": -120
    },
    "id": "o7qlXI7Sg8qw",
    "outputId": "35d654ea-4d80-4eb0-ac48-ca978cf97e3f"
   },
   "outputs": [
    {
     "data": {
      "image/png": "[encoded data removed]",
      "text/plain": [
       "<Figure size 800x400 with 1 Axes>"
      ]
     },
     "metadata": {},
     "output_type": "display_data"
    }
   ],
   "source": [
    "# Line plots\n",
    "\n",
    "plt.figure(figsize=(8, 4))\n",
    "\n",
    "# Plot normalized imports\n",
    "plt.plot(\n",
    "    ukraine_merged[\"Year\"],\n",
    "    ukraine_merged[\"Imports_Normalized\"],\n",
    "    label=\"Normalized Imports (USD)\",\n",
    "    marker=\"o\",\n",
    "    linestyle=\"-\",\n",
    ")\n",
    "\n",
    "# Plot normalized on-grid solar\n",
    "plt.plot(\n",
    "    ukraine_merged[\"Year\"],\n",
    "    ukraine_merged[\"OnGrid_Normalized\"],\n",
    "    label=\"Normalized On-Grid Solar (MW)\",\n",
    "    marker=\"s\",\n",
    "    linestyle=\"-\",\n",
    ")\n",
    "\n",
    "# Customize plot\n",
    "plt.title(\"Ukraine: Normalized Imports vs. On-Grid Solar (2010–2024)\")\n",
    "plt.xlabel(\"Year\")\n",
    "plt.ylabel(\"Normalized Value (0–1)\")\n",
    "plt.legend()\n",
    "plt.grid(True)\n",
    "plt.xticks(ukraine_merged[\"Year\"])\n",
    "plt.tight_layout()\n",
    "plt.show()"
   ]
  },
  {
   "cell_type": "markdown",
   "id": "vW2R-yxmmnlw",
   "metadata": {
    "id": "vW2R-yxmmnlw"
   },
   "source": [
    "# **Third: On-Grid VS Off-Grid**"
   ]
  },
  {
   "cell_type": "markdown",
   "id": "QELJl27cmym1",
   "metadata": {
    "id": "QELJl27cmym1"
   },
   "source": [
    "##Comparing between non solar on-grid and solar off-grid in Sudan"
   ]
  },
  {
   "cell_type": "code",
   "execution_count": 43,
   "id": "Wf-uQ_2Prc3J",
   "metadata": {
    "colab": {
     "base_uri": "https://localhost:8080/"
    },
    "collapsed": true,
    "executionInfo": {
     "elapsed": 70,
     "status": "ok",
     "timestamp": 1753131696163,
     "user": {
      "displayName": "Mohamed Altayeb",
      "userId": "11689706532021511115"
     },
     "user_tz": -120
    },
    "id": "Wf-uQ_2Prc3J",
    "outputId": "c91f8257-f979-4c1f-d6e7-e55b09394797"
   },
   "outputs": [
    {
     "data": {
      "text/html": [
       "<div>\n",
       "<style scoped>\n",
       "    .dataframe tbody tr th:only-of-type {\n",
       "        vertical-align: middle;\n",
       "    }\n",
       "\n",
       "    .dataframe tbody tr th {\n",
       "        vertical-align: top;\n",
       "    }\n",
       "\n",
       "    .dataframe thead th {\n",
       "        text-align: right;\n",
       "    }\n",
       "</style>\n",
       "<table border=\"1\" class=\"dataframe\">\n",
       "  <thead>\n",
       "    <tr style=\"text-align: right;\">\n",
       "      <th></th>\n",
       "      <th>Country</th>\n",
       "      <th>Year</th>\n",
       "      <th>OffGrid_MW</th>\n",
       "    </tr>\n",
       "  </thead>\n",
       "  <tbody>\n",
       "    <tr>\n",
       "      <th>1526</th>\n",
       "      <td>Sudan (the)</td>\n",
       "      <td>2010</td>\n",
       "      <td>2.26374</td>\n",
       "    </tr>\n",
       "    <tr>\n",
       "      <th>1527</th>\n",
       "      <td>Sudan (the)</td>\n",
       "      <td>2011</td>\n",
       "      <td>3.48881</td>\n",
       "    </tr>\n",
       "    <tr>\n",
       "      <th>1528</th>\n",
       "      <td>Sudan (the)</td>\n",
       "      <td>2012</td>\n",
       "      <td>8.06846</td>\n",
       "    </tr>\n",
       "    <tr>\n",
       "      <th>1529</th>\n",
       "      <td>Sudan (the)</td>\n",
       "      <td>2013</td>\n",
       "      <td>14.66846</td>\n",
       "    </tr>\n",
       "    <tr>\n",
       "      <th>1530</th>\n",
       "      <td>Sudan (the)</td>\n",
       "      <td>2014</td>\n",
       "      <td>16.58646</td>\n",
       "    </tr>\n",
       "  </tbody>\n",
       "</table>\n",
       "</div>"
      ],
      "text/plain": [
       "          Country  Year  OffGrid_MW\n",
       "1526  Sudan (the)  2010     2.26374\n",
       "1527  Sudan (the)  2011     3.48881\n",
       "1528  Sudan (the)  2012     8.06846\n",
       "1529  Sudan (the)  2013    14.66846\n",
       "1530  Sudan (the)  2014    16.58646"
      ]
     },
     "execution_count": 43,
     "metadata": {},
     "output_type": "execute_result"
    }
   ],
   "source": [
    "# Group  solar Off grid data for Sudan between 2010 and 2023\n",
    "sudan_offgrid = solar_offgrid_agg[\n",
    "    (solar_offgrid_agg[\"Country\"] == \"Sudan (the)\")\n",
    "    & (solar_offgrid_agg[\"Year\"].between(2010, 2023))\n",
    "]\n",
    "sudan_offgrid.head()"
   ]
  },
  {
   "cell_type": "code",
   "execution_count": 44,
   "id": "lSxb3zh9r66f",
   "metadata": {
    "colab": {
     "base_uri": "https://localhost:8080/"
    },
    "collapsed": true,
    "executionInfo": {
     "elapsed": 83,
     "status": "ok",
     "timestamp": 1753131671748,
     "user": {
      "displayName": "Mohamed Altayeb",
      "userId": "11689706532021511115"
     },
     "user_tz": -120
    },
    "id": "lSxb3zh9r66f",
    "outputId": "11ab0c12-e123-4d54-f150-84d3c1bd33f3"
   },
   "outputs": [
    {
     "data": {
      "text/html": [
       "<div>\n",
       "<style scoped>\n",
       "    .dataframe tbody tr th:only-of-type {\n",
       "        vertical-align: middle;\n",
       "    }\n",
       "\n",
       "    .dataframe tbody tr th {\n",
       "        vertical-align: top;\n",
       "    }\n",
       "\n",
       "    .dataframe thead th {\n",
       "        text-align: right;\n",
       "    }\n",
       "</style>\n",
       "<table border=\"1\" class=\"dataframe\">\n",
       "  <thead>\n",
       "    <tr style=\"text-align: right;\">\n",
       "      <th></th>\n",
       "      <th>Country</th>\n",
       "      <th>Year</th>\n",
       "      <th>OnGrid_MW</th>\n",
       "    </tr>\n",
       "  </thead>\n",
       "  <tbody>\n",
       "    <tr>\n",
       "      <th>4724</th>\n",
       "      <td>Sudan (the)</td>\n",
       "      <td>2010</td>\n",
       "      <td>2661.0</td>\n",
       "    </tr>\n",
       "    <tr>\n",
       "      <th>4725</th>\n",
       "      <td>Sudan (the)</td>\n",
       "      <td>2011</td>\n",
       "      <td>2661.0</td>\n",
       "    </tr>\n",
       "    <tr>\n",
       "      <th>4726</th>\n",
       "      <td>Sudan (the)</td>\n",
       "      <td>2012</td>\n",
       "      <td>2765.0</td>\n",
       "    </tr>\n",
       "    <tr>\n",
       "      <th>4727</th>\n",
       "      <td>Sudan (the)</td>\n",
       "      <td>2013</td>\n",
       "      <td>2765.0</td>\n",
       "    </tr>\n",
       "    <tr>\n",
       "      <th>4728</th>\n",
       "      <td>Sudan (the)</td>\n",
       "      <td>2014</td>\n",
       "      <td>2765.0</td>\n",
       "    </tr>\n",
       "  </tbody>\n",
       "</table>\n",
       "</div>"
      ],
      "text/plain": [
       "          Country  Year  OnGrid_MW\n",
       "4724  Sudan (the)  2010     2661.0\n",
       "4725  Sudan (the)  2011     2661.0\n",
       "4726  Sudan (the)  2012     2765.0\n",
       "4727  Sudan (the)  2013     2765.0\n",
       "4728  Sudan (the)  2014     2765.0"
      ]
     },
     "execution_count": 44,
     "metadata": {},
     "output_type": "execute_result"
    }
   ],
   "source": [
    "# Group  non solar On grid data for Sudan between 2010 and 2023\n",
    "sudan_ongrid = non_solar_ongrid_agg[\n",
    "    (non_solar_ongrid_agg[\"Country\"] == \"Sudan (the)\")\n",
    "    & (non_solar_ongrid_agg[\"Year\"].between(2010, 2023))\n",
    "]\n",
    "sudan_ongrid.head()"
   ]
  },
  {
   "cell_type": "code",
   "execution_count": 45,
   "id": "MunRKAAOuAul",
   "metadata": {
    "colab": {
     "base_uri": "https://localhost:8080/"
    },
    "collapsed": true,
    "executionInfo": {
     "elapsed": 85,
     "status": "ok",
     "timestamp": 1753131707227,
     "user": {
      "displayName": "Mohamed Altayeb",
      "userId": "11689706532021511115"
     },
     "user_tz": -120
    },
    "id": "MunRKAAOuAul",
    "outputId": "8b6d9181-d915-407c-a2c0-31e39c764eac"
   },
   "outputs": [
    {
     "data": {
      "text/html": [
       "<div>\n",
       "<style scoped>\n",
       "    .dataframe tbody tr th:only-of-type {\n",
       "        vertical-align: middle;\n",
       "    }\n",
       "\n",
       "    .dataframe tbody tr th {\n",
       "        vertical-align: top;\n",
       "    }\n",
       "\n",
       "    .dataframe thead th {\n",
       "        text-align: right;\n",
       "    }\n",
       "</style>\n",
       "<table border=\"1\" class=\"dataframe\">\n",
       "  <thead>\n",
       "    <tr style=\"text-align: right;\">\n",
       "      <th></th>\n",
       "      <th>Year</th>\n",
       "      <th>OffGrid_MW</th>\n",
       "      <th>OnGrid_MW</th>\n",
       "    </tr>\n",
       "  </thead>\n",
       "  <tbody>\n",
       "    <tr>\n",
       "      <th>0</th>\n",
       "      <td>2010</td>\n",
       "      <td>2.26374</td>\n",
       "      <td>2661.0</td>\n",
       "    </tr>\n",
       "    <tr>\n",
       "      <th>1</th>\n",
       "      <td>2011</td>\n",
       "      <td>3.48881</td>\n",
       "      <td>2661.0</td>\n",
       "    </tr>\n",
       "    <tr>\n",
       "      <th>2</th>\n",
       "      <td>2012</td>\n",
       "      <td>8.06846</td>\n",
       "      <td>2765.0</td>\n",
       "    </tr>\n",
       "    <tr>\n",
       "      <th>3</th>\n",
       "      <td>2013</td>\n",
       "      <td>14.66846</td>\n",
       "      <td>2765.0</td>\n",
       "    </tr>\n",
       "    <tr>\n",
       "      <th>4</th>\n",
       "      <td>2014</td>\n",
       "      <td>16.58646</td>\n",
       "      <td>2765.0</td>\n",
       "    </tr>\n",
       "  </tbody>\n",
       "</table>\n",
       "</div>"
      ],
      "text/plain": [
       "   Year  OffGrid_MW  OnGrid_MW\n",
       "0  2010     2.26374     2661.0\n",
       "1  2011     3.48881     2661.0\n",
       "2  2012     8.06846     2765.0\n",
       "3  2013    14.66846     2765.0\n",
       "4  2014    16.58646     2765.0"
      ]
     },
     "execution_count": 45,
     "metadata": {},
     "output_type": "execute_result"
    }
   ],
   "source": [
    "# Merge on 'Year' and Country\n",
    "sudan_merged = pd.merge(\n",
    "    sudan_offgrid[[\"Year\", \"OffGrid_MW\"]],\n",
    "    sudan_ongrid[[\"Year\", \"OnGrid_MW\"]],\n",
    "    on=\"Year\",\n",
    "    how=\"inner\",\n",
    ")\n",
    "sudan_merged.head()"
   ]
  },
  {
   "cell_type": "code",
   "execution_count": 46,
   "id": "OQDVgFuIuxLp",
   "metadata": {
    "id": "OQDVgFuIuxLp"
   },
   "outputs": [],
   "source": [
    "# Normalize OffGrid_MW\n",
    "sudan_merged[\"OffGrid_Normalized\"] = (\n",
    "    sudan_merged[\"OffGrid_MW\"] - sudan_merged[\"OffGrid_MW\"].min()\n",
    ") / (sudan_merged[\"OffGrid_MW\"].max() - sudan_merged[\"OffGrid_MW\"].min())\n",
    "\n",
    "# Normalize OnGrid_MW\n",
    "sudan_merged[\"OnGrid_Normalized\"] = (\n",
    "    sudan_merged[\"OnGrid_MW\"] - sudan_merged[\"OnGrid_MW\"].min()\n",
    ") / (sudan_merged[\"OnGrid_MW\"].max() - sudan_merged[\"OnGrid_MW\"].min())"
   ]
  },
  {
   "cell_type": "code",
   "execution_count": 47,
   "id": "o9AXb01fuy7I",
   "metadata": {
    "colab": {
     "base_uri": "https://localhost:8080/",
     "height": 179
    },
    "executionInfo": {
     "elapsed": 388,
     "status": "ok",
     "timestamp": 1753131717069,
     "user": {
      "displayName": "Mohamed Altayeb",
      "userId": "11689706532021511115"
     },
     "user_tz": -120
    },
    "id": "o9AXb01fuy7I",
    "outputId": "504f53ae-9ed0-459b-9e01-757238a97307"
   },
   "outputs": [
    {
     "data": {
      "image/png": "[encoded data removed]",
      "text/plain": [
       "<Figure size 1000x600 with 1 Axes>"
      ]
     },
     "metadata": {},
     "output_type": "display_data"
    }
   ],
   "source": [
    "# Line plot\n",
    "plt.figure(figsize=(10, 6))\n",
    "\n",
    "# Plot normalized Off-Grid MW\n",
    "plt.plot(\n",
    "    sudan_merged[\"Year\"],\n",
    "    sudan_merged[\"OffGrid_Normalized\"],\n",
    "    label=\"Normalized Off-Grid Solar (MW)\",\n",
    "    marker=\"o\",\n",
    "    linestyle=\"-\",\n",
    ")\n",
    "\n",
    "# Plot normalized On-Grid MW\n",
    "plt.plot(\n",
    "    sudan_merged[\"Year\"],\n",
    "    sudan_merged[\"OnGrid_Normalized\"],\n",
    "    label=\"Normalized On-Grid Non Solar (MW)\",\n",
    "    marker=\"s\",\n",
    "    linestyle=\"-\",\n",
    ")\n",
    "\n",
    "# Customize the plot\n",
    "plt.title(\"Sudan: Normalized Off-Grid Solar vs. On-Grid Non Solar (MW)\")\n",
    "plt.xlabel(\"Year\")\n",
    "plt.ylabel(\"Normalized Value (0–1)\")\n",
    "plt.legend()\n",
    "plt.grid(True)\n",
    "plt.xticks(sudan_merged[\"Year\"])\n",
    "plt.tight_layout()\n",
    "plt.show()"
   ]
  }
 ],
 "metadata": {
  "colab": {
   "collapsed_sections": [
    "DEnmOANCFwgr",
    "GqifOhJDIeeF"
   ],
   "provenance": []
  },
  "kernelspec": {
   "display_name": "base",
   "language": "python",
   "name": "python3"
  },
  "language_info": {
   "codemirror_mode": {
    "name": "ipython",
    "version": 3
   },
   "file_extension": ".py",
   "mimetype": "text/x-python",
   "name": "python",
   "nbconvert_exporter": "python",
   "pygments_lexer": "ipython3",
   "version": "3.12.7"
  }
 },
 "nbformat": 4,
 "nbformat_minor": 5
}
