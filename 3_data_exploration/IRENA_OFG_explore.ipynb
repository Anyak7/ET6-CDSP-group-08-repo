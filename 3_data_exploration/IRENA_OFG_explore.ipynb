{
 "cells": [
  {
   "cell_type": "code",
   "execution_count": 19,
   "id": "caaf856a",
   "metadata": {},
   "outputs": [
    {
     "ename": "FileNotFoundError",
     "evalue": "[Errno 2] No such file or directory: '1_datasets/cleaned_data/IRENA_OFGStats.cleaned.xlsx'",
     "output_type": "error",
     "traceback": [
      "\u001b[1;31m---------------------------------------------------------------------------\u001b[0m",
      "\u001b[1;31mFileNotFoundError\u001b[0m                         Traceback (most recent call last)",
      "Cell \u001b[1;32mIn[19], line 2\u001b[0m\n\u001b[0;32m      1\u001b[0m \u001b[38;5;28;01mimport\u001b[39;00m \u001b[38;5;21;01mpandas\u001b[39;00m \u001b[38;5;28;01mas\u001b[39;00m \u001b[38;5;21;01mpd\u001b[39;00m\n\u001b[1;32m----> 2\u001b[0m cleaned_df \u001b[38;5;241m=\u001b[39m pd\u001b[38;5;241m.\u001b[39mread_excel(\n\u001b[0;32m      3\u001b[0m     \u001b[38;5;124m\"\u001b[39m\u001b[38;5;124m1_datasets/cleaned_data/IRENA_OFGStats.cleaned.xlsx\u001b[39m\u001b[38;5;124m\"\u001b[39m, sheet_name\u001b[38;5;241m=\u001b[39m\u001b[38;5;124m\"\u001b[39m\u001b[38;5;124mCleaned_data\u001b[39m\u001b[38;5;124m\"\u001b[39m\n\u001b[0;32m      4\u001b[0m )\n\u001b[0;32m      5\u001b[0m df \u001b[38;5;241m=\u001b[39m cleaned_df\u001b[38;5;241m.\u001b[39mcopy()\n",
      "File \u001b[1;32mc:\\Users\\mosaeed\\anaconda3\\Lib\\site-packages\\pandas\\io\\excel\\_base.py:495\u001b[0m, in \u001b[0;36mread_excel\u001b[1;34m(io, sheet_name, header, names, index_col, usecols, dtype, engine, converters, true_values, false_values, skiprows, nrows, na_values, keep_default_na, na_filter, verbose, parse_dates, date_parser, date_format, thousands, decimal, comment, skipfooter, storage_options, dtype_backend, engine_kwargs)\u001b[0m\n\u001b[0;32m    493\u001b[0m \u001b[38;5;28;01mif\u001b[39;00m \u001b[38;5;129;01mnot\u001b[39;00m \u001b[38;5;28misinstance\u001b[39m(io, ExcelFile):\n\u001b[0;32m    494\u001b[0m     should_close \u001b[38;5;241m=\u001b[39m \u001b[38;5;28;01mTrue\u001b[39;00m\n\u001b[1;32m--> 495\u001b[0m     io \u001b[38;5;241m=\u001b[39m ExcelFile(\n\u001b[0;32m    496\u001b[0m         io,\n\u001b[0;32m    497\u001b[0m         storage_options\u001b[38;5;241m=\u001b[39mstorage_options,\n\u001b[0;32m    498\u001b[0m         engine\u001b[38;5;241m=\u001b[39mengine,\n\u001b[0;32m    499\u001b[0m         engine_kwargs\u001b[38;5;241m=\u001b[39mengine_kwargs,\n\u001b[0;32m    500\u001b[0m     )\n\u001b[0;32m    501\u001b[0m \u001b[38;5;28;01melif\u001b[39;00m engine \u001b[38;5;129;01mand\u001b[39;00m engine \u001b[38;5;241m!=\u001b[39m io\u001b[38;5;241m.\u001b[39mengine:\n\u001b[0;32m    502\u001b[0m     \u001b[38;5;28;01mraise\u001b[39;00m \u001b[38;5;167;01mValueError\u001b[39;00m(\n\u001b[0;32m    503\u001b[0m         \u001b[38;5;124m\"\u001b[39m\u001b[38;5;124mEngine should not be specified when passing \u001b[39m\u001b[38;5;124m\"\u001b[39m\n\u001b[0;32m    504\u001b[0m         \u001b[38;5;124m\"\u001b[39m\u001b[38;5;124man ExcelFile - ExcelFile already has the engine set\u001b[39m\u001b[38;5;124m\"\u001b[39m\n\u001b[0;32m    505\u001b[0m     )\n",
      "File \u001b[1;32mc:\\Users\\mosaeed\\anaconda3\\Lib\\site-packages\\pandas\\io\\excel\\_base.py:1550\u001b[0m, in \u001b[0;36mExcelFile.__init__\u001b[1;34m(self, path_or_buffer, engine, storage_options, engine_kwargs)\u001b[0m\n\u001b[0;32m   1548\u001b[0m     ext \u001b[38;5;241m=\u001b[39m \u001b[38;5;124m\"\u001b[39m\u001b[38;5;124mxls\u001b[39m\u001b[38;5;124m\"\u001b[39m\n\u001b[0;32m   1549\u001b[0m \u001b[38;5;28;01melse\u001b[39;00m:\n\u001b[1;32m-> 1550\u001b[0m     ext \u001b[38;5;241m=\u001b[39m inspect_excel_format(\n\u001b[0;32m   1551\u001b[0m         content_or_path\u001b[38;5;241m=\u001b[39mpath_or_buffer, storage_options\u001b[38;5;241m=\u001b[39mstorage_options\n\u001b[0;32m   1552\u001b[0m     )\n\u001b[0;32m   1553\u001b[0m     \u001b[38;5;28;01mif\u001b[39;00m ext \u001b[38;5;129;01mis\u001b[39;00m \u001b[38;5;28;01mNone\u001b[39;00m:\n\u001b[0;32m   1554\u001b[0m         \u001b[38;5;28;01mraise\u001b[39;00m \u001b[38;5;167;01mValueError\u001b[39;00m(\n\u001b[0;32m   1555\u001b[0m             \u001b[38;5;124m\"\u001b[39m\u001b[38;5;124mExcel file format cannot be determined, you must specify \u001b[39m\u001b[38;5;124m\"\u001b[39m\n\u001b[0;32m   1556\u001b[0m             \u001b[38;5;124m\"\u001b[39m\u001b[38;5;124man engine manually.\u001b[39m\u001b[38;5;124m\"\u001b[39m\n\u001b[0;32m   1557\u001b[0m         )\n",
      "File \u001b[1;32mc:\\Users\\mosaeed\\anaconda3\\Lib\\site-packages\\pandas\\io\\excel\\_base.py:1402\u001b[0m, in \u001b[0;36minspect_excel_format\u001b[1;34m(content_or_path, storage_options)\u001b[0m\n\u001b[0;32m   1399\u001b[0m \u001b[38;5;28;01mif\u001b[39;00m \u001b[38;5;28misinstance\u001b[39m(content_or_path, \u001b[38;5;28mbytes\u001b[39m):\n\u001b[0;32m   1400\u001b[0m     content_or_path \u001b[38;5;241m=\u001b[39m BytesIO(content_or_path)\n\u001b[1;32m-> 1402\u001b[0m \u001b[38;5;28;01mwith\u001b[39;00m get_handle(\n\u001b[0;32m   1403\u001b[0m     content_or_path, \u001b[38;5;124m\"\u001b[39m\u001b[38;5;124mrb\u001b[39m\u001b[38;5;124m\"\u001b[39m, storage_options\u001b[38;5;241m=\u001b[39mstorage_options, is_text\u001b[38;5;241m=\u001b[39m\u001b[38;5;28;01mFalse\u001b[39;00m\n\u001b[0;32m   1404\u001b[0m ) \u001b[38;5;28;01mas\u001b[39;00m handle:\n\u001b[0;32m   1405\u001b[0m     stream \u001b[38;5;241m=\u001b[39m handle\u001b[38;5;241m.\u001b[39mhandle\n\u001b[0;32m   1406\u001b[0m     stream\u001b[38;5;241m.\u001b[39mseek(\u001b[38;5;241m0\u001b[39m)\n",
      "File \u001b[1;32mc:\\Users\\mosaeed\\anaconda3\\Lib\\site-packages\\pandas\\io\\common.py:882\u001b[0m, in \u001b[0;36mget_handle\u001b[1;34m(path_or_buf, mode, encoding, compression, memory_map, is_text, errors, storage_options)\u001b[0m\n\u001b[0;32m    873\u001b[0m         handle \u001b[38;5;241m=\u001b[39m \u001b[38;5;28mopen\u001b[39m(\n\u001b[0;32m    874\u001b[0m             handle,\n\u001b[0;32m    875\u001b[0m             ioargs\u001b[38;5;241m.\u001b[39mmode,\n\u001b[1;32m   (...)\u001b[0m\n\u001b[0;32m    878\u001b[0m             newline\u001b[38;5;241m=\u001b[39m\u001b[38;5;124m\"\u001b[39m\u001b[38;5;124m\"\u001b[39m,\n\u001b[0;32m    879\u001b[0m         )\n\u001b[0;32m    880\u001b[0m     \u001b[38;5;28;01melse\u001b[39;00m:\n\u001b[0;32m    881\u001b[0m         \u001b[38;5;66;03m# Binary mode\u001b[39;00m\n\u001b[1;32m--> 882\u001b[0m         handle \u001b[38;5;241m=\u001b[39m \u001b[38;5;28mopen\u001b[39m(handle, ioargs\u001b[38;5;241m.\u001b[39mmode)\n\u001b[0;32m    883\u001b[0m     handles\u001b[38;5;241m.\u001b[39mappend(handle)\n\u001b[0;32m    885\u001b[0m \u001b[38;5;66;03m# Convert BytesIO or file objects passed with an encoding\u001b[39;00m\n",
      "\u001b[1;31mFileNotFoundError\u001b[0m: [Errno 2] No such file or directory: '1_datasets/cleaned_data/IRENA_OFGStats.cleaned.xlsx'"
     ]
    }
   ],
   "source": [
    "import pandas as pd\n",
    "cleaned_df = pd.read_excel(\n",
    "    \"1_datasets/cleaned_data/IRENA_OFGStats.cleaned.xlsx\", sheet_name=\"Cleaned_data\"\n",
    ")\n",
    "df = cleaned_df.copy()"
   ]
  },
  {
   "cell_type": "code",
   "execution_count": 8,
   "id": "45aab106",
   "metadata": {},
   "outputs": [
    {
     "name": "stdout",
     "output_type": "stream",
     "text": [
      "<class 'pandas.core.frame.DataFrame'>\n",
      "RangeIndex: 52343 entries, 0 to 52342\n",
      "Data columns (total 16 columns):\n",
      " #   Column            Non-Null Count  Dtype  \n",
      "---  ------            --------------  -----  \n",
      " 0   Region            52343 non-null  object \n",
      " 1   UN Sub-region     52343 non-null  object \n",
      " 2   Country           52343 non-null  object \n",
      " 3   IRENA Label       52343 non-null  object \n",
      " 4   ISO Code          52343 non-null  object \n",
      " 5   Flow              52343 non-null  object \n",
      " 6   Group Technology  52343 non-null  object \n",
      " 7   Sub-Technology    52343 non-null  object \n",
      " 8   Technology        52343 non-null  object \n",
      " 9   Product Code      51205 non-null  float64\n",
      " 10  DataType          52343 non-null  object \n",
      " 11  Value             52321 non-null  float64\n",
      " 12  Unit              52343 non-null  object \n",
      " 13  Year              52343 non-null  int64  \n",
      " 14  Ptype             52343 non-null  int64  \n",
      " 15  Publication       52343 non-null  object \n",
      "dtypes: float64(2), int64(2), object(12)\n",
      "memory usage: 6.4+ MB\n"
     ]
    },
    {
     "data": {
      "text/plain": [
       "Region               object\n",
       "UN Sub-region        object\n",
       "Country              object\n",
       "IRENA Label          object\n",
       "ISO Code             object\n",
       "Flow                 object\n",
       "Group Technology     object\n",
       "Sub-Technology       object\n",
       "Technology           object\n",
       "Product Code        float64\n",
       "DataType             object\n",
       "Value               float64\n",
       "Unit                 object\n",
       "Year                  int64\n",
       "Ptype                 int64\n",
       "Publication          object\n",
       "dtype: object"
      ]
     },
     "execution_count": 8,
     "metadata": {},
     "output_type": "execute_result"
    }
   ],
   "source": [
    "df.info()  # Data types, non-null counts, memory usage\n",
    "df.dtypes  # Data types of each column\n"
   ]
  },
  {
   "cell_type": "code",
   "execution_count": 5,
   "id": "b3c09f87",
   "metadata": {},
   "outputs": [
    {
     "data": {
      "text/html": [
       "<div>\n",
       "<style scoped>\n",
       "    .dataframe tbody tr th:only-of-type {\n",
       "        vertical-align: middle;\n",
       "    }\n",
       "\n",
       "    .dataframe tbody tr th {\n",
       "        vertical-align: top;\n",
       "    }\n",
       "\n",
       "    .dataframe thead th {\n",
       "        text-align: right;\n",
       "    }\n",
       "</style>\n",
       "<table border=\"1\" class=\"dataframe\">\n",
       "  <thead>\n",
       "    <tr style=\"text-align: right;\">\n",
       "      <th></th>\n",
       "      <th>Region</th>\n",
       "      <th>UN Sub-region</th>\n",
       "      <th>Country</th>\n",
       "      <th>IRENA Label</th>\n",
       "      <th>ISO Code</th>\n",
       "      <th>Flow</th>\n",
       "      <th>Group Technology</th>\n",
       "      <th>Sub-Technology</th>\n",
       "      <th>Technology</th>\n",
       "      <th>Product Code</th>\n",
       "      <th>DataType</th>\n",
       "      <th>Value</th>\n",
       "      <th>Unit</th>\n",
       "      <th>Year</th>\n",
       "      <th>Ptype</th>\n",
       "      <th>Publication</th>\n",
       "    </tr>\n",
       "  </thead>\n",
       "  <tbody>\n",
       "    <tr>\n",
       "      <th>11551</th>\n",
       "      <td>Africa</td>\n",
       "      <td>Sub-Saharan Africa</td>\n",
       "      <td>Mali</td>\n",
       "      <td>Mali</td>\n",
       "      <td>MLI</td>\n",
       "      <td>Off-grid biogas production</td>\n",
       "      <td>Bioenergy</td>\n",
       "      <td>Biogas production</td>\n",
       "      <td>Production of biogas for commercial and public...</td>\n",
       "      <td>25390.0</td>\n",
       "      <td>BIOPROD</td>\n",
       "      <td>0.00000</td>\n",
       "      <td>1,000 m3</td>\n",
       "      <td>2001</td>\n",
       "      <td>220</td>\n",
       "      <td>2024 OFG RE Statistics</td>\n",
       "    </tr>\n",
       "    <tr>\n",
       "      <th>11677</th>\n",
       "      <td>Africa</td>\n",
       "      <td>Sub-Saharan Africa</td>\n",
       "      <td>Botswana</td>\n",
       "      <td>Botswana</td>\n",
       "      <td>BWA</td>\n",
       "      <td>Off-grid biogas production</td>\n",
       "      <td>Bioenergy</td>\n",
       "      <td>Biogas production</td>\n",
       "      <td>Production of biogas for cooking</td>\n",
       "      <td>25390.0</td>\n",
       "      <td>BIOPROD</td>\n",
       "      <td>0.00000</td>\n",
       "      <td>1,000 m3</td>\n",
       "      <td>2017</td>\n",
       "      <td>220</td>\n",
       "      <td>2024 OFG RE Statistics</td>\n",
       "    </tr>\n",
       "    <tr>\n",
       "      <th>41378</th>\n",
       "      <td>Asia</td>\n",
       "      <td>South-eastern Asia</td>\n",
       "      <td>Myanmar</td>\n",
       "      <td>Myanmar</td>\n",
       "      <td>MMR</td>\n",
       "      <td>Off-grid capacity</td>\n",
       "      <td>Solar energy</td>\n",
       "      <td>Solar lights</td>\n",
       "      <td>Solar lights (&lt;11 W)</td>\n",
       "      <td>24121.0</td>\n",
       "      <td>ELECCAP</td>\n",
       "      <td>0.25705</td>\n",
       "      <td>MW</td>\n",
       "      <td>2014</td>\n",
       "      <td>220</td>\n",
       "      <td>2024 OFG RE Statistics</td>\n",
       "    </tr>\n",
       "    <tr>\n",
       "      <th>17861</th>\n",
       "      <td>Oceania</td>\n",
       "      <td>Australia and New Zealand</td>\n",
       "      <td>Australia</td>\n",
       "      <td>Australia</td>\n",
       "      <td>AUS</td>\n",
       "      <td>Off-grid energy access</td>\n",
       "      <td>Solar energy</td>\n",
       "      <td>Solar mini-grids</td>\n",
       "      <td>Number of people connected to solar mini-grids...</td>\n",
       "      <td>24126.0</td>\n",
       "      <td>ELECACC</td>\n",
       "      <td>0.00000</td>\n",
       "      <td>Thousands</td>\n",
       "      <td>2003</td>\n",
       "      <td>220</td>\n",
       "      <td>2024 OFG RE Statistics</td>\n",
       "    </tr>\n",
       "    <tr>\n",
       "      <th>4594</th>\n",
       "      <td>Africa</td>\n",
       "      <td>Sub-Saharan Africa</td>\n",
       "      <td>Ethiopia</td>\n",
       "      <td>Ethiopia</td>\n",
       "      <td>ETH</td>\n",
       "      <td>Off-grid capacity</td>\n",
       "      <td>Solar energy</td>\n",
       "      <td>Solar pumps</td>\n",
       "      <td>Solar pumps (public water supply)</td>\n",
       "      <td>24125.0</td>\n",
       "      <td>ELECCAP</td>\n",
       "      <td>0.00000</td>\n",
       "      <td>MW</td>\n",
       "      <td>2004</td>\n",
       "      <td>220</td>\n",
       "      <td>2024 OFG RE Statistics</td>\n",
       "    </tr>\n",
       "  </tbody>\n",
       "</table>\n",
       "</div>"
      ],
      "text/plain": [
       "        Region              UN Sub-region    Country IRENA Label ISO Code  \\\n",
       "11551   Africa         Sub-Saharan Africa       Mali        Mali      MLI   \n",
       "11677   Africa         Sub-Saharan Africa   Botswana    Botswana      BWA   \n",
       "41378     Asia         South-eastern Asia    Myanmar     Myanmar      MMR   \n",
       "17861  Oceania  Australia and New Zealand  Australia   Australia      AUS   \n",
       "4594    Africa         Sub-Saharan Africa   Ethiopia    Ethiopia      ETH   \n",
       "\n",
       "                             Flow Group Technology     Sub-Technology  \\\n",
       "11551  Off-grid biogas production        Bioenergy  Biogas production   \n",
       "11677  Off-grid biogas production        Bioenergy  Biogas production   \n",
       "41378           Off-grid capacity     Solar energy       Solar lights   \n",
       "17861      Off-grid energy access     Solar energy   Solar mini-grids   \n",
       "4594            Off-grid capacity     Solar energy        Solar pumps   \n",
       "\n",
       "                                              Technology  Product Code  \\\n",
       "11551  Production of biogas for commercial and public...       25390.0   \n",
       "11677                   Production of biogas for cooking       25390.0   \n",
       "41378                               Solar lights (<11 W)       24121.0   \n",
       "17861  Number of people connected to solar mini-grids...       24126.0   \n",
       "4594                   Solar pumps (public water supply)       24125.0   \n",
       "\n",
       "      DataType    Value       Unit  Year  Ptype             Publication  \n",
       "11551  BIOPROD  0.00000   1,000 m3  2001    220  2024 OFG RE Statistics  \n",
       "11677  BIOPROD  0.00000   1,000 m3  2017    220  2024 OFG RE Statistics  \n",
       "41378  ELECCAP  0.25705         MW  2014    220  2024 OFG RE Statistics  \n",
       "17861  ELECACC  0.00000  Thousands  2003    220  2024 OFG RE Statistics  \n",
       "4594   ELECCAP  0.00000         MW  2004    220  2024 OFG RE Statistics  "
      ]
     },
     "execution_count": 5,
     "metadata": {},
     "output_type": "execute_result"
    }
   ],
   "source": [
    "df.sample(5)"
   ]
  },
  {
   "cell_type": "code",
   "execution_count": 16,
   "id": "8183258e",
   "metadata": {},
   "outputs": [
    {
     "name": "stdout",
     "output_type": "stream",
     "text": [
      "['Solar PV (Others)' 'Solar PV (Health)' 'Solar PV (Commercial/Public)'\n",
      " 'Solar PV (Education)' 'Solar PV (Not specified)' 'Solar PV (Industry)'\n",
      " 'Solar PV (Tourism)' 'Solar PV (Public lighting)'\n",
      " 'Solar PV (Communication)' 'Solar PV (Residential)'\n",
      " 'Solar PV (Agriculture)' 'Solar PV (Multi-purpose)' 'Solar mini-grids'\n",
      " 'Solar lights' 'Solar pumps' 'Solar home systems' 'Onshore wind energy'\n",
      " 'Hydropower' 'Biogas (electricity)' 'Other solid biofuels (electricity)'\n",
      " 'Ethanol cookers' 'Solar cookers' 'Biogas (cooking)' 'Biogas production'\n",
      " 'Solar lights and SHS']\n",
      "[2000 2001 2002 2003 2004 2005 2006 2007 2008 2009 2010 2011 2012 2013\n",
      " 2014 2015 2016 2017 2018 2019 2020 2021 2022 2023]\n"
     ]
    }
   ],
   "source": [
    "print(df['Sub-Technology'].unique())\n",
    "print(df['Year'].unique())"
   ]
  },
  {
   "cell_type": "code",
   "execution_count": null,
   "id": "c404d1da",
   "metadata": {},
   "outputs": [
    {
     "data": {
      "text/plain": [
       "Region                 0\n",
       "UN Sub-region          0\n",
       "Country                0\n",
       "IRENA Label            0\n",
       "ISO Code               0\n",
       "Flow                   0\n",
       "Group Technology       0\n",
       "Sub-Technology         0\n",
       "Technology             0\n",
       "Product Code        1138\n",
       "DataType               0\n",
       "Value                 22\n",
       "Unit                   0\n",
       "Year                   0\n",
       "Ptype                  0\n",
       "Publication            0\n",
       "dtype: int64"
      ]
     },
     "execution_count": 7,
     "metadata": {},
     "output_type": "execute_result"
    }
   ],
   "source": []
  },
  {
   "cell_type": "code",
   "execution_count": null,
   "id": "1f8b5152",
   "metadata": {},
   "outputs": [],
   "source": []
  }
 ],
 "metadata": {
  "kernelspec": {
   "display_name": "base",
   "language": "python",
   "name": "python3"
  },
  "language_info": {
   "codemirror_mode": {
    "name": "ipython",
    "version": 3
   },
   "file_extension": ".py",
   "mimetype": "text/x-python",
   "name": "python",
   "nbconvert_exporter": "python",
   "pygments_lexer": "ipython3",
   "version": "3.12.3"
  }
 },
 "nbformat": 4,
 "nbformat_minor": 5
}
