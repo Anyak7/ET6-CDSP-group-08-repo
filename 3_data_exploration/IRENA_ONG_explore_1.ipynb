{
 "cells": [
  {
   "cell_type": "markdown",
   "id": "2dd35fd6",
   "metadata": {},
   "source": [
    "## **1. Exploratory Data Analysis**"
   ]
  },
  {
   "cell_type": "markdown",
   "id": "aada7731",
   "metadata": {},
   "source": [
    "In this data exploration, we will look at the data cleaned and  analyzes electricity generation data to understand how conflict affects energy infrastructure development. The analysis follows a structured approach:\n",
    "\n",
    "**Data Preparation**: Standard setup including data loading, quality checks, and missing value assessment.\n",
    "\n",
    "**Key Analysis Areas**:\n",
    "- **Temporal Trends**: Compares electricity capacity growth over time between conflict and non-conflict countries\n",
    "- **Solar Focus**: Examines solar energy deployment specifically in conflict-affected regions\n",
    "- **Energy Types**: Analyzes distribution differences between renewable and non-renewable capacity\n",
    "- **Producer Analysis**: Investigates how different types of electricity producers are distributed across conflict vs. stable regions\n",
    "\n",
    "**Purpose**: To reveal impact energy infrastructure development, particularly for renewable technologies in both conflict and non-conflict countries."
   ]
  },
  {
   "cell_type": "markdown",
   "id": "688892f2",
   "metadata": {},
   "source": [
    "[Key findings for EDA 1](#key-finding)\n",
    "\n"
   ]
  },
  {
   "cell_type": "code",
   "execution_count": 2,
   "id": "970ea2fc",
   "metadata": {},
   "outputs": [],
   "source": [
    "# 1. Import Required Libraries\n",
    "import pandas as pd\n",
    "import matplotlib.pyplot as plt\n",
    "import seaborn as sns"
   ]
  },
  {
   "cell_type": "code",
   "execution_count": 2,
   "id": "7fd1bc46",
   "metadata": {},
   "outputs": [],
   "source": [
    "# Visualization settings\n",
    "%matplotlib inline\n",
    "sns.set(style=\"whitegrid\", palette=\"pastel\")"
   ]
  },
  {
   "cell_type": "code",
   "execution_count": 3,
   "id": "b62c6f6c",
   "metadata": {},
   "outputs": [],
   "source": [
    "# 2. Load Dataset\n",
    "url = \"https://raw.githubusercontent.com/MIT-Emerging-Talent/ET6-CDSP-group-08-repo/ongrid_analysis/1_datasets/cleaned_data/IRENA_ONGRIDStats.cleaned.xlsx\"\n",
    "df = pd.read_excel(url, engine=\"openpyxl\")"
   ]
  },
  {
   "cell_type": "code",
   "execution_count": 4,
   "id": "2ccaabf7",
   "metadata": {},
   "outputs": [
    {
     "name": "stdout",
     "output_type": "stream",
     "text": [
      "   Region       Sub-region  Country ISO3 code         RE or Non-RE  \\\n",
      "0  Africa  Northern Africa  Algeria       DZA  Total Non-Renewable   \n",
      "1  Africa  Northern Africa  Algeria       DZA  Total Non-Renewable   \n",
      "2  Africa  Northern Africa  Algeria       DZA  Total Non-Renewable   \n",
      "3  Africa  Northern Africa  Algeria       DZA  Total Non-Renewable   \n",
      "4  Africa  Northern Africa  Algeria       DZA  Total Non-Renewable   \n",
      "\n",
      "  Group Technology   Technology Sub-Technology        Producer Type  Year  \\\n",
      "0     Fossil fuels  Natural gas    Natural gas  On-grid electricity  2000   \n",
      "1     Fossil fuels  Natural gas    Natural gas  On-grid electricity  2001   \n",
      "2     Fossil fuels  Natural gas    Natural gas  On-grid electricity  2002   \n",
      "3     Fossil fuels  Natural gas    Natural gas  On-grid electricity  2003   \n",
      "4     Fossil fuels  Natural gas    Natural gas  On-grid electricity  2004   \n",
      "\n",
      "   Electricity Installed Capacity (MW) Conflict_Status  \n",
      "0                              5459.01    Non-Conflict  \n",
      "1                              5455.50    Non-Conflict  \n",
      "2                              5891.01    Non-Conflict  \n",
      "3                              6013.24    Non-Conflict  \n",
      "4                              6305.24    Non-Conflict  \n",
      "Shape of dataset: (38381, 12)\n"
     ]
    }
   ],
   "source": [
    "# 3. Quick Preview\n",
    "print(df.head())\n",
    "print(\"Shape of dataset:\", df.shape)"
   ]
  },
  {
   "cell_type": "code",
   "execution_count": 5,
   "id": "028c090a",
   "metadata": {},
   "outputs": [
    {
     "name": "stdout",
     "output_type": "stream",
     "text": [
      "<class 'pandas.core.frame.DataFrame'>\n",
      "RangeIndex: 38381 entries, 0 to 38380\n",
      "Data columns (total 12 columns):\n",
      " #   Column                               Non-Null Count  Dtype  \n",
      "---  ------                               --------------  -----  \n",
      " 0   Region                               38381 non-null  object \n",
      " 1   Sub-region                           38381 non-null  object \n",
      " 2   Country                              38381 non-null  object \n",
      " 3   ISO3 code                            38381 non-null  object \n",
      " 4   RE or Non-RE                         38381 non-null  object \n",
      " 5   Group Technology                     38381 non-null  object \n",
      " 6   Technology                           38381 non-null  object \n",
      " 7   Sub-Technology                       38381 non-null  object \n",
      " 8   Producer Type                        38381 non-null  object \n",
      " 9   Year                                 38381 non-null  int64  \n",
      " 10  Electricity Installed Capacity (MW)  38381 non-null  float64\n",
      " 11  Conflict_Status                      38381 non-null  object \n",
      "dtypes: float64(1), int64(1), object(10)\n",
      "memory usage: 3.5+ MB\n",
      "None\n",
      "               Year  Electricity Installed Capacity (MW)\n",
      "count  38381.000000                         3.838100e+04\n",
      "mean    2013.529715                         3.787876e+03\n",
      "std        7.008350                         2.796739e+04\n",
      "min     2000.000000                         1.000000e-03\n",
      "25%     2008.000000                         5.140800e+00\n",
      "50%     2014.000000                         6.735000e+01\n",
      "75%     2020.000000                         7.900000e+02\n",
      "max     2024.000000                         1.228502e+06\n",
      "Columns: ['Region', 'Sub-region', 'Country', 'ISO3 code', 'RE or Non-RE', 'Group Technology', 'Technology', 'Sub-Technology', 'Producer Type', 'Year', 'Electricity Installed Capacity (MW)', 'Conflict_Status']\n"
     ]
    }
   ],
   "source": [
    "# 4. Basic Info and Summary\n",
    "print(df.info())\n",
    "print(df.describe())\n",
    "print(\"Columns:\", df.columns.tolist())"
   ]
  },
  {
   "cell_type": "code",
   "execution_count": 6,
   "id": "8fb6713a",
   "metadata": {},
   "outputs": [
    {
     "name": "stdout",
     "output_type": "stream",
     "text": [
      "Missing values per column:\n",
      "Region                                 0\n",
      "Sub-region                             0\n",
      "Country                                0\n",
      "ISO3 code                              0\n",
      "RE or Non-RE                           0\n",
      "Group Technology                       0\n",
      "Technology                             0\n",
      "Sub-Technology                         0\n",
      "Producer Type                          0\n",
      "Year                                   0\n",
      "Electricity Installed Capacity (MW)    0\n",
      "Conflict_Status                        0\n",
      "dtype: int64\n"
     ]
    }
   ],
   "source": [
    "# 5. Missing Values\n",
    "print(\"Missing values per column:\")\n",
    "print(df.isnull().sum())"
   ]
  },
  {
   "cell_type": "code",
   "execution_count": 7,
   "id": "ec022142",
   "metadata": {},
   "outputs": [
    {
     "name": "stdout",
     "output_type": "stream",
     "text": [
      "Number of Countries: 224\n",
      "Year Range: 2000 - 2024\n",
      "Years: [2000, 2001, 2002, 2003, 2004, 2005, 2006, 2007, 2008, 2009, 2010, 2011, 2012, 2013, 2014, 2015, 2016, 2017, 2018, 2019, 2020, 2021, 2022, 2023, 2024]\n"
     ]
    },
    {
     "ename": "KeyError",
     "evalue": "'Classification'",
     "output_type": "error",
     "traceback": [
      "\u001b[1;31m---------------------------------------------------------------------------\u001b[0m",
      "\u001b[1;31mKeyError\u001b[0m                                  Traceback (most recent call last)",
      "File \u001b[1;32mc:\\Users\\Lenovo\\anaconda3\\Lib\\site-packages\\pandas\\core\\indexes\\base.py:3805\u001b[0m, in \u001b[0;36mIndex.get_loc\u001b[1;34m(self, key)\u001b[0m\n\u001b[0;32m   3804\u001b[0m \u001b[38;5;28;01mtry\u001b[39;00m:\n\u001b[1;32m-> 3805\u001b[0m     \u001b[38;5;28;01mreturn\u001b[39;00m \u001b[38;5;28mself\u001b[39m\u001b[38;5;241m.\u001b[39m_engine\u001b[38;5;241m.\u001b[39mget_loc(casted_key)\n\u001b[0;32m   3806\u001b[0m \u001b[38;5;28;01mexcept\u001b[39;00m \u001b[38;5;167;01mKeyError\u001b[39;00m \u001b[38;5;28;01mas\u001b[39;00m err:\n",
      "File \u001b[1;32mindex.pyx:167\u001b[0m, in \u001b[0;36mpandas._libs.index.IndexEngine.get_loc\u001b[1;34m()\u001b[0m\n",
      "File \u001b[1;32mindex.pyx:196\u001b[0m, in \u001b[0;36mpandas._libs.index.IndexEngine.get_loc\u001b[1;34m()\u001b[0m\n",
      "File \u001b[1;32mpandas\\\\_libs\\\\hashtable_class_helper.pxi:7081\u001b[0m, in \u001b[0;36mpandas._libs.hashtable.PyObjectHashTable.get_item\u001b[1;34m()\u001b[0m\n",
      "File \u001b[1;32mpandas\\\\_libs\\\\hashtable_class_helper.pxi:7089\u001b[0m, in \u001b[0;36mpandas._libs.hashtable.PyObjectHashTable.get_item\u001b[1;34m()\u001b[0m\n",
      "\u001b[1;31mKeyError\u001b[0m: 'Classification'",
      "\nThe above exception was the direct cause of the following exception:\n",
      "\u001b[1;31mKeyError\u001b[0m                                  Traceback (most recent call last)",
      "Cell \u001b[1;32mIn[7], line 5\u001b[0m\n\u001b[0;32m      3\u001b[0m \u001b[38;5;28mprint\u001b[39m(\u001b[38;5;124m\"\u001b[39m\u001b[38;5;124mYear Range:\u001b[39m\u001b[38;5;124m\"\u001b[39m, df[\u001b[38;5;124m\"\u001b[39m\u001b[38;5;124mYear\u001b[39m\u001b[38;5;124m\"\u001b[39m]\u001b[38;5;241m.\u001b[39mmin(), \u001b[38;5;124m\"\u001b[39m\u001b[38;5;124m-\u001b[39m\u001b[38;5;124m\"\u001b[39m, df[\u001b[38;5;124m\"\u001b[39m\u001b[38;5;124mYear\u001b[39m\u001b[38;5;124m\"\u001b[39m]\u001b[38;5;241m.\u001b[39mmax())\n\u001b[0;32m      4\u001b[0m \u001b[38;5;28mprint\u001b[39m(\u001b[38;5;124m\"\u001b[39m\u001b[38;5;124mYears:\u001b[39m\u001b[38;5;124m\"\u001b[39m, \u001b[38;5;28msorted\u001b[39m(df[\u001b[38;5;124m\"\u001b[39m\u001b[38;5;124mYear\u001b[39m\u001b[38;5;124m\"\u001b[39m]\u001b[38;5;241m.\u001b[39munique()))\n\u001b[1;32m----> 5\u001b[0m \u001b[38;5;28mprint\u001b[39m(\u001b[38;5;124m\"\u001b[39m\u001b[38;5;124mClassification:\u001b[39m\u001b[38;5;124m\"\u001b[39m, df[\u001b[38;5;124m\"\u001b[39m\u001b[38;5;124mClassification\u001b[39m\u001b[38;5;124m\"\u001b[39m]\u001b[38;5;241m.\u001b[39munique())\n\u001b[0;32m      6\u001b[0m \u001b[38;5;28mprint\u001b[39m(\u001b[38;5;124m\"\u001b[39m\u001b[38;5;124mProducer Types:\u001b[39m\u001b[38;5;124m\"\u001b[39m, df[\u001b[38;5;124m\"\u001b[39m\u001b[38;5;124mProducer Type\u001b[39m\u001b[38;5;124m\"\u001b[39m]\u001b[38;5;241m.\u001b[39munique())\n\u001b[0;32m      7\u001b[0m \u001b[38;5;28mprint\u001b[39m(\u001b[38;5;124m\"\u001b[39m\u001b[38;5;124mRE Categories:\u001b[39m\u001b[38;5;124m\"\u001b[39m, df[\u001b[38;5;124m\"\u001b[39m\u001b[38;5;124mRE or Non-RE\u001b[39m\u001b[38;5;124m\"\u001b[39m]\u001b[38;5;241m.\u001b[39munique())\n",
      "File \u001b[1;32mc:\\Users\\Lenovo\\anaconda3\\Lib\\site-packages\\pandas\\core\\frame.py:4102\u001b[0m, in \u001b[0;36mDataFrame.__getitem__\u001b[1;34m(self, key)\u001b[0m\n\u001b[0;32m   4100\u001b[0m \u001b[38;5;28;01mif\u001b[39;00m \u001b[38;5;28mself\u001b[39m\u001b[38;5;241m.\u001b[39mcolumns\u001b[38;5;241m.\u001b[39mnlevels \u001b[38;5;241m>\u001b[39m \u001b[38;5;241m1\u001b[39m:\n\u001b[0;32m   4101\u001b[0m     \u001b[38;5;28;01mreturn\u001b[39;00m \u001b[38;5;28mself\u001b[39m\u001b[38;5;241m.\u001b[39m_getitem_multilevel(key)\n\u001b[1;32m-> 4102\u001b[0m indexer \u001b[38;5;241m=\u001b[39m \u001b[38;5;28mself\u001b[39m\u001b[38;5;241m.\u001b[39mcolumns\u001b[38;5;241m.\u001b[39mget_loc(key)\n\u001b[0;32m   4103\u001b[0m \u001b[38;5;28;01mif\u001b[39;00m is_integer(indexer):\n\u001b[0;32m   4104\u001b[0m     indexer \u001b[38;5;241m=\u001b[39m [indexer]\n",
      "File \u001b[1;32mc:\\Users\\Lenovo\\anaconda3\\Lib\\site-packages\\pandas\\core\\indexes\\base.py:3812\u001b[0m, in \u001b[0;36mIndex.get_loc\u001b[1;34m(self, key)\u001b[0m\n\u001b[0;32m   3807\u001b[0m     \u001b[38;5;28;01mif\u001b[39;00m \u001b[38;5;28misinstance\u001b[39m(casted_key, \u001b[38;5;28mslice\u001b[39m) \u001b[38;5;129;01mor\u001b[39;00m (\n\u001b[0;32m   3808\u001b[0m         \u001b[38;5;28misinstance\u001b[39m(casted_key, abc\u001b[38;5;241m.\u001b[39mIterable)\n\u001b[0;32m   3809\u001b[0m         \u001b[38;5;129;01mand\u001b[39;00m \u001b[38;5;28many\u001b[39m(\u001b[38;5;28misinstance\u001b[39m(x, \u001b[38;5;28mslice\u001b[39m) \u001b[38;5;28;01mfor\u001b[39;00m x \u001b[38;5;129;01min\u001b[39;00m casted_key)\n\u001b[0;32m   3810\u001b[0m     ):\n\u001b[0;32m   3811\u001b[0m         \u001b[38;5;28;01mraise\u001b[39;00m InvalidIndexError(key)\n\u001b[1;32m-> 3812\u001b[0m     \u001b[38;5;28;01mraise\u001b[39;00m \u001b[38;5;167;01mKeyError\u001b[39;00m(key) \u001b[38;5;28;01mfrom\u001b[39;00m \u001b[38;5;21;01merr\u001b[39;00m\n\u001b[0;32m   3813\u001b[0m \u001b[38;5;28;01mexcept\u001b[39;00m \u001b[38;5;167;01mTypeError\u001b[39;00m:\n\u001b[0;32m   3814\u001b[0m     \u001b[38;5;66;03m# If we have a listlike key, _check_indexing_error will raise\u001b[39;00m\n\u001b[0;32m   3815\u001b[0m     \u001b[38;5;66;03m#  InvalidIndexError. Otherwise we fall through and re-raise\u001b[39;00m\n\u001b[0;32m   3816\u001b[0m     \u001b[38;5;66;03m#  the TypeError.\u001b[39;00m\n\u001b[0;32m   3817\u001b[0m     \u001b[38;5;28mself\u001b[39m\u001b[38;5;241m.\u001b[39m_check_indexing_error(key)\n",
      "\u001b[1;31mKeyError\u001b[0m: 'Classification'"
     ]
    }
   ],
   "source": [
    "# 6. Unique Value Checks (Sanity Check)\n",
    "print(\"Number of Countries:\", df[\"Country\"].nunique())\n",
    "print(\"Year Range:\", df[\"Year\"].min(), \"-\", df[\"Year\"].max())\n",
    "print(\"Years:\", sorted(df[\"Year\"].unique()))\n",
    "print(\"Classification:\", df[\"Classification\"].unique())\n",
    "print(\"Producer Types:\", df[\"Producer Type\"].unique())\n",
    "print(\"RE Categories:\", df[\"RE or Non-RE\"].unique())"
   ]
  },
  {
   "cell_type": "code",
   "execution_count": null,
   "id": "e87bbaf4",
   "metadata": {},
   "outputs": [],
   "source": [
    "df[\"Country\"].value_counts()\n",
    "df[\"Year\"].min(), df[\"Year\"].max()\n",
    "df[\"Classification\"].value_counts()"
   ]
  },
  {
   "cell_type": "code",
   "execution_count": null,
   "id": "90e97ab0",
   "metadata": {},
   "outputs": [],
   "source": [
    "# 7. Value Distributions\n",
    "print(df[\"Country\"].value_counts())\n",
    "print(df[\"Classification\"].value_counts())"
   ]
  },
  {
   "cell_type": "code",
   "execution_count": null,
   "id": "50146423",
   "metadata": {},
   "outputs": [],
   "source": [
    "df.head()\n",
    "df.tail()"
   ]
  },
  {
   "cell_type": "code",
   "execution_count": null,
   "id": "ad5a0d6e",
   "metadata": {},
   "outputs": [],
   "source": [
    "# 8. Trends: Installed Capacity Over Time\n",
    "df_grouped = (\n",
    "    df.groupby([\"Year\", \"Classification\"])[\"Electricity Installed Capacity (MW)\"]\n",
    "    .sum()\n",
    "    .reset_index()\n",
    ")\n",
    "\n",
    "plt.figure(figsize=(10, 6))\n",
    "sns.lineplot(\n",
    "    data=df_grouped,\n",
    "    x=\"Year\",\n",
    "    y=\"Electricity Installed Capacity (MW)\",\n",
    "    hue=\"Classification\",  # Changed from \"Conflict_Status\" to \"Classification\"\n",
    ")\n",
    "plt.title(\"Electricity Capacity Over Time: Choosen Conflict and Other Comparison Countries\")\n",
    "plt.ylabel(\"Installed Capacity (MW)\")\n",
    "plt.xlabel(\"Year\")\n",
    "plt.xticks(rotation=45)\n",
    "plt.tight_layout()\n",
    "plt.show()\n"
   ]
  },
  {
   "cell_type": "markdown",
   "id": "b3f27d41",
   "metadata": {},
   "source": [
    "**Key Finding:** Non-conflict countries show rapid growth more volatile in electricity from 2000 to 2025, reaching approximately 10,000 MW; contrasting withKey Finding: From 2000 to 2025, non-conflict countries exhibit rapid but volatile growth in electricity, ultimately reaching around 10,000 MW. In contrast, conflict-affected countries show a steady, linear increase in capacity. This suggests that while non-conflict regions scale quickly, growth in conflict areas is more stable and sustained, reflecting a consistent investment in energy infrastructure despite underlying challenges. ultimately steady, consistent growth seen in conflict areas. The growth is linear and sustained, demonstrating stable energy infrastructure development in conflict regions."
   ]
  },
  {
   "cell_type": "code",
   "execution_count": null,
   "id": "692fa058",
   "metadata": {},
   "outputs": [],
   "source": [
    "# 8.1 Filter: Solar Energy in Both Conflict and Non-Conflict Countries\n",
    "df_solar = df[df[\"Technology\"].str.contains(\"Solar\", case=False, na=False)]\n",
    "\n",
    "# Group by Year and Classification (changed from Conflict_Status)\n",
    "df_solar_grouped = (\n",
    "    df_solar.groupby([\"Year\", \"Classification\"])[\"Electricity Installed Capacity (MW)\"]\n",
    "    .sum()\n",
    "    .reset_index()\n",
    ")\n",
    "\n",
    "# Plot Solar Capacity: Conflict vs Non-Conflict\n",
    "plt.figure(figsize=(10, 6))\n",
    "sns.lineplot(\n",
    "    data=df_solar_grouped,\n",
    "    x=\"Year\",\n",
    "    y=\"Electricity Installed Capacity (MW)\",\n",
    "    hue=\"Classification\",  # Changed from Conflict_Status\n",
    "    marker=\"o\",\n",
    ")\n",
    "plt.title(\"Solar Energy Capacity Over Time: Conflict vs Other Comparison Countries\")\n",
    "plt.ylabel(\"Installed Capacity (MW)\")\n",
    "plt.xlabel(\"Year\")\n",
    "plt.xticks(rotation=45)\n",
    "plt.legend(title=\"Status\")\n",
    "plt.tight_layout()\n",
    "plt.show()\n",
    "\n",
    "# Optional: Create separate plots for each status\n",
    "fig, (ax1, ax2) = plt.subplots(1, 2, figsize=(15, 6))\n",
    "\n",
    "# Conflict countries only\n",
    "df_solar_conflict = df_solar_grouped[\n",
    "    df_solar_grouped[\"Classification\"] == \"Conflict Countries\"\n",
    "]\n",
    "sns.lineplot(\n",
    "    data=df_solar_conflict,\n",
    "    x=\"Year\",\n",
    "    y=\"Electricity Installed Capacity (MW)\",\n",
    "    ax=ax1,\n",
    "    color=\"red\",\n",
    "    marker=\"o\",\n",
    ")\n",
    "ax1.set_title(\"Solar Capacity in Conflict-Affected Countries\")\n",
    "ax1.set_ylabel(\"Installed Capacity (MW)\")\n",
    "ax1.set_xlabel(\"Year\")\n",
    "ax1.tick_params(axis=\"x\", rotation=45)\n",
    "\n",
    "# Non-conflict countries only\n",
    "df_solar_non_conflict = df_solar_grouped[\n",
    "    df_solar_grouped[\"Classification\"] == \"Comparison Countries\"\n",
    "]\n",
    "sns.lineplot(\n",
    "    data=df_solar_non_conflict,\n",
    "    x=\"Year\",\n",
    "    y=\"Electricity Installed Capacity (MW)\",\n",
    "    ax=ax2,\n",
    "    color=\"green\",\n",
    "    marker=\"o\",\n",
    ")\n",
    "ax2.set_title(\"Solar Capacity in Other Comparison Countries\")\n",
    "ax2.set_ylabel(\"Installed Capacity (MW)\")\n",
    "ax2.set_xlabel(\"Year\")\n",
    "ax2.tick_params(axis=\"x\", rotation=45)\n",
    "\n",
    "plt.tight_layout()\n",
    "plt.show()\n",
    "\n",
    "# Optional: Show the difference/ratio between conflict and non-conflict\n",
    "# Pivot to have classification as columns\n",
    "df_solar_pivot = df_solar_grouped.pivot(\n",
    "    index=\"Year\", columns=\"Classification\", values=\"Electricity Installed Capacity (MW)\"\n",
    ").fillna(0)\n",
    "\n",
    "# Add ratio column\n",
    "df_solar_pivot[\"Ratio\"] = (\n",
    "    df_solar_pivot[\"Comparison Countries\"] / df_solar_pivot[\"Conflict Countries\"]\n",
    ")\n",
    "\n",
    "# Plot the ratio\n",
    "plt.figure(figsize=(10, 6))\n",
    "sns.lineplot(data=df_solar_pivot.reset_index(), x=\"Year\", y=\"Ratio\", marker=\"o\")\n",
    "plt.title(\"Solar Capacity Ratio: Conflict to Other Comparison Countries\")\n",
    "plt.ylabel(\"Ratio (Non-Conflict / Conflict)\")\n",
    "plt.xlabel(\"Year\")\n",
    "plt.axhline(y=1, color=\"red\", linestyle=\"--\", alpha=0.7, label=\"Equal capacity\")\n",
    "plt.legend()\n",
    "plt.xticks(rotation=45)\n",
    "plt.tight_layout()\n",
    "plt.show()\n"
   ]
  },
  {
   "cell_type": "markdown",
   "id": "42330aa8",
   "metadata": {},
   "source": [
    "\n",
    "\n",
    "**Key Findings:** \n",
    "\n",
    " **Graph 1: Solar Energy Capacity Over Time - Conflict vs Non-Conflict**\n",
    "Armed conflicts have severely limited solar PV **deployment** - conflict countries show near-zero solar capacity throughout 15 years while non-conflict countries achieved exponential growth to 2 million MW.\n",
    "\n",
    " **Graph 2: Individual Country Trends**  \n",
    "\n",
    "Conflict countries pattern:  \n",
    "- Flat growth from 2000-2015\n",
    "- Brief peak around 2018-2020 (~9,000 MW)\n",
    "- Sharp decline after 2020, returning to low levels  \n",
    "\n",
    "Non-conflict countries pattern:   \n",
    "- Steady exponential growth curve\n",
    "- Consistent upward trajectory with no major setbacks\n",
    "- Reaches ~1.8×10⁶ MW by 2025\n",
    "\n",
    "\n",
    " **Graph 3: Solar Capacity Ratio Analysis**\n",
    "The deployment gap between conflict and non-conflict areas is extreme (100,000+ times difference), meaning **household consumption** of solar PV in conflict areas is essentially zero, creating massive energy inequality.\n",
    "\n"
   ]
  },
  {
   "cell_type": "code",
   "execution_count": null,
   "id": "af81d11d",
   "metadata": {},
   "outputs": [],
   "source": [
    "# 8.1 Filter: Solar in Conflict-Affected Countries Only\n",
    "df_solar_conflict = df[\n",
    "    (df[\"Conflict_Status\"] == \"Conflict Countries\")\n",
    "    & (df[\"Technology\"].str.contains(\"Solar\", case=False, na=False))\n",
    "]\n",
    "\n",
    "# Group by Year\n",
    "df_solar_conflict_grouped = (\n",
    "    df_solar_conflict.groupby(\"Year\")[\"Electricity Installed Capacity (MW)\"]\n",
    "    .sum()\n",
    "    .reset_index()\n",
    ")\n",
    "\n",
    "# Plot\n",
    "plt.figure(figsize=(10, 6))\n",
    "sns.lineplot(\n",
    "    data=df_solar_conflict_grouped, x=\"Year\", y=\"Electricity Installed Capacity (MW)\"\n",
    ")\n",
    "plt.title(\"Solar Capacity Over Time in Conflict-Affected Countries\")\n",
    "plt.ylabel(\"Installed Capacity (MW)\")\n",
    "plt.xlabel(\"Year\")\n",
    "plt.xticks(rotation=45)\n",
    "plt.tight_layout()\n",
    "plt.show()"
   ]
  },
  {
   "cell_type": "markdown",
   "id": "bd36e461",
   "metadata": {},
   "source": [
    "**Key Finding:** Solar capacity in conflict-affected regions shows a dramatic growth trajectory, particularly accelerating after 2015. The capacity grows from near zero in 2005 to over 8,000 MW by around 2020, with the steepest growth occurring between 2015-2020, suggesting increased investment in solar infrastructure despite conflict conditions."
   ]
  },
  {
   "cell_type": "code",
   "execution_count": null,
   "id": "a95b050e",
   "metadata": {},
   "outputs": [],
   "source": [
    "# 9. Box Plot: Renewable vs Nonrenewable\n",
    "plt.figure(figsize=(8, 5))\n",
    "sns.boxplot(data=df, x=\"RE or Non-RE\", y=\"Electricity Installed Capacity (MW)\")\n",
    "plt.title(\"Installed Capacity: Renewable vs Nonrenewable\")\n",
    "plt.ylabel(\"Installed Capacity (MW)\")\n",
    "plt.xlabel(\"Energy Type\")\n",
    "plt.tight_layout()\n",
    "plt.show()"
   ]
  },
  {
   "cell_type": "markdown",
   "id": "d8225861",
   "metadata": {},
   "source": [
    "**Key Finding:** The energy infrastructure is heavily skewed toward non-renewable sources. Total non-renewable capacity dominates at around 0.5 MW, while total renewable capacity is significantly lower at approximately 0.4 MW. This suggests a continued reliance on traditional energy sources rather than sustainable alternatives."
   ]
  },
  {
   "cell_type": "code",
   "execution_count": null,
   "id": "329c0a73",
   "metadata": {},
   "outputs": [],
   "source": [
    "# 10. On-Grid Producer Types by Conflict Status\n",
    "plt.figure(figsize=(10, 6))\n",
    "sns.countplot(data=df, x=\"Producer Type\", hue=\"CClassification\")\n",
    "plt.title(\"Distribution of Producer Types (Conflict vs Other Comparison Countries)\")\n",
    "plt.xlabel(\"Producer Type\")\n",
    "plt.ylabel(\"Count\")\n",
    "plt.tight_layout()\n",
    "plt.show()"
   ]
  },
  {
   "cell_type": "markdown",
   "id": "33eb8fd7",
   "metadata": {},
   "source": [
    "**Key Finding:** There's a dramatic disparity in energy production between conflict and non-conflict regions. On-grid electricity production is overwhelmingly concentrated in non-conflict areas (approximately 30,000 units), while conflict-affected regions show minimal on-grid production. Off-grid electricity shows some presence in both regions, but still favors non-conflict areas."
   ]
  },
  {
   "cell_type": "markdown",
   "id": "aa24b080",
   "metadata": {},
   "source": [
    "<a id=\"key-finding\"></a>"
   ]
  },
  {
   "cell_type": "markdown",
   "id": "e33e4cd8",
   "metadata": {},
   "source": [
    "## **Key Findings from EDA 1:** "
   ]
  },
  {
   "cell_type": "markdown",
   "id": "208d5f60",
   "metadata": {},
   "source": [
    "The analysis revealed a substantial gap in electricity capacity between conflict and non-conflict countries, with conflict-affected regions showing significantly lower infrastructure development.\n",
    "\n",
    "\n",
    "**Main Discoveries:**\n",
    "- Conflict areas are getting MORE solar power, not less - went from almost zero to 8,000+ MW in 15 years\n",
    "- People skip regular electricity and go straight to solar in conflict zones\n",
    "- Solar growth exploded after 2015 in conflict areas\n",
    "- Peaceful countries grow solar slowly and steadily\n",
    "\n",
    "**Surprising Finding:**\n",
    "War-torn areas are actually adopting solar faster than peaceful ones!\n",
    "\n",
    "**Overall Insight:** While conflict regions face significant challenges in traditional energy infrastructure, they're experiencing remarkable growth in solar capacity, potentially leapfrogging traditional energy systems.\n"
   ]
  },
  {
   "cell_type": "markdown",
   "id": "cd636fca",
   "metadata": {},
   "source": [
    "**EDA 2 Focus Shift:** Given this stark disparity, the next phase will conduct a deeper dive exclusively into conflict-affected countries to understand the internal dynamics of energy development within these challenging environments."
   ]
  }
 ],
 "metadata": {
  "kernelspec": {
   "display_name": "base",
   "language": "python",
   "name": "python3"
  },
  "language_info": {
   "codemirror_mode": {
    "name": "ipython",
    "version": 3
   },
   "file_extension": ".py",
   "mimetype": "text/x-python",
   "name": "python",
   "nbconvert_exporter": "python",
   "pygments_lexer": "ipython3",
   "version": "3.12.7"
  }
 },
 "nbformat": 4,
 "nbformat_minor": 5
}
